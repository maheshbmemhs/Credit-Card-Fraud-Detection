{
 "cells": [
  {
   "cell_type": "markdown",
   "metadata": {},
   "source": [
    "## Credit Card Fraud Detection\n",
    "\n",
    "In this project you will predict fraudulent credit card transactions with the help of Machine learning models. Please import the following libraries to get started."
   ]
  },
  {
   "cell_type": "code",
   "execution_count": 6,
   "metadata": {
    "scrolled": false
   },
   "outputs": [],
   "source": [
    "import numpy as np\n",
    "import pandas as pd\n",
    "\n",
    "import matplotlib.pyplot as plt\n",
    "%matplotlib inline\n",
    "import seaborn as sns\n",
    "\n",
    "from sklearn import metrics\n",
    "from sklearn import preprocessing"
   ]
  },
  {
   "cell_type": "markdown",
   "metadata": {},
   "source": [
    "## Exploratory data analysis"
   ]
  },
  {
   "cell_type": "code",
   "execution_count": 7,
   "metadata": {},
   "outputs": [
    {
     "data": {
      "text/html": [
       "<div>\n",
       "<style scoped>\n",
       "    .dataframe tbody tr th:only-of-type {\n",
       "        vertical-align: middle;\n",
       "    }\n",
       "\n",
       "    .dataframe tbody tr th {\n",
       "        vertical-align: top;\n",
       "    }\n",
       "\n",
       "    .dataframe thead th {\n",
       "        text-align: right;\n",
       "    }\n",
       "</style>\n",
       "<table border=\"1\" class=\"dataframe\">\n",
       "  <thead>\n",
       "    <tr style=\"text-align: right;\">\n",
       "      <th></th>\n",
       "      <th>Time</th>\n",
       "      <th>V1</th>\n",
       "      <th>V2</th>\n",
       "      <th>V3</th>\n",
       "      <th>V4</th>\n",
       "      <th>V5</th>\n",
       "      <th>V6</th>\n",
       "      <th>V7</th>\n",
       "      <th>V8</th>\n",
       "      <th>V9</th>\n",
       "      <th>...</th>\n",
       "      <th>V21</th>\n",
       "      <th>V22</th>\n",
       "      <th>V23</th>\n",
       "      <th>V24</th>\n",
       "      <th>V25</th>\n",
       "      <th>V26</th>\n",
       "      <th>V27</th>\n",
       "      <th>V28</th>\n",
       "      <th>Amount</th>\n",
       "      <th>Class</th>\n",
       "    </tr>\n",
       "  </thead>\n",
       "  <tbody>\n",
       "    <tr>\n",
       "      <th>0</th>\n",
       "      <td>0.0</td>\n",
       "      <td>-1.359807</td>\n",
       "      <td>-0.072781</td>\n",
       "      <td>2.536347</td>\n",
       "      <td>1.378155</td>\n",
       "      <td>-0.338321</td>\n",
       "      <td>0.462388</td>\n",
       "      <td>0.239599</td>\n",
       "      <td>0.098698</td>\n",
       "      <td>0.363787</td>\n",
       "      <td>...</td>\n",
       "      <td>-0.018307</td>\n",
       "      <td>0.277838</td>\n",
       "      <td>-0.110474</td>\n",
       "      <td>0.066928</td>\n",
       "      <td>0.128539</td>\n",
       "      <td>-0.189115</td>\n",
       "      <td>0.133558</td>\n",
       "      <td>-0.021053</td>\n",
       "      <td>149.62</td>\n",
       "      <td>0</td>\n",
       "    </tr>\n",
       "    <tr>\n",
       "      <th>1</th>\n",
       "      <td>0.0</td>\n",
       "      <td>1.191857</td>\n",
       "      <td>0.266151</td>\n",
       "      <td>0.166480</td>\n",
       "      <td>0.448154</td>\n",
       "      <td>0.060018</td>\n",
       "      <td>-0.082361</td>\n",
       "      <td>-0.078803</td>\n",
       "      <td>0.085102</td>\n",
       "      <td>-0.255425</td>\n",
       "      <td>...</td>\n",
       "      <td>-0.225775</td>\n",
       "      <td>-0.638672</td>\n",
       "      <td>0.101288</td>\n",
       "      <td>-0.339846</td>\n",
       "      <td>0.167170</td>\n",
       "      <td>0.125895</td>\n",
       "      <td>-0.008983</td>\n",
       "      <td>0.014724</td>\n",
       "      <td>2.69</td>\n",
       "      <td>0</td>\n",
       "    </tr>\n",
       "    <tr>\n",
       "      <th>2</th>\n",
       "      <td>1.0</td>\n",
       "      <td>-1.358354</td>\n",
       "      <td>-1.340163</td>\n",
       "      <td>1.773209</td>\n",
       "      <td>0.379780</td>\n",
       "      <td>-0.503198</td>\n",
       "      <td>1.800499</td>\n",
       "      <td>0.791461</td>\n",
       "      <td>0.247676</td>\n",
       "      <td>-1.514654</td>\n",
       "      <td>...</td>\n",
       "      <td>0.247998</td>\n",
       "      <td>0.771679</td>\n",
       "      <td>0.909412</td>\n",
       "      <td>-0.689281</td>\n",
       "      <td>-0.327642</td>\n",
       "      <td>-0.139097</td>\n",
       "      <td>-0.055353</td>\n",
       "      <td>-0.059752</td>\n",
       "      <td>378.66</td>\n",
       "      <td>0</td>\n",
       "    </tr>\n",
       "    <tr>\n",
       "      <th>3</th>\n",
       "      <td>1.0</td>\n",
       "      <td>-0.966272</td>\n",
       "      <td>-0.185226</td>\n",
       "      <td>1.792993</td>\n",
       "      <td>-0.863291</td>\n",
       "      <td>-0.010309</td>\n",
       "      <td>1.247203</td>\n",
       "      <td>0.237609</td>\n",
       "      <td>0.377436</td>\n",
       "      <td>-1.387024</td>\n",
       "      <td>...</td>\n",
       "      <td>-0.108300</td>\n",
       "      <td>0.005274</td>\n",
       "      <td>-0.190321</td>\n",
       "      <td>-1.175575</td>\n",
       "      <td>0.647376</td>\n",
       "      <td>-0.221929</td>\n",
       "      <td>0.062723</td>\n",
       "      <td>0.061458</td>\n",
       "      <td>123.50</td>\n",
       "      <td>0</td>\n",
       "    </tr>\n",
       "    <tr>\n",
       "      <th>4</th>\n",
       "      <td>2.0</td>\n",
       "      <td>-1.158233</td>\n",
       "      <td>0.877737</td>\n",
       "      <td>1.548718</td>\n",
       "      <td>0.403034</td>\n",
       "      <td>-0.407193</td>\n",
       "      <td>0.095921</td>\n",
       "      <td>0.592941</td>\n",
       "      <td>-0.270533</td>\n",
       "      <td>0.817739</td>\n",
       "      <td>...</td>\n",
       "      <td>-0.009431</td>\n",
       "      <td>0.798278</td>\n",
       "      <td>-0.137458</td>\n",
       "      <td>0.141267</td>\n",
       "      <td>-0.206010</td>\n",
       "      <td>0.502292</td>\n",
       "      <td>0.219422</td>\n",
       "      <td>0.215153</td>\n",
       "      <td>69.99</td>\n",
       "      <td>0</td>\n",
       "    </tr>\n",
       "  </tbody>\n",
       "</table>\n",
       "<p>5 rows × 31 columns</p>\n",
       "</div>"
      ],
      "text/plain": [
       "   Time        V1        V2        V3        V4        V5        V6        V7  \\\n",
       "0   0.0 -1.359807 -0.072781  2.536347  1.378155 -0.338321  0.462388  0.239599   \n",
       "1   0.0  1.191857  0.266151  0.166480  0.448154  0.060018 -0.082361 -0.078803   \n",
       "2   1.0 -1.358354 -1.340163  1.773209  0.379780 -0.503198  1.800499  0.791461   \n",
       "3   1.0 -0.966272 -0.185226  1.792993 -0.863291 -0.010309  1.247203  0.237609   \n",
       "4   2.0 -1.158233  0.877737  1.548718  0.403034 -0.407193  0.095921  0.592941   \n",
       "\n",
       "         V8        V9  ...       V21       V22       V23       V24       V25  \\\n",
       "0  0.098698  0.363787  ... -0.018307  0.277838 -0.110474  0.066928  0.128539   \n",
       "1  0.085102 -0.255425  ... -0.225775 -0.638672  0.101288 -0.339846  0.167170   \n",
       "2  0.247676 -1.514654  ...  0.247998  0.771679  0.909412 -0.689281 -0.327642   \n",
       "3  0.377436 -1.387024  ... -0.108300  0.005274 -0.190321 -1.175575  0.647376   \n",
       "4 -0.270533  0.817739  ... -0.009431  0.798278 -0.137458  0.141267 -0.206010   \n",
       "\n",
       "        V26       V27       V28  Amount  Class  \n",
       "0 -0.189115  0.133558 -0.021053  149.62      0  \n",
       "1  0.125895 -0.008983  0.014724    2.69      0  \n",
       "2 -0.139097 -0.055353 -0.059752  378.66      0  \n",
       "3 -0.221929  0.062723  0.061458  123.50      0  \n",
       "4  0.502292  0.219422  0.215153   69.99      0  \n",
       "\n",
       "[5 rows x 31 columns]"
      ]
     },
     "execution_count": 7,
     "metadata": {},
     "output_type": "execute_result"
    }
   ],
   "source": [
    "df = pd.read_csv('creditcard.csv')\n",
    "df.head()"
   ]
  },
  {
   "cell_type": "code",
   "execution_count": 8,
   "metadata": {
    "scrolled": true
   },
   "outputs": [
    {
     "name": "stdout",
     "output_type": "stream",
     "text": [
      "<class 'pandas.core.frame.DataFrame'>\n",
      "RangeIndex: 284807 entries, 0 to 284806\n",
      "Data columns (total 31 columns):\n",
      " #   Column  Non-Null Count   Dtype  \n",
      "---  ------  --------------   -----  \n",
      " 0   Time    284807 non-null  float64\n",
      " 1   V1      284807 non-null  float64\n",
      " 2   V2      284807 non-null  float64\n",
      " 3   V3      284807 non-null  float64\n",
      " 4   V4      284807 non-null  float64\n",
      " 5   V5      284807 non-null  float64\n",
      " 6   V6      284807 non-null  float64\n",
      " 7   V7      284807 non-null  float64\n",
      " 8   V8      284807 non-null  float64\n",
      " 9   V9      284807 non-null  float64\n",
      " 10  V10     284807 non-null  float64\n",
      " 11  V11     284807 non-null  float64\n",
      " 12  V12     284807 non-null  float64\n",
      " 13  V13     284807 non-null  float64\n",
      " 14  V14     284807 non-null  float64\n",
      " 15  V15     284807 non-null  float64\n",
      " 16  V16     284807 non-null  float64\n",
      " 17  V17     284807 non-null  float64\n",
      " 18  V18     284807 non-null  float64\n",
      " 19  V19     284807 non-null  float64\n",
      " 20  V20     284807 non-null  float64\n",
      " 21  V21     284807 non-null  float64\n",
      " 22  V22     284807 non-null  float64\n",
      " 23  V23     284807 non-null  float64\n",
      " 24  V24     284807 non-null  float64\n",
      " 25  V25     284807 non-null  float64\n",
      " 26  V26     284807 non-null  float64\n",
      " 27  V27     284807 non-null  float64\n",
      " 28  V28     284807 non-null  float64\n",
      " 29  Amount  284807 non-null  float64\n",
      " 30  Class   284807 non-null  int64  \n",
      "dtypes: float64(30), int64(1)\n",
      "memory usage: 67.4 MB\n"
     ]
    }
   ],
   "source": [
    "#observe the different feature type present in the data\n",
    "df.info()\n"
   ]
  },
  {
   "cell_type": "markdown",
   "metadata": {},
   "source": [
    "Here we will observe the distribution of our classes"
   ]
  },
  {
   "cell_type": "code",
   "execution_count": 9,
   "metadata": {},
   "outputs": [],
   "source": [
    "classes=df['Class'].value_counts()\n",
    "normal_share=classes[0]/df['Class'].count()*100\n",
    "fraud_share=classes[1]/df['Class'].count()*100"
   ]
  },
  {
   "cell_type": "code",
   "execution_count": 14,
   "metadata": {},
   "outputs": [
    {
     "data": {
      "text/plain": [
       "<matplotlib.axes._subplots.AxesSubplot at 0x185846c58d0>"
      ]
     },
     "execution_count": 14,
     "metadata": {},
     "output_type": "execute_result"
    },
    {
     "data": {
      "image/png": "[encoded data removed]",
      "text/plain": [
       "<Figure size 432x288 with 2 Axes>"
      ]
     },
     "metadata": {
      "needs_background": "light"
     },
     "output_type": "display_data"
    }
   ],
   "source": [
    "# Create a bar plot for the number and percentage of fraudulent vs non-fraudulent transcations\n",
    "plt.subplot(1,2,1)\n",
    "df['Class'].value_counts().plot(kind='bar')\n",
    "plt.subplot(1,2,2)\n",
    "(df['Class'].value_counts()*100/len(df['Class'])).plot(kind='bar')"
   ]
  },
  {
   "cell_type": "code",
   "execution_count": 16,
   "metadata": {},
   "outputs": [
    {
     "data": {
      "text/plain": [
       "<matplotlib.axes._subplots.AxesSubplot at 0x18586589fd0>"
      ]
     },
     "execution_count": 16,
     "metadata": {},
     "output_type": "execute_result"
    },
    {
     "data": {
      "image/png": "[encoded data removed]",
      "text/plain": [
       "<Figure size 432x288 with 1 Axes>"
      ]
     },
     "metadata": {
      "needs_background": "light"
     },
     "output_type": "display_data"
    }
   ],
   "source": [
    "# Create a scatter plot to observe the distribution of classes with time\n",
    "sns.scatterplot(df['Time'],df['Class'])"
   ]
  },
  {
   "cell_type": "code",
   "execution_count": 17,
   "metadata": {},
   "outputs": [
    {
     "data": {
      "text/plain": [
       "<matplotlib.axes._subplots.AxesSubplot at 0x1858675b390>"
      ]
     },
     "execution_count": 17,
     "metadata": {},
     "output_type": "execute_result"
    },
    {
     "data": {
      "image/png": "[encoded data removed]",
      "text/plain": [
       "<Figure size 432x288 with 1 Axes>"
      ]
     },
     "metadata": {
      "needs_background": "light"
     },
     "output_type": "display_data"
    }
   ],
   "source": [
    "# Create a scatter plot to observe the distribution of classes with Amount\n",
    "sns.scatterplot(df['Amount'],df['Class'])"
   ]
  },
  {
   "cell_type": "code",
   "execution_count": 18,
   "metadata": {},
   "outputs": [],
   "source": [
    "# Drop unnecessary columns\n",
    "df.drop(columns=['Time'],inplace=True)"
   ]
  },
  {
   "cell_type": "markdown",
   "metadata": {},
   "source": [
    "### Splitting the data into train & test data"
   ]
  },
  {
   "cell_type": "code",
   "execution_count": 38,
   "metadata": {},
   "outputs": [],
   "source": [
    "y=df['Class'] #class variable\n",
    "X=df.drop(columns=['Class'])"
   ]
  },
  {
   "cell_type": "code",
   "execution_count": 212,
   "metadata": {},
   "outputs": [],
   "source": [
    "from sklearn.model_selection import train_test_split\n",
    "X_train, X_test, y_train, y_test = train_test_split(X, y, \n",
    "                                                    train_size=0.7,\n",
    "                                                    test_size = 0.3, random_state=100,stratify=y )"
   ]
  },
  {
   "cell_type": "markdown",
   "metadata": {},
   "source": [
    "##### Preserve X_test & y_test to evaluate on the test data once you build the model"
   ]
  },
  {
   "cell_type": "code",
   "execution_count": 40,
   "metadata": {},
   "outputs": [
    {
     "name": "stdout",
     "output_type": "stream",
     "text": [
      "492\n",
      "350\n",
      "142\n"
     ]
    }
   ],
   "source": [
    "print(np.sum(y))\n",
    "print(np.sum(y_train))\n",
    "print(np.sum(y_test))"
   ]
  },
  {
   "cell_type": "markdown",
   "metadata": {},
   "source": [
    "### Plotting the distribution of a variable"
   ]
  },
  {
   "cell_type": "code",
   "execution_count": 45,
   "metadata": {},
   "outputs": [
    {
     "data": {
      "text/plain": [
       "<matplotlib.axes._subplots.AxesSubplot at 0x185882bb3c8>"
      ]
     },
     "execution_count": 45,
     "metadata": {},
     "output_type": "execute_result"
    },
    {
     "data": {
      "image/png": "[encoded data removed]",
      "text/plain": [
       "<Figure size 432x288 with 1 Axes>"
      ]
     },
     "metadata": {
      "needs_background": "light"
     },
     "output_type": "display_data"
    }
   ],
   "source": [
    "# plot the histogram of a variable from the dataset to see the skewness\n",
    "sns.distplot(df['V10'])"
   ]
  },
  {
   "cell_type": "markdown",
   "metadata": {},
   "source": [
    "### If there is skewness present in the distribution use:\n",
    "- <b>Power Transformer</b> package present in the <b>preprocessing library provided by sklearn</b> to make distribution more gaussian"
   ]
  },
  {
   "cell_type": "code",
   "execution_count": 46,
   "metadata": {},
   "outputs": [
    {
     "data": {
      "text/plain": [
       "PowerTransformer(copy=False, method='yeo-johnson', standardize=True)"
      ]
     },
     "execution_count": 46,
     "metadata": {},
     "output_type": "execute_result"
    }
   ],
   "source": [
    "# - Apply : preprocessing.PowerTransformer(copy=False) to fit & transform the train & test data\n",
    "from sklearn.preprocessing import PowerTransformer\n",
    "pt = PowerTransformer(copy=False)\n",
    "pt.fit(X_train)"
   ]
  },
  {
   "cell_type": "code",
   "execution_count": 47,
   "metadata": {},
   "outputs": [],
   "source": [
    "X_train=pd.DataFrame(pt.transform(X_train),columns=X_train.columns)"
   ]
  },
  {
   "cell_type": "code",
   "execution_count": 50,
   "metadata": {},
   "outputs": [
    {
     "data": {
      "text/plain": [
       "<matplotlib.axes._subplots.AxesSubplot at 0x18598453cc0>"
      ]
     },
     "execution_count": 50,
     "metadata": {},
     "output_type": "execute_result"
    },
    {
     "data": {
      "image/png": "[encoded data removed]",
      "text/plain": [
       "<Figure size 432x288 with 1 Axes>"
      ]
     },
     "metadata": {
      "needs_background": "light"
     },
     "output_type": "display_data"
    }
   ],
   "source": [
    "# plot the histogram of a variable from the dataset again to see the result \n",
    "sns.distplot(df['V21'])"
   ]
  },
  {
   "cell_type": "markdown",
   "metadata": {},
   "source": [
    "## Model Building\n",
    "- Build different models on the imbalanced dataset and see the result"
   ]
  },
  {
   "cell_type": "code",
   "execution_count": 82,
   "metadata": {
    "scrolled": false
   },
   "outputs": [],
   "source": [
    "# Logistic Regression\n",
    "from sklearn.linear_model import LogisticRegression #import the package\n",
    "\n",
    "num_C = 0.1  #--> list of values\n",
    "cv_num = 3  #--> list of values\n",
    "logst=LogisticRegression(penalty='l2')\n",
    "params = {'C': [0.001, 0.002, 0.005,0.007,0.01]}"
   ]
  },
  {
   "cell_type": "markdown",
   "metadata": {},
   "source": [
    "#### perfom cross validation on the X_train & y_train to create:\n",
    "- X_train_cv\n",
    "- X_test_cv \n",
    "- y_train_cv\n",
    "- y_test_cv "
   ]
  },
  {
   "cell_type": "code",
   "execution_count": 83,
   "metadata": {},
   "outputs": [
    {
     "name": "stdout",
     "output_type": "stream",
     "text": [
      "Fitting 3 folds for each of 5 candidates, totalling 15 fits\n"
     ]
    },
    {
     "name": "stderr",
     "output_type": "stream",
     "text": [
      "[Parallel(n_jobs=1)]: Using backend SequentialBackend with 1 concurrent workers.\n",
      "[Parallel(n_jobs=1)]: Done  15 out of  15 | elapsed:   10.5s finished\n"
     ]
    },
    {
     "name": "stdout",
     "output_type": "stream",
     "text": [
      "{'C': 0.001}\n"
     ]
    }
   ],
   "source": [
    "from sklearn.model_selection import GridSearchCV\n",
    "#perform cross validation\n",
    "#perform hyperparameter tuning\n",
    "modelcv=GridSearchCV(estimator=logst,param_grid=params,scoring='roc_auc',return_train_score=True,cv=3,verbose=True)\n",
    "modelcv.fit(X_train,y_train)\n",
    "\n",
    "\n",
    "\n",
    "#print the optimum value of hyperparameters\n",
    "print(modelcv.best_params_)"
   ]
  },
  {
   "cell_type": "code",
   "execution_count": 84,
   "metadata": {},
   "outputs": [
    {
     "data": {
      "text/html": [
       "<div>\n",
       "<style scoped>\n",
       "    .dataframe tbody tr th:only-of-type {\n",
       "        vertical-align: middle;\n",
       "    }\n",
       "\n",
       "    .dataframe tbody tr th {\n",
       "        vertical-align: top;\n",
       "    }\n",
       "\n",
       "    .dataframe thead th {\n",
       "        text-align: right;\n",
       "    }\n",
       "</style>\n",
       "<table border=\"1\" class=\"dataframe\">\n",
       "  <thead>\n",
       "    <tr style=\"text-align: right;\">\n",
       "      <th></th>\n",
       "      <th>mean_fit_time</th>\n",
       "      <th>std_fit_time</th>\n",
       "      <th>mean_score_time</th>\n",
       "      <th>std_score_time</th>\n",
       "      <th>param_C</th>\n",
       "      <th>params</th>\n",
       "      <th>split0_test_score</th>\n",
       "      <th>split1_test_score</th>\n",
       "      <th>split2_test_score</th>\n",
       "      <th>mean_test_score</th>\n",
       "      <th>std_test_score</th>\n",
       "      <th>rank_test_score</th>\n",
       "      <th>split0_train_score</th>\n",
       "      <th>split1_train_score</th>\n",
       "      <th>split2_train_score</th>\n",
       "      <th>mean_train_score</th>\n",
       "      <th>std_train_score</th>\n",
       "    </tr>\n",
       "  </thead>\n",
       "  <tbody>\n",
       "    <tr>\n",
       "      <th>0</th>\n",
       "      <td>0.529030</td>\n",
       "      <td>0.028105</td>\n",
       "      <td>0.026319</td>\n",
       "      <td>0.000470</td>\n",
       "      <td>0.001</td>\n",
       "      <td>{'C': 0.001}</td>\n",
       "      <td>0.979222</td>\n",
       "      <td>0.966362</td>\n",
       "      <td>0.983490</td>\n",
       "      <td>0.976358</td>\n",
       "      <td>0.007280</td>\n",
       "      <td>1</td>\n",
       "      <td>0.990077</td>\n",
       "      <td>0.994213</td>\n",
       "      <td>0.989793</td>\n",
       "      <td>0.991361</td>\n",
       "      <td>0.002020</td>\n",
       "    </tr>\n",
       "    <tr>\n",
       "      <th>1</th>\n",
       "      <td>0.537358</td>\n",
       "      <td>0.027385</td>\n",
       "      <td>0.024655</td>\n",
       "      <td>0.001249</td>\n",
       "      <td>0.002</td>\n",
       "      <td>{'C': 0.002}</td>\n",
       "      <td>0.978152</td>\n",
       "      <td>0.965505</td>\n",
       "      <td>0.981833</td>\n",
       "      <td>0.975163</td>\n",
       "      <td>0.006993</td>\n",
       "      <td>2</td>\n",
       "      <td>0.990233</td>\n",
       "      <td>0.994256</td>\n",
       "      <td>0.990164</td>\n",
       "      <td>0.991551</td>\n",
       "      <td>0.001913</td>\n",
       "    </tr>\n",
       "    <tr>\n",
       "      <th>2</th>\n",
       "      <td>0.628639</td>\n",
       "      <td>0.055844</td>\n",
       "      <td>0.025989</td>\n",
       "      <td>0.000814</td>\n",
       "      <td>0.005</td>\n",
       "      <td>{'C': 0.005}</td>\n",
       "      <td>0.977499</td>\n",
       "      <td>0.965269</td>\n",
       "      <td>0.980360</td>\n",
       "      <td>0.974376</td>\n",
       "      <td>0.006545</td>\n",
       "      <td>3</td>\n",
       "      <td>0.990355</td>\n",
       "      <td>0.994367</td>\n",
       "      <td>0.990598</td>\n",
       "      <td>0.991773</td>\n",
       "      <td>0.001837</td>\n",
       "    </tr>\n",
       "    <tr>\n",
       "      <th>3</th>\n",
       "      <td>0.702930</td>\n",
       "      <td>0.081768</td>\n",
       "      <td>0.026321</td>\n",
       "      <td>0.001697</td>\n",
       "      <td>0.007</td>\n",
       "      <td>{'C': 0.007}</td>\n",
       "      <td>0.977466</td>\n",
       "      <td>0.965375</td>\n",
       "      <td>0.979967</td>\n",
       "      <td>0.974269</td>\n",
       "      <td>0.006372</td>\n",
       "      <td>4</td>\n",
       "      <td>0.990384</td>\n",
       "      <td>0.994417</td>\n",
       "      <td>0.990719</td>\n",
       "      <td>0.991840</td>\n",
       "      <td>0.001828</td>\n",
       "    </tr>\n",
       "    <tr>\n",
       "      <th>4</th>\n",
       "      <td>0.697933</td>\n",
       "      <td>0.062863</td>\n",
       "      <td>0.024323</td>\n",
       "      <td>0.003298</td>\n",
       "      <td>0.01</td>\n",
       "      <td>{'C': 0.01}</td>\n",
       "      <td>0.977553</td>\n",
       "      <td>0.965539</td>\n",
       "      <td>0.979621</td>\n",
       "      <td>0.974238</td>\n",
       "      <td>0.006208</td>\n",
       "      <td>5</td>\n",
       "      <td>0.990404</td>\n",
       "      <td>0.994464</td>\n",
       "      <td>0.990820</td>\n",
       "      <td>0.991896</td>\n",
       "      <td>0.001824</td>\n",
       "    </tr>\n",
       "  </tbody>\n",
       "</table>\n",
       "</div>"
      ],
      "text/plain": [
       "   mean_fit_time  std_fit_time  mean_score_time  std_score_time param_C  \\\n",
       "0       0.529030      0.028105         0.026319        0.000470   0.001   \n",
       "1       0.537358      0.027385         0.024655        0.001249   0.002   \n",
       "2       0.628639      0.055844         0.025989        0.000814   0.005   \n",
       "3       0.702930      0.081768         0.026321        0.001697   0.007   \n",
       "4       0.697933      0.062863         0.024323        0.003298    0.01   \n",
       "\n",
       "         params  split0_test_score  split1_test_score  split2_test_score  \\\n",
       "0  {'C': 0.001}           0.979222           0.966362           0.983490   \n",
       "1  {'C': 0.002}           0.978152           0.965505           0.981833   \n",
       "2  {'C': 0.005}           0.977499           0.965269           0.980360   \n",
       "3  {'C': 0.007}           0.977466           0.965375           0.979967   \n",
       "4   {'C': 0.01}           0.977553           0.965539           0.979621   \n",
       "\n",
       "   mean_test_score  std_test_score  rank_test_score  split0_train_score  \\\n",
       "0         0.976358        0.007280                1            0.990077   \n",
       "1         0.975163        0.006993                2            0.990233   \n",
       "2         0.974376        0.006545                3            0.990355   \n",
       "3         0.974269        0.006372                4            0.990384   \n",
       "4         0.974238        0.006208                5            0.990404   \n",
       "\n",
       "   split1_train_score  split2_train_score  mean_train_score  std_train_score  \n",
       "0            0.994213            0.989793          0.991361         0.002020  \n",
       "1            0.994256            0.990164          0.991551         0.001913  \n",
       "2            0.994367            0.990598          0.991773         0.001837  \n",
       "3            0.994417            0.990719          0.991840         0.001828  \n",
       "4            0.994464            0.990820          0.991896         0.001824  "
      ]
     },
     "execution_count": 84,
     "metadata": {},
     "output_type": "execute_result"
    }
   ],
   "source": [
    "#print the evaluation result by choosing a evaluation metric\n",
    "pd.DataFrame(modelcv.cv_results_)"
   ]
  },
  {
   "cell_type": "code",
   "execution_count": 77,
   "metadata": {},
   "outputs": [],
   "source": [
    "# drawing the ROC curve\n",
    "def draw_roc( actual, probs ):\n",
    "    fpr, tpr, thresholds = metrics.roc_curve( actual, probs,\n",
    "                                              drop_intermediate = False )\n",
    "    auc_score = metrics.roc_auc_score( actual, probs )\n",
    "    plt.figure(figsize=(5, 5))\n",
    "    plt.plot( fpr, tpr, label='ROC curve (area = %0.2f)' % auc_score )\n",
    "    plt.plot([0, 1], [0, 1], 'k--')\n",
    "    plt.xlim([0.0, 1.0])\n",
    "    plt.ylim([0.0, 1.05])\n",
    "    plt.xlabel('False Positive Rate or [1 - True Negative Rate]')\n",
    "    plt.ylabel('True Positive Rate')\n",
    "    plt.title('Receiver operating characteristic example')\n",
    "    plt.legend(loc=\"lower right\")\n",
    "    plt.show()\n",
    "\n",
    "    return None"
   ]
  },
  {
   "cell_type": "code",
   "execution_count": 252,
   "metadata": {},
   "outputs": [
    {
     "data": {
      "image/png": "[encoded data removed]",
      "text/plain": [
       "<Figure size 360x360 with 1 Axes>"
      ]
     },
     "metadata": {
      "needs_background": "light"
     },
     "output_type": "display_data"
    }
   ],
   "source": [
    "#print the evaluation result by choosing a evaluation metric\n",
    "logst=LogisticRegression(penalty='l2',C=0.001)\n",
    "logst.fit(X_train,y_train)\n",
    "draw_roc(y_train,pd.DataFrame(logst.predict_proba(X_train))[1])"
   ]
  },
  {
   "cell_type": "code",
   "execution_count": 253,
   "metadata": {},
   "outputs": [
    {
     "name": "stdout",
     "output_type": "stream",
     "text": [
      "[[198996     24]\n",
      " [   158    186]]\n",
      "              precision    recall  f1-score   support\n",
      "\n",
      "           0       1.00      1.00      1.00    199020\n",
      "           1       0.89      0.54      0.67       344\n",
      "\n",
      "    accuracy                           1.00    199364\n",
      "   macro avg       0.94      0.77      0.84    199364\n",
      "weighted avg       1.00      1.00      1.00    199364\n",
      "\n"
     ]
    }
   ],
   "source": [
    "from sklearn.metrics import confusion_matrix, classification_report\n",
    "pred=logst.predict(X_train)\n",
    "print(confusion_matrix(y_train, pred))\n",
    "print(classification_report(y_train, pred))"
   ]
  },
  {
   "cell_type": "code",
   "execution_count": 254,
   "metadata": {
    "scrolled": true
   },
   "outputs": [
    {
     "data": {
      "text/plain": [
       "<matplotlib.axes._subplots.AxesSubplot at 0x185c13864e0>"
      ]
     },
     "execution_count": 254,
     "metadata": {},
     "output_type": "execute_result"
    },
    {
     "data": {
      "image/png": "[encoded data removed]",
      "text/plain": [
       "<Figure size 1440x1440 with 1 Axes>"
      ]
     },
     "metadata": {
      "needs_background": "light"
     },
     "output_type": "display_data"
    }
   ],
   "source": [
    "#finding probablities of churn\n",
    "y_train_pred_prob=pd.DataFrame(logst.predict_proba(X_train))[1]\n",
    "y_test_pred_prob=pd.DataFrame(logst.predict_proba(X_test))[1]\n",
    "\n",
    "# finding the cutoff probablites\n",
    "y_train_pred=pd.DataFrame()\n",
    "prob=[i/10 for i in range(0,10)]\n",
    "for i in prob:\n",
    "    y_train_pred[i]=y_train_pred_prob.map(lambda x: 1 if x>i else 0)\n",
    "#y_train_pred.head()\n",
    "\n",
    "# finding accuracy,precision,recall for different cutoffs\n",
    "df_metrics=pd.DataFrame(columns=['Accuracy','Recall','Precision'])\n",
    "for i in list(y_train_pred.columns):\n",
    "    df_metrics.loc[i,'Accuracy']= metrics.accuracy_score(y_train,y_train_pred[i])\n",
    "    df_metrics.loc[i,'Recall']=metrics.recall_score(y_train,y_train_pred[i])\n",
    "    df_metrics.loc[i,'Precision']=metrics.precision_score(y_train,y_train_pred[i])\n",
    "#df_metrics\n",
    "\n",
    "# plotting different cutoff and their probablities\n",
    "df_metrics.plot.line(y=['Accuracy','Recall','Precision'])"
   ]
  },
  {
   "cell_type": "code",
   "execution_count": 96,
   "metadata": {},
   "outputs": [],
   "source": []
  },
  {
   "cell_type": "code",
   "execution_count": 255,
   "metadata": {},
   "outputs": [
    {
     "name": "stdout",
     "output_type": "stream",
     "text": [
      "[[198987     33]\n",
      " [   107    237]]\n",
      "              precision    recall  f1-score   support\n",
      "\n",
      "           0       1.00      1.00      1.00    199020\n",
      "           1       0.88      0.69      0.77       344\n",
      "\n",
      "    accuracy                           1.00    199364\n",
      "   macro avg       0.94      0.84      0.89    199364\n",
      "weighted avg       1.00      1.00      1.00    199364\n",
      "\n"
     ]
    }
   ],
   "source": [
    "#Precision and Recall on train data\n",
    "from sklearn.metrics import confusion_matrix, classification_report\n",
    "pred=y_train_pred_prob.map(lambda x: 1 if x>0.1 else 0)\n",
    "print(confusion_matrix(y_train, pred))\n",
    "print(classification_report(y_train, pred))"
   ]
  },
  {
   "cell_type": "code",
   "execution_count": 256,
   "metadata": {},
   "outputs": [
    {
     "name": "stdout",
     "output_type": "stream",
     "text": [
      "[[85274    21]\n",
      " [   50    98]]\n",
      "              precision    recall  f1-score   support\n",
      "\n",
      "           0       1.00      1.00      1.00     85295\n",
      "           1       0.82      0.66      0.73       148\n",
      "\n",
      "    accuracy                           1.00     85443\n",
      "   macro avg       0.91      0.83      0.87     85443\n",
      "weighted avg       1.00      1.00      1.00     85443\n",
      "\n"
     ]
    }
   ],
   "source": [
    "#Precision and Recall on test data\n",
    "pred=y_test_pred_prob.map(lambda x: 1 if x>0.1 else 0)\n",
    "print(confusion_matrix(y_test, pred))\n",
    "print(classification_report(y_test, pred))"
   ]
  },
  {
   "cell_type": "markdown",
   "metadata": {},
   "source": [
    "### Similarly explore other algorithms by building models like:\n",
    "- KNN\n",
    "- SVM\n",
    "- Decision Tree\n",
    "- Random Forest\n",
    "- XGBoost"
   ]
  },
  {
   "cell_type": "markdown",
   "metadata": {},
   "source": [
    "### Random Forest"
   ]
  },
  {
   "cell_type": "code",
   "execution_count": 101,
   "metadata": {},
   "outputs": [
    {
     "name": "stdout",
     "output_type": "stream",
     "text": [
      "Fitting 3 folds for each of 72 candidates, totalling 216 fits\n"
     ]
    },
    {
     "name": "stderr",
     "output_type": "stream",
     "text": [
      "[Parallel(n_jobs=-1)]: Using backend LokyBackend with 4 concurrent workers.\n",
      "[Parallel(n_jobs=-1)]: Done  42 tasks      | elapsed: 21.2min\n",
      "[Parallel(n_jobs=-1)]: Done 192 tasks      | elapsed: 167.9min\n",
      "[Parallel(n_jobs=-1)]: Done 216 out of 216 | elapsed: 204.3min finished\n"
     ]
    },
    {
     "data": {
      "text/plain": [
       "GridSearchCV(cv=3, error_score=nan,\n",
       "             estimator=RandomForestClassifier(bootstrap=True, ccp_alpha=0.0,\n",
       "                                              class_weight='balanced',\n",
       "                                              criterion='gini', max_depth=None,\n",
       "                                              max_features='auto',\n",
       "                                              max_leaf_nodes=None,\n",
       "                                              max_samples=None,\n",
       "                                              min_impurity_decrease=0.0,\n",
       "                                              min_impurity_split=None,\n",
       "                                              min_samples_leaf=1,\n",
       "                                              min_samples_split=2,\n",
       "                                              min_weight_fraction_leaf=0.0,\n",
       "                                              n_estimators=100, n_jobs=None,\n",
       "                                              oob_score=False,\n",
       "                                              random_state=None, verbose=0,\n",
       "                                              warm_start=False),\n",
       "             iid='deprecated', n_jobs=-1,\n",
       "             param_grid={'max_depth': [4, 8, 10], 'max_features': [5, 10],\n",
       "                         'min_samples_leaf': range(100, 400, 200),\n",
       "                         'min_samples_split': range(200, 500, 200),\n",
       "                         'n_estimators': [100, 200, 300]},\n",
       "             pre_dispatch='2*n_jobs', refit=True, return_train_score=False,\n",
       "             scoring='f1', verbose=1)"
      ]
     },
     "execution_count": 101,
     "metadata": {},
     "output_type": "execute_result"
    }
   ],
   "source": [
    "#importing the libraries\n",
    "from sklearn.ensemble import RandomForestClassifier\n",
    "# Create the parameter grid based on the results of random search \n",
    "param_grid = {\n",
    "    'max_depth': [4,8,10],\n",
    "    'min_samples_leaf': range(100, 400, 200),\n",
    "    'min_samples_split': range(200, 500, 200),\n",
    "    'n_estimators': [100,200, 300], \n",
    "    'max_features': [5, 10]\n",
    "}\n",
    "# Create a based model\n",
    "rf = RandomForestClassifier()\n",
    "# Instantiate the grid search model\n",
    "grid_search = GridSearchCV(estimator = rf, param_grid = param_grid,scoring='roc_auc', return_train_score=True,\n",
    "                          cv = 3, n_jobs = -1,verbose = 1)\n",
    "\n",
    "# Fit the grid search to the data\n",
    "grid_search.fit(X_train, y_train)"
   ]
  },
  {
   "cell_type": "code",
   "execution_count": 103,
   "metadata": {},
   "outputs": [
    {
     "data": {
      "text/plain": [
       "{'max_depth': 10,\n",
       " 'max_features': 5,\n",
       " 'min_samples_leaf': 100,\n",
       " 'min_samples_split': 200,\n",
       " 'n_estimators': 100}"
      ]
     },
     "execution_count": 103,
     "metadata": {},
     "output_type": "execute_result"
    }
   ],
   "source": [
    "# grid search best parameters\n",
    "grid_search.best_params_"
   ]
  },
  {
   "cell_type": "code",
   "execution_count": 104,
   "metadata": {
    "scrolled": true
   },
   "outputs": [
    {
     "data": {
      "text/html": [
       "<div>\n",
       "<style scoped>\n",
       "    .dataframe tbody tr th:only-of-type {\n",
       "        vertical-align: middle;\n",
       "    }\n",
       "\n",
       "    .dataframe tbody tr th {\n",
       "        vertical-align: top;\n",
       "    }\n",
       "\n",
       "    .dataframe thead th {\n",
       "        text-align: right;\n",
       "    }\n",
       "</style>\n",
       "<table border=\"1\" class=\"dataframe\">\n",
       "  <thead>\n",
       "    <tr style=\"text-align: right;\">\n",
       "      <th></th>\n",
       "      <th>mean_fit_time</th>\n",
       "      <th>std_fit_time</th>\n",
       "      <th>mean_score_time</th>\n",
       "      <th>std_score_time</th>\n",
       "      <th>param_max_depth</th>\n",
       "      <th>param_max_features</th>\n",
       "      <th>param_min_samples_leaf</th>\n",
       "      <th>param_min_samples_split</th>\n",
       "      <th>param_n_estimators</th>\n",
       "      <th>params</th>\n",
       "      <th>split0_test_score</th>\n",
       "      <th>split1_test_score</th>\n",
       "      <th>split2_test_score</th>\n",
       "      <th>mean_test_score</th>\n",
       "      <th>std_test_score</th>\n",
       "      <th>rank_test_score</th>\n",
       "    </tr>\n",
       "  </thead>\n",
       "  <tbody>\n",
       "    <tr>\n",
       "      <th>0</th>\n",
       "      <td>55.993922</td>\n",
       "      <td>0.266696</td>\n",
       "      <td>0.873834</td>\n",
       "      <td>0.029312</td>\n",
       "      <td>4</td>\n",
       "      <td>5</td>\n",
       "      <td>100</td>\n",
       "      <td>200</td>\n",
       "      <td>100</td>\n",
       "      <td>{'max_depth': 4, 'max_features': 5, 'min_sampl...</td>\n",
       "      <td>0.466667</td>\n",
       "      <td>0.673469</td>\n",
       "      <td>0.528796</td>\n",
       "      <td>0.556311</td>\n",
       "      <td>0.086640</td>\n",
       "      <td>26</td>\n",
       "    </tr>\n",
       "    <tr>\n",
       "      <th>1</th>\n",
       "      <td>101.610449</td>\n",
       "      <td>3.548613</td>\n",
       "      <td>1.429182</td>\n",
       "      <td>0.011511</td>\n",
       "      <td>4</td>\n",
       "      <td>5</td>\n",
       "      <td>100</td>\n",
       "      <td>200</td>\n",
       "      <td>200</td>\n",
       "      <td>{'max_depth': 4, 'max_features': 5, 'min_sampl...</td>\n",
       "      <td>0.572207</td>\n",
       "      <td>0.649180</td>\n",
       "      <td>0.394584</td>\n",
       "      <td>0.538657</td>\n",
       "      <td>0.106611</td>\n",
       "      <td>29</td>\n",
       "    </tr>\n",
       "    <tr>\n",
       "      <th>2</th>\n",
       "      <td>150.544073</td>\n",
       "      <td>1.432284</td>\n",
       "      <td>2.136811</td>\n",
       "      <td>0.036480</td>\n",
       "      <td>4</td>\n",
       "      <td>5</td>\n",
       "      <td>100</td>\n",
       "      <td>200</td>\n",
       "      <td>300</td>\n",
       "      <td>{'max_depth': 4, 'max_features': 5, 'min_sampl...</td>\n",
       "      <td>0.541237</td>\n",
       "      <td>0.647059</td>\n",
       "      <td>0.515152</td>\n",
       "      <td>0.567816</td>\n",
       "      <td>0.057036</td>\n",
       "      <td>25</td>\n",
       "    </tr>\n",
       "    <tr>\n",
       "      <th>3</th>\n",
       "      <td>51.116759</td>\n",
       "      <td>0.776549</td>\n",
       "      <td>0.742539</td>\n",
       "      <td>0.003183</td>\n",
       "      <td>4</td>\n",
       "      <td>5</td>\n",
       "      <td>100</td>\n",
       "      <td>400</td>\n",
       "      <td>100</td>\n",
       "      <td>{'max_depth': 4, 'max_features': 5, 'min_sampl...</td>\n",
       "      <td>0.538462</td>\n",
       "      <td>0.586103</td>\n",
       "      <td>0.511166</td>\n",
       "      <td>0.545244</td>\n",
       "      <td>0.030966</td>\n",
       "      <td>27</td>\n",
       "    </tr>\n",
       "    <tr>\n",
       "      <th>4</th>\n",
       "      <td>103.200077</td>\n",
       "      <td>0.234234</td>\n",
       "      <td>1.450503</td>\n",
       "      <td>0.038286</td>\n",
       "      <td>4</td>\n",
       "      <td>5</td>\n",
       "      <td>100</td>\n",
       "      <td>400</td>\n",
       "      <td>200</td>\n",
       "      <td>{'max_depth': 4, 'max_features': 5, 'min_sampl...</td>\n",
       "      <td>0.525000</td>\n",
       "      <td>0.624606</td>\n",
       "      <td>0.440605</td>\n",
       "      <td>0.530070</td>\n",
       "      <td>0.075204</td>\n",
       "      <td>30</td>\n",
       "    </tr>\n",
       "    <tr>\n",
       "      <th>...</th>\n",
       "      <td>...</td>\n",
       "      <td>...</td>\n",
       "      <td>...</td>\n",
       "      <td>...</td>\n",
       "      <td>...</td>\n",
       "      <td>...</td>\n",
       "      <td>...</td>\n",
       "      <td>...</td>\n",
       "      <td>...</td>\n",
       "      <td>...</td>\n",
       "      <td>...</td>\n",
       "      <td>...</td>\n",
       "      <td>...</td>\n",
       "      <td>...</td>\n",
       "      <td>...</td>\n",
       "      <td>...</td>\n",
       "    </tr>\n",
       "    <tr>\n",
       "      <th>67</th>\n",
       "      <td>332.491999</td>\n",
       "      <td>12.290853</td>\n",
       "      <td>1.912572</td>\n",
       "      <td>0.047485</td>\n",
       "      <td>10</td>\n",
       "      <td>10</td>\n",
       "      <td>300</td>\n",
       "      <td>200</td>\n",
       "      <td>200</td>\n",
       "      <td>{'max_depth': 10, 'max_features': 10, 'min_sam...</td>\n",
       "      <td>0.461538</td>\n",
       "      <td>0.327332</td>\n",
       "      <td>0.384906</td>\n",
       "      <td>0.391259</td>\n",
       "      <td>0.054973</td>\n",
       "      <td>61</td>\n",
       "    </tr>\n",
       "    <tr>\n",
       "      <th>68</th>\n",
       "      <td>502.727387</td>\n",
       "      <td>20.701067</td>\n",
       "      <td>2.842424</td>\n",
       "      <td>0.039650</td>\n",
       "      <td>10</td>\n",
       "      <td>10</td>\n",
       "      <td>300</td>\n",
       "      <td>200</td>\n",
       "      <td>300</td>\n",
       "      <td>{'max_depth': 10, 'max_features': 10, 'min_sam...</td>\n",
       "      <td>0.451613</td>\n",
       "      <td>0.377863</td>\n",
       "      <td>0.388571</td>\n",
       "      <td>0.406016</td>\n",
       "      <td>0.032537</td>\n",
       "      <td>57</td>\n",
       "    </tr>\n",
       "    <tr>\n",
       "      <th>69</th>\n",
       "      <td>168.778842</td>\n",
       "      <td>8.312019</td>\n",
       "      <td>0.971811</td>\n",
       "      <td>0.024563</td>\n",
       "      <td>10</td>\n",
       "      <td>10</td>\n",
       "      <td>300</td>\n",
       "      <td>400</td>\n",
       "      <td>100</td>\n",
       "      <td>{'max_depth': 10, 'max_features': 10, 'min_sam...</td>\n",
       "      <td>0.429752</td>\n",
       "      <td>0.388998</td>\n",
       "      <td>0.413655</td>\n",
       "      <td>0.410802</td>\n",
       "      <td>0.016760</td>\n",
       "      <td>55</td>\n",
       "    </tr>\n",
       "    <tr>\n",
       "      <th>70</th>\n",
       "      <td>340.004042</td>\n",
       "      <td>13.846877</td>\n",
       "      <td>1.895601</td>\n",
       "      <td>0.034366</td>\n",
       "      <td>10</td>\n",
       "      <td>10</td>\n",
       "      <td>300</td>\n",
       "      <td>400</td>\n",
       "      <td>200</td>\n",
       "      <td>{'max_depth': 10, 'max_features': 10, 'min_sam...</td>\n",
       "      <td>0.495283</td>\n",
       "      <td>0.341880</td>\n",
       "      <td>0.456763</td>\n",
       "      <td>0.431309</td>\n",
       "      <td>0.065161</td>\n",
       "      <td>45</td>\n",
       "    </tr>\n",
       "    <tr>\n",
       "      <th>71</th>\n",
       "      <td>436.095162</td>\n",
       "      <td>38.722340</td>\n",
       "      <td>2.061153</td>\n",
       "      <td>0.331395</td>\n",
       "      <td>10</td>\n",
       "      <td>10</td>\n",
       "      <td>300</td>\n",
       "      <td>400</td>\n",
       "      <td>300</td>\n",
       "      <td>{'max_depth': 10, 'max_features': 10, 'min_sam...</td>\n",
       "      <td>0.454545</td>\n",
       "      <td>0.349040</td>\n",
       "      <td>0.379374</td>\n",
       "      <td>0.394320</td>\n",
       "      <td>0.044350</td>\n",
       "      <td>59</td>\n",
       "    </tr>\n",
       "  </tbody>\n",
       "</table>\n",
       "<p>72 rows × 16 columns</p>\n",
       "</div>"
      ],
      "text/plain": [
       "    mean_fit_time  std_fit_time  mean_score_time  std_score_time  \\\n",
       "0       55.993922      0.266696         0.873834        0.029312   \n",
       "1      101.610449      3.548613         1.429182        0.011511   \n",
       "2      150.544073      1.432284         2.136811        0.036480   \n",
       "3       51.116759      0.776549         0.742539        0.003183   \n",
       "4      103.200077      0.234234         1.450503        0.038286   \n",
       "..            ...           ...              ...             ...   \n",
       "67     332.491999     12.290853         1.912572        0.047485   \n",
       "68     502.727387     20.701067         2.842424        0.039650   \n",
       "69     168.778842      8.312019         0.971811        0.024563   \n",
       "70     340.004042     13.846877         1.895601        0.034366   \n",
       "71     436.095162     38.722340         2.061153        0.331395   \n",
       "\n",
       "   param_max_depth param_max_features param_min_samples_leaf  \\\n",
       "0                4                  5                    100   \n",
       "1                4                  5                    100   \n",
       "2                4                  5                    100   \n",
       "3                4                  5                    100   \n",
       "4                4                  5                    100   \n",
       "..             ...                ...                    ...   \n",
       "67              10                 10                    300   \n",
       "68              10                 10                    300   \n",
       "69              10                 10                    300   \n",
       "70              10                 10                    300   \n",
       "71              10                 10                    300   \n",
       "\n",
       "   param_min_samples_split param_n_estimators  \\\n",
       "0                      200                100   \n",
       "1                      200                200   \n",
       "2                      200                300   \n",
       "3                      400                100   \n",
       "4                      400                200   \n",
       "..                     ...                ...   \n",
       "67                     200                200   \n",
       "68                     200                300   \n",
       "69                     400                100   \n",
       "70                     400                200   \n",
       "71                     400                300   \n",
       "\n",
       "                                               params  split0_test_score  \\\n",
       "0   {'max_depth': 4, 'max_features': 5, 'min_sampl...           0.466667   \n",
       "1   {'max_depth': 4, 'max_features': 5, 'min_sampl...           0.572207   \n",
       "2   {'max_depth': 4, 'max_features': 5, 'min_sampl...           0.541237   \n",
       "3   {'max_depth': 4, 'max_features': 5, 'min_sampl...           0.538462   \n",
       "4   {'max_depth': 4, 'max_features': 5, 'min_sampl...           0.525000   \n",
       "..                                                ...                ...   \n",
       "67  {'max_depth': 10, 'max_features': 10, 'min_sam...           0.461538   \n",
       "68  {'max_depth': 10, 'max_features': 10, 'min_sam...           0.451613   \n",
       "69  {'max_depth': 10, 'max_features': 10, 'min_sam...           0.429752   \n",
       "70  {'max_depth': 10, 'max_features': 10, 'min_sam...           0.495283   \n",
       "71  {'max_depth': 10, 'max_features': 10, 'min_sam...           0.454545   \n",
       "\n",
       "    split1_test_score  split2_test_score  mean_test_score  std_test_score  \\\n",
       "0            0.673469           0.528796         0.556311        0.086640   \n",
       "1            0.649180           0.394584         0.538657        0.106611   \n",
       "2            0.647059           0.515152         0.567816        0.057036   \n",
       "3            0.586103           0.511166         0.545244        0.030966   \n",
       "4            0.624606           0.440605         0.530070        0.075204   \n",
       "..                ...                ...              ...             ...   \n",
       "67           0.327332           0.384906         0.391259        0.054973   \n",
       "68           0.377863           0.388571         0.406016        0.032537   \n",
       "69           0.388998           0.413655         0.410802        0.016760   \n",
       "70           0.341880           0.456763         0.431309        0.065161   \n",
       "71           0.349040           0.379374         0.394320        0.044350   \n",
       "\n",
       "    rank_test_score  \n",
       "0                26  \n",
       "1                29  \n",
       "2                25  \n",
       "3                27  \n",
       "4                30  \n",
       "..              ...  \n",
       "67               61  \n",
       "68               57  \n",
       "69               55  \n",
       "70               45  \n",
       "71               59  \n",
       "\n",
       "[72 rows x 16 columns]"
      ]
     },
     "execution_count": 104,
     "metadata": {},
     "output_type": "execute_result"
    }
   ],
   "source": [
    "# gridsearch results\n",
    "pd.DataFrame(grid_search.cv_results_)"
   ]
  },
  {
   "cell_type": "code",
   "execution_count": 152,
   "metadata": {},
   "outputs": [
    {
     "data": {
      "text/plain": [
       "RandomForestClassifier(bootstrap=True, ccp_alpha=0.0, class_weight=None,\n",
       "                       criterion='gini', max_depth=8, max_features=10,\n",
       "                       max_leaf_nodes=None, max_samples=None,\n",
       "                       min_impurity_decrease=0.0, min_impurity_split=None,\n",
       "                       min_samples_leaf=100, min_samples_split=200,\n",
       "                       min_weight_fraction_leaf=0.0, n_estimators=100,\n",
       "                       n_jobs=None, oob_score=False, random_state=None,\n",
       "                       verbose=0, warm_start=False)"
      ]
     },
     "execution_count": 152,
     "metadata": {},
     "output_type": "execute_result"
    }
   ],
   "source": [
    "# Building model using best parameters got from grid search\n",
    "rf = RandomForestClassifier(max_depth= 8,\n",
    " max_features= 10,\n",
    " min_samples_leaf= 100,\n",
    " min_samples_split= 200,\n",
    " n_estimators= 100)\n",
    "rf.fit(X_train,y_train)"
   ]
  },
  {
   "cell_type": "code",
   "execution_count": 117,
   "metadata": {},
   "outputs": [],
   "source": [
    "# predicting the outcome of model on train and test dataset\n",
    "y_train_pred=rf.predict(X_train)\n",
    "y_test_pred=rf.predict(X_test)"
   ]
  },
  {
   "cell_type": "code",
   "execution_count": 174,
   "metadata": {},
   "outputs": [
    {
     "data": {
      "image/png": "[encoded data removed]",
      "text/plain": [
       "<Figure size 360x360 with 1 Axes>"
      ]
     },
     "metadata": {
      "needs_background": "light"
     },
     "output_type": "display_data"
    }
   ],
   "source": [
    "#print the evaluation result by choosing a evaluation metric\n",
    "draw_roc(y_train,pd.DataFrame(rf.predict_proba(X_train))[1])"
   ]
  },
  {
   "cell_type": "code",
   "execution_count": 108,
   "metadata": {},
   "outputs": [
    {
     "name": "stdout",
     "output_type": "stream",
     "text": [
      "              precision    recall  f1-score   support\n",
      "\n",
      "           0       1.00      1.00      1.00    199014\n",
      "           1       0.62      0.95      0.75       350\n",
      "\n",
      "    accuracy                           1.00    199364\n",
      "   macro avg       0.81      0.98      0.87    199364\n",
      "weighted avg       1.00      1.00      1.00    199364\n",
      "\n"
     ]
    }
   ],
   "source": [
    "# observing precision and recall score for churn customers (training)\n",
    "print(classification_report(y_train,y_train_pred))"
   ]
  },
  {
   "cell_type": "code",
   "execution_count": 119,
   "metadata": {},
   "outputs": [
    {
     "name": "stdout",
     "output_type": "stream",
     "text": [
      "[[85089   212]\n",
      " [   24   118]]\n",
      "              precision    recall  f1-score   support\n",
      "\n",
      "           0       1.00      1.00      1.00     85301\n",
      "           1       0.36      0.83      0.50       142\n",
      "\n",
      "    accuracy                           1.00     85443\n",
      "   macro avg       0.68      0.91      0.75     85443\n",
      "weighted avg       1.00      1.00      1.00     85443\n",
      "\n"
     ]
    }
   ],
   "source": [
    "#Precision and Recall on test data\n",
    "print(confusion_matrix(y_test, y_test_pred))\n",
    "print(classification_report(y_test, y_test_pred))"
   ]
  },
  {
   "cell_type": "code",
   "execution_count": 110,
   "metadata": {},
   "outputs": [
    {
     "data": {
      "text/plain": [
       "<matplotlib.axes._subplots.AxesSubplot at 0x1859e897ef0>"
      ]
     },
     "execution_count": 110,
     "metadata": {},
     "output_type": "execute_result"
    },
    {
     "data": {
      "image/png": "[encoded data removed]",
      "text/plain": [
       "<Figure size 432x288 with 1 Axes>"
      ]
     },
     "metadata": {
      "needs_background": "light"
     },
     "output_type": "display_data"
    }
   ],
   "source": [
    "#finding probablities of churn\n",
    "y_train_pred_prob=pd.DataFrame(rf.predict_proba(X_train))[1]\n",
    "y_test_pred_prob=pd.DataFrame(rf.predict_proba(X_test))[1]\n",
    "\n",
    "# finding the cutoff probablites\n",
    "y_train_pred=pd.DataFrame()\n",
    "prob=[i/10 for i in range(0,10)]\n",
    "for i in prob:\n",
    "    y_train_pred[i]=y_train_pred_prob.map(lambda x: 1 if x>i else 0)\n",
    "#y_train_pred.head()\n",
    "\n",
    "# finding accuracy,precision,recall for different cutoffs\n",
    "df_metrics=pd.DataFrame(columns=['Accuracy','Recall','Precision'])\n",
    "for i in list(y_train_pred.columns):\n",
    "    df_metrics.loc[i,'Accuracy']= metrics.accuracy_score(y_train,y_train_pred[i])\n",
    "    df_metrics.loc[i,'Recall']=metrics.recall_score(y_train,y_train_pred[i])\n",
    "    df_metrics.loc[i,'Precision']=metrics.precision_score(y_train,y_train_pred[i])\n",
    "#df_metrics\n",
    "\n",
    "# plotting different cutoff and their probablities\n",
    "df_metrics.plot.line(y=['Accuracy','Recall','Precision'])\n",
    "\n"
   ]
  },
  {
   "cell_type": "code",
   "execution_count": 114,
   "metadata": {},
   "outputs": [
    {
     "name": "stdout",
     "output_type": "stream",
     "text": [
      "[[198971     43]\n",
      " [    48    302]]\n",
      "              precision    recall  f1-score   support\n",
      "\n",
      "           0       1.00      1.00      1.00    199014\n",
      "           1       0.88      0.86      0.87       350\n",
      "\n",
      "    accuracy                           1.00    199364\n",
      "   macro avg       0.94      0.93      0.93    199364\n",
      "weighted avg       1.00      1.00      1.00    199364\n",
      "\n"
     ]
    }
   ],
   "source": [
    "#Precision and Recall on train data\n",
    "from sklearn.metrics import confusion_matrix, classification_report\n",
    "pred=y_train_pred_prob.map(lambda x: 1 if x>0.8 else 0)\n",
    "print(confusion_matrix(y_train, pred))\n",
    "print(classification_report(y_train, pred))"
   ]
  },
  {
   "cell_type": "code",
   "execution_count": 116,
   "metadata": {},
   "outputs": [
    {
     "name": "stdout",
     "output_type": "stream",
     "text": [
      "[[85265    36]\n",
      " [   37   105]]\n",
      "              precision    recall  f1-score   support\n",
      "\n",
      "           0       1.00      1.00      1.00     85301\n",
      "           1       0.74      0.74      0.74       142\n",
      "\n",
      "    accuracy                           1.00     85443\n",
      "   macro avg       0.87      0.87      0.87     85443\n",
      "weighted avg       1.00      1.00      1.00     85443\n",
      "\n"
     ]
    }
   ],
   "source": [
    "#Precision and Recall on test data\n",
    "pred=y_test_pred_prob.map(lambda x: 1 if x>0.8 else 0)\n",
    "print(confusion_matrix(y_test, pred))\n",
    "print(classification_report(y_test, pred))"
   ]
  },
  {
   "cell_type": "code",
   "execution_count": null,
   "metadata": {},
   "outputs": [],
   "source": []
  },
  {
   "cell_type": "markdown",
   "metadata": {},
   "source": [
    "### XGBOOST"
   ]
  },
  {
   "cell_type": "code",
   "execution_count": 127,
   "metadata": {},
   "outputs": [],
   "source": [
    "# importing libraries\n",
    "import xgboost as xgb\n",
    "from xgboost import XGBClassifier\n",
    "from xgboost import plot_importance\n"
   ]
  },
  {
   "cell_type": "code",
   "execution_count": 129,
   "metadata": {},
   "outputs": [
    {
     "name": "stdout",
     "output_type": "stream",
     "text": [
      "[[85263    38]\n",
      " [   26   116]]\n",
      "              precision    recall  f1-score   support\n",
      "\n",
      "           0       1.00      1.00      1.00     85301\n",
      "           1       0.75      0.82      0.78       142\n",
      "\n",
      "    accuracy                           1.00     85443\n",
      "   macro avg       0.88      0.91      0.89     85443\n",
      "weighted avg       1.00      1.00      1.00     85443\n",
      "\n"
     ]
    }
   ],
   "source": [
    "xgb_model = XGBClassifier()\n",
    "xgb_model.fit(X_train,y_train)\n"
   ]
  },
  {
   "cell_type": "code",
   "execution_count": 130,
   "metadata": {},
   "outputs": [
    {
     "name": "stdout",
     "output_type": "stream",
     "text": [
      "[[199005      9]\n",
      " [    53    297]]\n",
      "              precision    recall  f1-score   support\n",
      "\n",
      "           0       1.00      1.00      1.00    199014\n",
      "           1       0.97      0.85      0.91       350\n",
      "\n",
      "    accuracy                           1.00    199364\n",
      "   macro avg       0.99      0.92      0.95    199364\n",
      "weighted avg       1.00      1.00      1.00    199364\n",
      "\n"
     ]
    }
   ],
   "source": [
    "from sklearn.metrics import confusion_matrix, classification_report\n",
    "pred=xgb_model.predict(X_train)\n",
    "print(confusion_matrix(y_train, pred))\n",
    "print(classification_report(y_train, pred))"
   ]
  },
  {
   "cell_type": "code",
   "execution_count": 131,
   "metadata": {},
   "outputs": [
    {
     "name": "stdout",
     "output_type": "stream",
     "text": [
      "[[85263    38]\n",
      " [   26   116]]\n",
      "              precision    recall  f1-score   support\n",
      "\n",
      "           0       1.00      1.00      1.00     85301\n",
      "           1       0.75      0.82      0.78       142\n",
      "\n",
      "    accuracy                           1.00     85443\n",
      "   macro avg       0.88      0.91      0.89     85443\n",
      "weighted avg       1.00      1.00      1.00     85443\n",
      "\n"
     ]
    }
   ],
   "source": [
    "from sklearn.metrics import confusion_matrix, classification_report\n",
    "pred=xgb_model.predict(X_test)\n",
    "print(confusion_matrix(y_test, pred))\n",
    "print(classification_report(y_test, pred))"
   ]
  },
  {
   "cell_type": "code",
   "execution_count": 133,
   "metadata": {},
   "outputs": [
    {
     "name": "stderr",
     "output_type": "stream",
     "text": [
      "C:\\Users\\mahes\\Miniconda3\\envs\\myenv\\lib\\site-packages\\sklearn\\model_selection\\_search.py:281: UserWarning: The total space of parameters 6 is smaller than n_iter=10. Running 6 iterations. For exhaustive searches, use GridSearchCV.\n",
      "  % (grid_size, self.n_iter, grid_size), UserWarning)\n",
      "[Parallel(n_jobs=1)]: Using backend SequentialBackend with 1 concurrent workers.\n"
     ]
    },
    {
     "name": "stdout",
     "output_type": "stream",
     "text": [
      "Fitting 3 folds for each of 6 candidates, totalling 18 fits\n"
     ]
    },
    {
     "name": "stderr",
     "output_type": "stream",
     "text": [
      "[Parallel(n_jobs=1)]: Done  18 out of  18 | elapsed:  9.8min finished\n"
     ]
    },
    {
     "data": {
      "text/plain": [
       "RandomizedSearchCV(cv=3, error_score=nan,\n",
       "                   estimator=XGBClassifier(base_score=0.5, booster='gbtree',\n",
       "                                           colsample_bylevel=1,\n",
       "                                           colsample_bynode=1,\n",
       "                                           colsample_bytree=1, gamma=0,\n",
       "                                           learning_rate=0.1, max_delta_step=0,\n",
       "                                           max_depth=2, min_child_weight=1,\n",
       "                                           missing=None, n_estimators=200,\n",
       "                                           n_jobs=1, nthread=None,\n",
       "                                           objective='binary:logistic',\n",
       "                                           random_state=0, reg_alpha=0,\n",
       "                                           reg_lambda=1, scale_pos_weight=1,\n",
       "                                           seed=None, silent=None, subsample=1,\n",
       "                                           verbosity=1),\n",
       "                   iid='deprecated', n_iter=10, n_jobs=None,\n",
       "                   param_distributions={'learning_rate': [0.2, 0.6],\n",
       "                                        'subsample': [0.3, 0.6, 0.9]},\n",
       "                   pre_dispatch='2*n_jobs', random_state=None, refit=True,\n",
       "                   return_train_score=True, scoring='roc_auc', verbose=1)"
      ]
     },
     "execution_count": 133,
     "metadata": {},
     "output_type": "execute_result"
    }
   ],
   "source": [
    "# hyperparameter tuning with XGBoost\n",
    "from sklearn.model_selection import RandomizedSearchCV\n",
    "# creating a KFold object \n",
    "folds = 3\n",
    "\n",
    "# specify range of hyperparameters\n",
    "param_grid = {'learning_rate': [0.2, 0.6], \n",
    "             'subsample': [0.3, 0.6, 0.9]}          \n",
    "\n",
    "\n",
    "# specify model\n",
    "xgb_model = XGBClassifier(max_depth=2, n_estimators=200)\n",
    "\n",
    "# set up GridSearchCV()\n",
    "model_cv = RandomizedSearchCV(estimator = xgb_model, \n",
    "                        param_distributions = param_grid, \n",
    "                        scoring='roc_auc',\n",
    "                        cv = folds, \n",
    "                        verbose = 1,\n",
    "                        return_train_score=True)      \n",
    "\n",
    "model_cv.fit(X_train,y_train)"
   ]
  },
  {
   "cell_type": "code",
   "execution_count": 142,
   "metadata": {},
   "outputs": [
    {
     "data": {
      "text/plain": [
       "{'subsample': 0.6, 'learning_rate': 0.2}"
      ]
     },
     "execution_count": 142,
     "metadata": {},
     "output_type": "execute_result"
    }
   ],
   "source": [
    "# grid search best parameters\n",
    "model_cv.best_params_"
   ]
  },
  {
   "cell_type": "code",
   "execution_count": 145,
   "metadata": {
    "scrolled": true
   },
   "outputs": [
    {
     "data": {
      "text/html": [
       "<div>\n",
       "<style scoped>\n",
       "    .dataframe tbody tr th:only-of-type {\n",
       "        vertical-align: middle;\n",
       "    }\n",
       "\n",
       "    .dataframe tbody tr th {\n",
       "        vertical-align: top;\n",
       "    }\n",
       "\n",
       "    .dataframe thead th {\n",
       "        text-align: right;\n",
       "    }\n",
       "</style>\n",
       "<table border=\"1\" class=\"dataframe\">\n",
       "  <thead>\n",
       "    <tr style=\"text-align: right;\">\n",
       "      <th></th>\n",
       "      <th>mean_fit_time</th>\n",
       "      <th>std_fit_time</th>\n",
       "      <th>mean_score_time</th>\n",
       "      <th>std_score_time</th>\n",
       "      <th>param_subsample</th>\n",
       "      <th>param_learning_rate</th>\n",
       "      <th>params</th>\n",
       "      <th>split0_test_score</th>\n",
       "      <th>split1_test_score</th>\n",
       "      <th>split2_test_score</th>\n",
       "      <th>mean_test_score</th>\n",
       "      <th>std_test_score</th>\n",
       "      <th>rank_test_score</th>\n",
       "      <th>split0_train_score</th>\n",
       "      <th>split1_train_score</th>\n",
       "      <th>split2_train_score</th>\n",
       "      <th>mean_train_score</th>\n",
       "      <th>std_train_score</th>\n",
       "    </tr>\n",
       "  </thead>\n",
       "  <tbody>\n",
       "    <tr>\n",
       "      <th>0</th>\n",
       "      <td>25.824959</td>\n",
       "      <td>0.332728</td>\n",
       "      <td>0.336238</td>\n",
       "      <td>0.005249</td>\n",
       "      <td>0.3</td>\n",
       "      <td>0.2</td>\n",
       "      <td>{'subsample': 0.3, 'learning_rate': 0.2}</td>\n",
       "      <td>0.971153</td>\n",
       "      <td>0.958423</td>\n",
       "      <td>0.978262</td>\n",
       "      <td>0.969279</td>\n",
       "      <td>0.008207</td>\n",
       "      <td>5</td>\n",
       "      <td>0.999767</td>\n",
       "      <td>0.999967</td>\n",
       "      <td>0.999798</td>\n",
       "      <td>0.999844</td>\n",
       "      <td>0.000088</td>\n",
       "    </tr>\n",
       "    <tr>\n",
       "      <th>1</th>\n",
       "      <td>34.000549</td>\n",
       "      <td>0.185989</td>\n",
       "      <td>0.328471</td>\n",
       "      <td>0.000937</td>\n",
       "      <td>0.6</td>\n",
       "      <td>0.2</td>\n",
       "      <td>{'subsample': 0.6, 'learning_rate': 0.2}</td>\n",
       "      <td>0.986520</td>\n",
       "      <td>0.962944</td>\n",
       "      <td>0.979508</td>\n",
       "      <td>0.976324</td>\n",
       "      <td>0.009884</td>\n",
       "      <td>1</td>\n",
       "      <td>0.999967</td>\n",
       "      <td>0.999993</td>\n",
       "      <td>0.999912</td>\n",
       "      <td>0.999957</td>\n",
       "      <td>0.000034</td>\n",
       "    </tr>\n",
       "    <tr>\n",
       "      <th>2</th>\n",
       "      <td>36.888433</td>\n",
       "      <td>0.111685</td>\n",
       "      <td>0.325461</td>\n",
       "      <td>0.001695</td>\n",
       "      <td>0.9</td>\n",
       "      <td>0.2</td>\n",
       "      <td>{'subsample': 0.9, 'learning_rate': 0.2}</td>\n",
       "      <td>0.981058</td>\n",
       "      <td>0.964820</td>\n",
       "      <td>0.979530</td>\n",
       "      <td>0.975136</td>\n",
       "      <td>0.007321</td>\n",
       "      <td>2</td>\n",
       "      <td>0.999960</td>\n",
       "      <td>0.999995</td>\n",
       "      <td>0.999945</td>\n",
       "      <td>0.999966</td>\n",
       "      <td>0.000021</td>\n",
       "    </tr>\n",
       "    <tr>\n",
       "      <th>3</th>\n",
       "      <td>25.095421</td>\n",
       "      <td>0.247611</td>\n",
       "      <td>0.345122</td>\n",
       "      <td>0.002368</td>\n",
       "      <td>0.3</td>\n",
       "      <td>0.6</td>\n",
       "      <td>{'subsample': 0.3, 'learning_rate': 0.6}</td>\n",
       "      <td>0.973290</td>\n",
       "      <td>0.947848</td>\n",
       "      <td>0.978413</td>\n",
       "      <td>0.966517</td>\n",
       "      <td>0.013365</td>\n",
       "      <td>6</td>\n",
       "      <td>0.999989</td>\n",
       "      <td>1.000000</td>\n",
       "      <td>0.999998</td>\n",
       "      <td>0.999996</td>\n",
       "      <td>0.000005</td>\n",
       "    </tr>\n",
       "    <tr>\n",
       "      <th>4</th>\n",
       "      <td>32.534858</td>\n",
       "      <td>0.489669</td>\n",
       "      <td>0.349124</td>\n",
       "      <td>0.002620</td>\n",
       "      <td>0.6</td>\n",
       "      <td>0.6</td>\n",
       "      <td>{'subsample': 0.6, 'learning_rate': 0.6}</td>\n",
       "      <td>0.969124</td>\n",
       "      <td>0.967006</td>\n",
       "      <td>0.973862</td>\n",
       "      <td>0.969997</td>\n",
       "      <td>0.002866</td>\n",
       "      <td>4</td>\n",
       "      <td>1.000000</td>\n",
       "      <td>1.000000</td>\n",
       "      <td>1.000000</td>\n",
       "      <td>1.000000</td>\n",
       "      <td>0.000000</td>\n",
       "    </tr>\n",
       "    <tr>\n",
       "      <th>5</th>\n",
       "      <td>35.061570</td>\n",
       "      <td>0.239595</td>\n",
       "      <td>0.349445</td>\n",
       "      <td>0.003664</td>\n",
       "      <td>0.9</td>\n",
       "      <td>0.6</td>\n",
       "      <td>{'subsample': 0.9, 'learning_rate': 0.6}</td>\n",
       "      <td>0.970385</td>\n",
       "      <td>0.964742</td>\n",
       "      <td>0.979517</td>\n",
       "      <td>0.971548</td>\n",
       "      <td>0.006088</td>\n",
       "      <td>3</td>\n",
       "      <td>1.000000</td>\n",
       "      <td>1.000000</td>\n",
       "      <td>1.000000</td>\n",
       "      <td>1.000000</td>\n",
       "      <td>0.000000</td>\n",
       "    </tr>\n",
       "  </tbody>\n",
       "</table>\n",
       "</div>"
      ],
      "text/plain": [
       "   mean_fit_time  std_fit_time  mean_score_time  std_score_time  \\\n",
       "0      25.824959      0.332728         0.336238        0.005249   \n",
       "1      34.000549      0.185989         0.328471        0.000937   \n",
       "2      36.888433      0.111685         0.325461        0.001695   \n",
       "3      25.095421      0.247611         0.345122        0.002368   \n",
       "4      32.534858      0.489669         0.349124        0.002620   \n",
       "5      35.061570      0.239595         0.349445        0.003664   \n",
       "\n",
       "  param_subsample param_learning_rate  \\\n",
       "0             0.3                 0.2   \n",
       "1             0.6                 0.2   \n",
       "2             0.9                 0.2   \n",
       "3             0.3                 0.6   \n",
       "4             0.6                 0.6   \n",
       "5             0.9                 0.6   \n",
       "\n",
       "                                     params  split0_test_score  \\\n",
       "0  {'subsample': 0.3, 'learning_rate': 0.2}           0.971153   \n",
       "1  {'subsample': 0.6, 'learning_rate': 0.2}           0.986520   \n",
       "2  {'subsample': 0.9, 'learning_rate': 0.2}           0.981058   \n",
       "3  {'subsample': 0.3, 'learning_rate': 0.6}           0.973290   \n",
       "4  {'subsample': 0.6, 'learning_rate': 0.6}           0.969124   \n",
       "5  {'subsample': 0.9, 'learning_rate': 0.6}           0.970385   \n",
       "\n",
       "   split1_test_score  split2_test_score  mean_test_score  std_test_score  \\\n",
       "0           0.958423           0.978262         0.969279        0.008207   \n",
       "1           0.962944           0.979508         0.976324        0.009884   \n",
       "2           0.964820           0.979530         0.975136        0.007321   \n",
       "3           0.947848           0.978413         0.966517        0.013365   \n",
       "4           0.967006           0.973862         0.969997        0.002866   \n",
       "5           0.964742           0.979517         0.971548        0.006088   \n",
       "\n",
       "   rank_test_score  split0_train_score  split1_train_score  \\\n",
       "0                5            0.999767            0.999967   \n",
       "1                1            0.999967            0.999993   \n",
       "2                2            0.999960            0.999995   \n",
       "3                6            0.999989            1.000000   \n",
       "4                4            1.000000            1.000000   \n",
       "5                3            1.000000            1.000000   \n",
       "\n",
       "   split2_train_score  mean_train_score  std_train_score  \n",
       "0            0.999798          0.999844         0.000088  \n",
       "1            0.999912          0.999957         0.000034  \n",
       "2            0.999945          0.999966         0.000021  \n",
       "3            0.999998          0.999996         0.000005  \n",
       "4            1.000000          1.000000         0.000000  \n",
       "5            1.000000          1.000000         0.000000  "
      ]
     },
     "execution_count": 145,
     "metadata": {},
     "output_type": "execute_result"
    }
   ],
   "source": [
    "pd.DataFrame(model_cv.cv_results_)"
   ]
  },
  {
   "cell_type": "code",
   "execution_count": 140,
   "metadata": {},
   "outputs": [
    {
     "data": {
      "text/plain": [
       "XGBClassifier(base_score=0.5, booster='gbtree', colsample_bylevel=1,\n",
       "              colsample_bynode=1, colsample_bytree=1, gamma=0,\n",
       "              learning_rate=0.2, max_delta_step=0, max_depth=2,\n",
       "              min_child_weight=1, missing=None, n_estimators=200, n_jobs=1,\n",
       "              nthread=None, objective='binary:logistic', random_state=0,\n",
       "              reg_alpha=0, reg_lambda=1, scale_pos_weight=1, seed=None,\n",
       "              silent=None, subsample=0.6, verbosity=1)"
      ]
     },
     "execution_count": 140,
     "metadata": {},
     "output_type": "execute_result"
    }
   ],
   "source": [
    "xgb_model = XGBClassifier(max_depth=2, n_estimators=200,subsample= 0.6, learning_rate= 0.2)\n",
    "xgb_model.fit(X_train,y_train)"
   ]
  },
  {
   "cell_type": "code",
   "execution_count": 141,
   "metadata": {},
   "outputs": [
    {
     "data": {
      "image/png": "[encoded data removed]",
      "text/plain": [
       "<Figure size 360x360 with 1 Axes>"
      ]
     },
     "metadata": {
      "needs_background": "light"
     },
     "output_type": "display_data"
    }
   ],
   "source": [
    "#print the evaluation result by choosing a evaluation metric\n",
    "draw_roc(y_train,pd.DataFrame(xgb_model.predict_proba(X_train))[1])"
   ]
  },
  {
   "cell_type": "code",
   "execution_count": 146,
   "metadata": {},
   "outputs": [
    {
     "name": "stdout",
     "output_type": "stream",
     "text": [
      "[[199010      4]\n",
      " [    38    312]]\n",
      "              precision    recall  f1-score   support\n",
      "\n",
      "           0       1.00      1.00      1.00    199014\n",
      "           1       0.99      0.89      0.94       350\n",
      "\n",
      "    accuracy                           1.00    199364\n",
      "   macro avg       0.99      0.95      0.97    199364\n",
      "weighted avg       1.00      1.00      1.00    199364\n",
      "\n"
     ]
    }
   ],
   "source": [
    "from sklearn.metrics import confusion_matrix, classification_report\n",
    "pred=xgb_model.predict(X_train)\n",
    "print(confusion_matrix(y_train, pred))\n",
    "print(classification_report(y_train, pred))"
   ]
  },
  {
   "cell_type": "code",
   "execution_count": 147,
   "metadata": {},
   "outputs": [
    {
     "name": "stdout",
     "output_type": "stream",
     "text": [
      "[[85236    65]\n",
      " [   26   116]]\n",
      "              precision    recall  f1-score   support\n",
      "\n",
      "           0       1.00      1.00      1.00     85301\n",
      "           1       0.64      0.82      0.72       142\n",
      "\n",
      "    accuracy                           1.00     85443\n",
      "   macro avg       0.82      0.91      0.86     85443\n",
      "weighted avg       1.00      1.00      1.00     85443\n",
      "\n"
     ]
    }
   ],
   "source": [
    "from sklearn.metrics import confusion_matrix, classification_report\n",
    "pred=xgb_model.predict(X_test)\n",
    "print(confusion_matrix(y_test, pred))\n",
    "print(classification_report(y_test, pred))"
   ]
  },
  {
   "cell_type": "code",
   "execution_count": 175,
   "metadata": {},
   "outputs": [
    {
     "name": "stdout",
     "output_type": "stream",
     "text": [
      "roc_auc_score : 0.9413163427405619\n"
     ]
    }
   ],
   "source": [
    "clf = RandomForestClassifier(max_depth= 8,\n",
    " max_features= 10,\n",
    " min_samples_leaf= 100,\n",
    " min_samples_split= 200,\n",
    " n_estimators= 100) #initialise the model with optimum hyperparameters\n",
    "clf.fit(X_train, y_train)\n",
    " #print the evaluation score on the X_test by choosing the best evaluation metric\n",
    "print(\"roc_auc_score :\",metrics.roc_auc_score(y_test,clf.predict_proba(X_test)[:,1]) ) "
   ]
  },
  {
   "cell_type": "markdown",
   "metadata": {},
   "source": [
    "### Print the important features of the best model to understand the dataset\n",
    "- This will not give much explanation on the already transformed dataset\n",
    "- But it will help us in understanding if the dataset is not PCA transformed"
   ]
  },
  {
   "cell_type": "code",
   "execution_count": 176,
   "metadata": {},
   "outputs": [
    {
     "name": "stdout",
     "output_type": "stream",
     "text": [
      "Top var = 17\n",
      "2nd Top var = 14\n",
      "3rd Top var = 12\n"
     ]
    },
    {
     "data": {
      "text/plain": [
       "<matplotlib.legend.Legend at 0x1859ee60748>"
      ]
     },
     "execution_count": 176,
     "metadata": {},
     "output_type": "execute_result"
    },
    {
     "data": {
      "image/png": "[encoded data removed]",
      "text/plain": [
       "<Figure size 1440x1440 with 1 Axes>"
      ]
     },
     "metadata": {
      "needs_background": "light"
     },
     "output_type": "display_data"
    }
   ],
   "source": [
    "var_imp = []\n",
    "for i in clf.feature_importances_:\n",
    "    var_imp.append(i)\n",
    "print('Top var =', var_imp.index(np.sort(clf.feature_importances_)[-1])+1)\n",
    "print('2nd Top var =', var_imp.index(np.sort(clf.feature_importances_)[-2])+1)\n",
    "print('3rd Top var =', var_imp.index(np.sort(clf.feature_importances_)[-3])+1)\n",
    "\n",
    "# Variable on Index-16 and Index-13 seems to be the top 2 variables\n",
    "top_var_index = var_imp.index(np.sort(clf.feature_importances_)[-1])\n",
    "second_top_var_index = var_imp.index(np.sort(clf.feature_importances_)[-2])\n",
    "\n",
    "X_train_1 = X_train.to_numpy()[np.where(y_train==1.0)]\n",
    "X_train_0 = X_train.to_numpy()[np.where(y_train==0.0)]\n",
    "\n",
    "np.random.shuffle(X_train_0)\n",
    "\n",
    "import matplotlib.pyplot as plt\n",
    "%matplotlib inline\n",
    "plt.rcParams['figure.figsize'] = [20, 20]\n",
    "\n",
    "plt.scatter(X_train_1[:, top_var_index], X_train_1[:, second_top_var_index], label='Actual Class-1 Examples')\n",
    "plt.scatter(X_train_0[:X_train_1.shape[0], top_var_index], X_train_0[:X_train_1.shape[0], second_top_var_index],\n",
    "            label='Actual Class-0 Examples')\n",
    "plt.legend()"
   ]
  },
  {
   "cell_type": "markdown",
   "metadata": {},
   "source": [
    "## Model building with balancing Classes\n",
    "\n",
    "##### Perform class balancing with :\n",
    "- Random Oversampling\n",
    "- SMOTE\n",
    "- ADASYN"
   ]
  },
  {
   "cell_type": "markdown",
   "metadata": {},
   "source": [
    "## Model Building\n",
    "- Build different models on the balanced dataset and see the result"
   ]
  },
  {
   "cell_type": "code",
   "execution_count": null,
   "metadata": {},
   "outputs": [],
   "source": [
    "# Logistic Regression\n",
    "from sklearn import linear_model #import the package\n",
    "\n",
    "#num_C = ______  #--> list of values\n",
    "#cv_num =   #--> list of values"
   ]
  },
  {
   "cell_type": "markdown",
   "metadata": {},
   "source": [
    "#### perfom cross validation on the X_train & y_train to create:\n",
    "- X_train_cv\n",
    "- X_test_cv \n",
    "- y_train_cv\n",
    "- y_test_cv "
   ]
  },
  {
   "cell_type": "markdown",
   "metadata": {},
   "source": [
    "### Random Oversampling"
   ]
  },
  {
   "cell_type": "code",
   "execution_count": 545,
   "metadata": {},
   "outputs": [
    {
     "data": {
      "text/html": [
       "<div>\n",
       "<style scoped>\n",
       "    .dataframe tbody tr th:only-of-type {\n",
       "        vertical-align: middle;\n",
       "    }\n",
       "\n",
       "    .dataframe tbody tr th {\n",
       "        vertical-align: top;\n",
       "    }\n",
       "\n",
       "    .dataframe thead th {\n",
       "        text-align: right;\n",
       "    }\n",
       "</style>\n",
       "<table border=\"1\" class=\"dataframe\">\n",
       "  <thead>\n",
       "    <tr style=\"text-align: right;\">\n",
       "      <th></th>\n",
       "      <th>V1</th>\n",
       "      <th>V2</th>\n",
       "      <th>V3</th>\n",
       "      <th>V4</th>\n",
       "      <th>V5</th>\n",
       "      <th>V6</th>\n",
       "      <th>V7</th>\n",
       "      <th>V8</th>\n",
       "      <th>V9</th>\n",
       "      <th>V10</th>\n",
       "      <th>...</th>\n",
       "      <th>V20</th>\n",
       "      <th>V21</th>\n",
       "      <th>V22</th>\n",
       "      <th>V23</th>\n",
       "      <th>V24</th>\n",
       "      <th>V25</th>\n",
       "      <th>V26</th>\n",
       "      <th>V27</th>\n",
       "      <th>V28</th>\n",
       "      <th>Amount</th>\n",
       "    </tr>\n",
       "  </thead>\n",
       "  <tbody>\n",
       "    <tr>\n",
       "      <th>0</th>\n",
       "      <td>2.053474</td>\n",
       "      <td>-0.149880</td>\n",
       "      <td>-1.092234</td>\n",
       "      <td>0.420978</td>\n",
       "      <td>-0.225796</td>\n",
       "      <td>-1.159629</td>\n",
       "      <td>0.082871</td>\n",
       "      <td>-0.236532</td>\n",
       "      <td>0.733270</td>\n",
       "      <td>0.102520</td>\n",
       "      <td>...</td>\n",
       "      <td>-0.313465</td>\n",
       "      <td>-0.298362</td>\n",
       "      <td>-0.779702</td>\n",
       "      <td>0.362701</td>\n",
       "      <td>-0.048183</td>\n",
       "      <td>-0.356438</td>\n",
       "      <td>0.205392</td>\n",
       "      <td>-0.075806</td>\n",
       "      <td>-0.063325</td>\n",
       "      <td>1.29</td>\n",
       "    </tr>\n",
       "    <tr>\n",
       "      <th>1</th>\n",
       "      <td>0.149477</td>\n",
       "      <td>1.112008</td>\n",
       "      <td>-0.391539</td>\n",
       "      <td>-0.557452</td>\n",
       "      <td>1.014727</td>\n",
       "      <td>-0.801985</td>\n",
       "      <td>1.042734</td>\n",
       "      <td>-0.167625</td>\n",
       "      <td>-0.200830</td>\n",
       "      <td>-0.863839</td>\n",
       "      <td>...</td>\n",
       "      <td>0.084311</td>\n",
       "      <td>-0.331768</td>\n",
       "      <td>-0.755443</td>\n",
       "      <td>0.079155</td>\n",
       "      <td>0.587098</td>\n",
       "      <td>-0.383245</td>\n",
       "      <td>0.110292</td>\n",
       "      <td>0.229167</td>\n",
       "      <td>0.086294</td>\n",
       "      <td>2.69</td>\n",
       "    </tr>\n",
       "    <tr>\n",
       "      <th>2</th>\n",
       "      <td>2.145379</td>\n",
       "      <td>0.215237</td>\n",
       "      <td>-2.221643</td>\n",
       "      <td>-0.067032</td>\n",
       "      <td>0.815822</td>\n",
       "      <td>-1.358596</td>\n",
       "      <td>0.843943</td>\n",
       "      <td>-0.594243</td>\n",
       "      <td>0.009745</td>\n",
       "      <td>-0.021497</td>\n",
       "      <td>...</td>\n",
       "      <td>-0.133286</td>\n",
       "      <td>0.153606</td>\n",
       "      <td>0.611995</td>\n",
       "      <td>-0.027494</td>\n",
       "      <td>0.824538</td>\n",
       "      <td>0.505014</td>\n",
       "      <td>0.203037</td>\n",
       "      <td>-0.083225</td>\n",
       "      <td>-0.069468</td>\n",
       "      <td>4.55</td>\n",
       "    </tr>\n",
       "    <tr>\n",
       "      <th>3</th>\n",
       "      <td>-0.354219</td>\n",
       "      <td>0.100332</td>\n",
       "      <td>1.721509</td>\n",
       "      <td>-0.884417</td>\n",
       "      <td>-0.371977</td>\n",
       "      <td>-0.062313</td>\n",
       "      <td>-0.144740</td>\n",
       "      <td>0.163123</td>\n",
       "      <td>-1.843755</td>\n",
       "      <td>0.520706</td>\n",
       "      <td>...</td>\n",
       "      <td>0.295444</td>\n",
       "      <td>0.136969</td>\n",
       "      <td>0.217167</td>\n",
       "      <td>-0.014350</td>\n",
       "      <td>0.016538</td>\n",
       "      <td>-0.326120</td>\n",
       "      <td>-0.285113</td>\n",
       "      <td>0.118226</td>\n",
       "      <td>0.103791</td>\n",
       "      <td>19.95</td>\n",
       "    </tr>\n",
       "    <tr>\n",
       "      <th>4</th>\n",
       "      <td>-0.439888</td>\n",
       "      <td>1.871311</td>\n",
       "      <td>-1.106687</td>\n",
       "      <td>1.064853</td>\n",
       "      <td>1.239594</td>\n",
       "      <td>-0.633668</td>\n",
       "      <td>1.100319</td>\n",
       "      <td>0.221096</td>\n",
       "      <td>-0.917002</td>\n",
       "      <td>-0.844362</td>\n",
       "      <td>...</td>\n",
       "      <td>0.024939</td>\n",
       "      <td>0.059066</td>\n",
       "      <td>0.366613</td>\n",
       "      <td>-0.250861</td>\n",
       "      <td>0.494710</td>\n",
       "      <td>0.091257</td>\n",
       "      <td>-0.398552</td>\n",
       "      <td>0.330173</td>\n",
       "      <td>0.219909</td>\n",
       "      <td>6.30</td>\n",
       "    </tr>\n",
       "    <tr>\n",
       "      <th>...</th>\n",
       "      <td>...</td>\n",
       "      <td>...</td>\n",
       "      <td>...</td>\n",
       "      <td>...</td>\n",
       "      <td>...</td>\n",
       "      <td>...</td>\n",
       "      <td>...</td>\n",
       "      <td>...</td>\n",
       "      <td>...</td>\n",
       "      <td>...</td>\n",
       "      <td>...</td>\n",
       "      <td>...</td>\n",
       "      <td>...</td>\n",
       "      <td>...</td>\n",
       "      <td>...</td>\n",
       "      <td>...</td>\n",
       "      <td>...</td>\n",
       "      <td>...</td>\n",
       "      <td>...</td>\n",
       "      <td>...</td>\n",
       "      <td>...</td>\n",
       "    </tr>\n",
       "    <tr>\n",
       "      <th>202995</th>\n",
       "      <td>0.702710</td>\n",
       "      <td>2.426433</td>\n",
       "      <td>-5.234513</td>\n",
       "      <td>4.416661</td>\n",
       "      <td>-2.170806</td>\n",
       "      <td>-2.667554</td>\n",
       "      <td>-3.878088</td>\n",
       "      <td>0.911337</td>\n",
       "      <td>-0.166199</td>\n",
       "      <td>-5.009249</td>\n",
       "      <td>...</td>\n",
       "      <td>0.422743</td>\n",
       "      <td>0.551180</td>\n",
       "      <td>-0.009802</td>\n",
       "      <td>0.721698</td>\n",
       "      <td>0.473246</td>\n",
       "      <td>-1.959304</td>\n",
       "      <td>0.319476</td>\n",
       "      <td>0.600485</td>\n",
       "      <td>0.129305</td>\n",
       "      <td>1.00</td>\n",
       "    </tr>\n",
       "    <tr>\n",
       "      <th>202996</th>\n",
       "      <td>-8.744415</td>\n",
       "      <td>-3.420468</td>\n",
       "      <td>-4.850575</td>\n",
       "      <td>6.606846</td>\n",
       "      <td>-2.800546</td>\n",
       "      <td>0.105512</td>\n",
       "      <td>-3.269801</td>\n",
       "      <td>0.940378</td>\n",
       "      <td>-2.558691</td>\n",
       "      <td>-3.624775</td>\n",
       "      <td>...</td>\n",
       "      <td>-1.818315</td>\n",
       "      <td>0.102913</td>\n",
       "      <td>0.311626</td>\n",
       "      <td>-4.129195</td>\n",
       "      <td>0.034639</td>\n",
       "      <td>-1.133631</td>\n",
       "      <td>0.272265</td>\n",
       "      <td>1.841307</td>\n",
       "      <td>-1.796363</td>\n",
       "      <td>720.38</td>\n",
       "    </tr>\n",
       "    <tr>\n",
       "      <th>202997</th>\n",
       "      <td>-2.450367</td>\n",
       "      <td>2.107729</td>\n",
       "      <td>-5.140663</td>\n",
       "      <td>1.411304</td>\n",
       "      <td>-1.690780</td>\n",
       "      <td>-0.736427</td>\n",
       "      <td>-3.657946</td>\n",
       "      <td>1.944906</td>\n",
       "      <td>-0.788388</td>\n",
       "      <td>-5.624677</td>\n",
       "      <td>...</td>\n",
       "      <td>-0.130438</td>\n",
       "      <td>0.800538</td>\n",
       "      <td>0.364617</td>\n",
       "      <td>0.233608</td>\n",
       "      <td>-0.282078</td>\n",
       "      <td>-0.320311</td>\n",
       "      <td>0.492920</td>\n",
       "      <td>0.359976</td>\n",
       "      <td>-0.115471</td>\n",
       "      <td>80.22</td>\n",
       "    </tr>\n",
       "    <tr>\n",
       "      <th>202998</th>\n",
       "      <td>1.232604</td>\n",
       "      <td>-0.548931</td>\n",
       "      <td>1.087873</td>\n",
       "      <td>0.894082</td>\n",
       "      <td>-1.433055</td>\n",
       "      <td>-0.356797</td>\n",
       "      <td>-0.717492</td>\n",
       "      <td>0.003167</td>\n",
       "      <td>-0.100397</td>\n",
       "      <td>0.543187</td>\n",
       "      <td>...</td>\n",
       "      <td>-0.576274</td>\n",
       "      <td>-0.448671</td>\n",
       "      <td>-0.517568</td>\n",
       "      <td>0.012833</td>\n",
       "      <td>0.699217</td>\n",
       "      <td>0.527258</td>\n",
       "      <td>-0.322607</td>\n",
       "      <td>0.080805</td>\n",
       "      <td>0.035427</td>\n",
       "      <td>19.59</td>\n",
       "    </tr>\n",
       "    <tr>\n",
       "      <th>202999</th>\n",
       "      <td>-1.855061</td>\n",
       "      <td>1.554964</td>\n",
       "      <td>-1.405809</td>\n",
       "      <td>0.669327</td>\n",
       "      <td>-0.280230</td>\n",
       "      <td>1.178652</td>\n",
       "      <td>-3.459979</td>\n",
       "      <td>-2.815155</td>\n",
       "      <td>1.242229</td>\n",
       "      <td>-4.156354</td>\n",
       "      <td>...</td>\n",
       "      <td>0.536916</td>\n",
       "      <td>-0.095308</td>\n",
       "      <td>0.946629</td>\n",
       "      <td>-0.297403</td>\n",
       "      <td>-0.368344</td>\n",
       "      <td>0.198731</td>\n",
       "      <td>-0.078591</td>\n",
       "      <td>0.366709</td>\n",
       "      <td>0.073767</td>\n",
       "      <td>38.76</td>\n",
       "    </tr>\n",
       "  </tbody>\n",
       "</table>\n",
       "<p>203000 rows × 29 columns</p>\n",
       "</div>"
      ],
      "text/plain": [
       "              V1        V2        V3        V4        V5        V6        V7  \\\n",
       "0       2.053474 -0.149880 -1.092234  0.420978 -0.225796 -1.159629  0.082871   \n",
       "1       0.149477  1.112008 -0.391539 -0.557452  1.014727 -0.801985  1.042734   \n",
       "2       2.145379  0.215237 -2.221643 -0.067032  0.815822 -1.358596  0.843943   \n",
       "3      -0.354219  0.100332  1.721509 -0.884417 -0.371977 -0.062313 -0.144740   \n",
       "4      -0.439888  1.871311 -1.106687  1.064853  1.239594 -0.633668  1.100319   \n",
       "...          ...       ...       ...       ...       ...       ...       ...   \n",
       "202995  0.702710  2.426433 -5.234513  4.416661 -2.170806 -2.667554 -3.878088   \n",
       "202996 -8.744415 -3.420468 -4.850575  6.606846 -2.800546  0.105512 -3.269801   \n",
       "202997 -2.450367  2.107729 -5.140663  1.411304 -1.690780 -0.736427 -3.657946   \n",
       "202998  1.232604 -0.548931  1.087873  0.894082 -1.433055 -0.356797 -0.717492   \n",
       "202999 -1.855061  1.554964 -1.405809  0.669327 -0.280230  1.178652 -3.459979   \n",
       "\n",
       "              V8        V9       V10  ...       V20       V21       V22  \\\n",
       "0      -0.236532  0.733270  0.102520  ... -0.313465 -0.298362 -0.779702   \n",
       "1      -0.167625 -0.200830 -0.863839  ...  0.084311 -0.331768 -0.755443   \n",
       "2      -0.594243  0.009745 -0.021497  ... -0.133286  0.153606  0.611995   \n",
       "3       0.163123 -1.843755  0.520706  ...  0.295444  0.136969  0.217167   \n",
       "4       0.221096 -0.917002 -0.844362  ...  0.024939  0.059066  0.366613   \n",
       "...          ...       ...       ...  ...       ...       ...       ...   \n",
       "202995  0.911337 -0.166199 -5.009249  ...  0.422743  0.551180 -0.009802   \n",
       "202996  0.940378 -2.558691 -3.624775  ... -1.818315  0.102913  0.311626   \n",
       "202997  1.944906 -0.788388 -5.624677  ... -0.130438  0.800538  0.364617   \n",
       "202998  0.003167 -0.100397  0.543187  ... -0.576274 -0.448671 -0.517568   \n",
       "202999 -2.815155  1.242229 -4.156354  ...  0.536916 -0.095308  0.946629   \n",
       "\n",
       "             V23       V24       V25       V26       V27       V28  Amount  \n",
       "0       0.362701 -0.048183 -0.356438  0.205392 -0.075806 -0.063325    1.29  \n",
       "1       0.079155  0.587098 -0.383245  0.110292  0.229167  0.086294    2.69  \n",
       "2      -0.027494  0.824538  0.505014  0.203037 -0.083225 -0.069468    4.55  \n",
       "3      -0.014350  0.016538 -0.326120 -0.285113  0.118226  0.103791   19.95  \n",
       "4      -0.250861  0.494710  0.091257 -0.398552  0.330173  0.219909    6.30  \n",
       "...          ...       ...       ...       ...       ...       ...     ...  \n",
       "202995  0.721698  0.473246 -1.959304  0.319476  0.600485  0.129305    1.00  \n",
       "202996 -4.129195  0.034639 -1.133631  0.272265  1.841307 -1.796363  720.38  \n",
       "202997  0.233608 -0.282078 -0.320311  0.492920  0.359976 -0.115471   80.22  \n",
       "202998  0.012833  0.699217  0.527258 -0.322607  0.080805  0.035427   19.59  \n",
       "202999 -0.297403 -0.368344  0.198731 -0.078591  0.366709  0.073767   38.76  \n",
       "\n",
       "[203000 rows x 29 columns]"
      ]
     },
     "execution_count": 545,
     "metadata": {},
     "output_type": "execute_result"
    }
   ],
   "source": [
    "from imblearn.over_sampling import RandomOverSampler\n",
    "ros=RandomOverSampler(random_state=0,sampling_strategy=0.02)\n",
    "X_train_sample,y_train_sample=ros.fit_resample(X_train,y_train)\n",
    "X_train_sample"
   ]
  },
  {
   "cell_type": "code",
   "execution_count": 546,
   "metadata": {},
   "outputs": [
    {
     "data": {
      "text/plain": [
       "0    199020\n",
       "1      3980\n",
       "Name: Class, dtype: int64"
      ]
     },
     "execution_count": 546,
     "metadata": {},
     "output_type": "execute_result"
    }
   ],
   "source": [
    "y_train_sample.value_counts()"
   ]
  },
  {
   "cell_type": "code",
   "execution_count": 200,
   "metadata": {
    "scrolled": true
   },
   "outputs": [
    {
     "name": "stdout",
     "output_type": "stream",
     "text": [
      "Fitting 3 folds for each of 5 candidates, totalling 15 fits\n"
     ]
    },
    {
     "name": "stderr",
     "output_type": "stream",
     "text": [
      "[Parallel(n_jobs=1)]: Using backend SequentialBackend with 1 concurrent workers.\n",
      "[Parallel(n_jobs=1)]: Done  15 out of  15 | elapsed:   20.5s finished\n"
     ]
    },
    {
     "name": "stdout",
     "output_type": "stream",
     "text": [
      "{'C': 0.002}\n"
     ]
    }
   ],
   "source": [
    "from sklearn.model_selection import GridSearchCV\n",
    "from sklearn.model_selection import StratifiedKFold\n",
    "from imblearn.pipeline import Pipeline, make_pipeline\n",
    "#perform cross validation\n",
    "#perform hyperparameter tuning\n",
    "logst=LogisticRegression()\n",
    "kf=StratifiedKFold(n_splits=3,random_state=100)\n",
    "\n",
    "imba_pipeline = make_pipeline(RandomOverSampler(random_state=42), \n",
    "                              LogisticRegression())\n",
    "\n",
    "params={'logisticregression__C':[0.001, 0.002, 0.005,0.007,0.01]}\n",
    "modelcv=GridSearchCV(estimator=imba_pipeline,param_grid=params,scoring='roc_auc',return_train_score=True,cv=kf,verbose=True)\n",
    "modelcv.fit(X_train,y_train)\n",
    "\n",
    "\n",
    "\n",
    "#print the optimum value of hyperparameters\n",
    "print(modelcv.best_params_)"
   ]
  },
  {
   "cell_type": "code",
   "execution_count": 201,
   "metadata": {},
   "outputs": [
    {
     "data": {
      "text/html": [
       "<div>\n",
       "<style scoped>\n",
       "    .dataframe tbody tr th:only-of-type {\n",
       "        vertical-align: middle;\n",
       "    }\n",
       "\n",
       "    .dataframe tbody tr th {\n",
       "        vertical-align: top;\n",
       "    }\n",
       "\n",
       "    .dataframe thead th {\n",
       "        text-align: right;\n",
       "    }\n",
       "</style>\n",
       "<table border=\"1\" class=\"dataframe\">\n",
       "  <thead>\n",
       "    <tr style=\"text-align: right;\">\n",
       "      <th></th>\n",
       "      <th>mean_fit_time</th>\n",
       "      <th>std_fit_time</th>\n",
       "      <th>mean_score_time</th>\n",
       "      <th>std_score_time</th>\n",
       "      <th>param_C</th>\n",
       "      <th>params</th>\n",
       "      <th>split0_test_score</th>\n",
       "      <th>split1_test_score</th>\n",
       "      <th>split2_test_score</th>\n",
       "      <th>mean_test_score</th>\n",
       "      <th>std_test_score</th>\n",
       "      <th>rank_test_score</th>\n",
       "      <th>split0_train_score</th>\n",
       "      <th>split1_train_score</th>\n",
       "      <th>split2_train_score</th>\n",
       "      <th>mean_train_score</th>\n",
       "      <th>std_train_score</th>\n",
       "    </tr>\n",
       "  </thead>\n",
       "  <tbody>\n",
       "    <tr>\n",
       "      <th>0</th>\n",
       "      <td>1.028106</td>\n",
       "      <td>0.165624</td>\n",
       "      <td>0.072290</td>\n",
       "      <td>0.005551</td>\n",
       "      <td>0.001</td>\n",
       "      <td>{'C': 0.001}</td>\n",
       "      <td>0.950151</td>\n",
       "      <td>0.949983</td>\n",
       "      <td>0.952212</td>\n",
       "      <td>0.950782</td>\n",
       "      <td>0.001013</td>\n",
       "      <td>5</td>\n",
       "      <td>0.951338</td>\n",
       "      <td>0.951171</td>\n",
       "      <td>0.949931</td>\n",
       "      <td>0.950813</td>\n",
       "      <td>0.000628</td>\n",
       "    </tr>\n",
       "    <tr>\n",
       "      <th>1</th>\n",
       "      <td>1.123357</td>\n",
       "      <td>0.066541</td>\n",
       "      <td>0.061965</td>\n",
       "      <td>0.000817</td>\n",
       "      <td>0.002</td>\n",
       "      <td>{'C': 0.002}</td>\n",
       "      <td>0.951114</td>\n",
       "      <td>0.951079</td>\n",
       "      <td>0.952975</td>\n",
       "      <td>0.951723</td>\n",
       "      <td>0.000886</td>\n",
       "      <td>1</td>\n",
       "      <td>0.952227</td>\n",
       "      <td>0.952097</td>\n",
       "      <td>0.950957</td>\n",
       "      <td>0.951760</td>\n",
       "      <td>0.000571</td>\n",
       "    </tr>\n",
       "    <tr>\n",
       "      <th>2</th>\n",
       "      <td>1.188985</td>\n",
       "      <td>0.023101</td>\n",
       "      <td>0.063630</td>\n",
       "      <td>0.001699</td>\n",
       "      <td>0.005</td>\n",
       "      <td>{'C': 0.005}</td>\n",
       "      <td>0.950570</td>\n",
       "      <td>0.950549</td>\n",
       "      <td>0.952342</td>\n",
       "      <td>0.951154</td>\n",
       "      <td>0.000840</td>\n",
       "      <td>2</td>\n",
       "      <td>0.951649</td>\n",
       "      <td>0.951486</td>\n",
       "      <td>0.950331</td>\n",
       "      <td>0.951155</td>\n",
       "      <td>0.000586</td>\n",
       "    </tr>\n",
       "    <tr>\n",
       "      <th>3</th>\n",
       "      <td>1.251616</td>\n",
       "      <td>0.019057</td>\n",
       "      <td>0.074292</td>\n",
       "      <td>0.012545</td>\n",
       "      <td>0.007</td>\n",
       "      <td>{'C': 0.007}</td>\n",
       "      <td>0.950459</td>\n",
       "      <td>0.950321</td>\n",
       "      <td>0.952121</td>\n",
       "      <td>0.950967</td>\n",
       "      <td>0.000818</td>\n",
       "      <td>3</td>\n",
       "      <td>0.951494</td>\n",
       "      <td>0.951321</td>\n",
       "      <td>0.950133</td>\n",
       "      <td>0.950983</td>\n",
       "      <td>0.000605</td>\n",
       "    </tr>\n",
       "    <tr>\n",
       "      <th>4</th>\n",
       "      <td>1.236959</td>\n",
       "      <td>0.030754</td>\n",
       "      <td>0.064299</td>\n",
       "      <td>0.001698</td>\n",
       "      <td>0.01</td>\n",
       "      <td>{'C': 0.01}</td>\n",
       "      <td>0.950290</td>\n",
       "      <td>0.950240</td>\n",
       "      <td>0.951960</td>\n",
       "      <td>0.950830</td>\n",
       "      <td>0.000799</td>\n",
       "      <td>4</td>\n",
       "      <td>0.951336</td>\n",
       "      <td>0.951210</td>\n",
       "      <td>0.950052</td>\n",
       "      <td>0.950866</td>\n",
       "      <td>0.000578</td>\n",
       "    </tr>\n",
       "  </tbody>\n",
       "</table>\n",
       "</div>"
      ],
      "text/plain": [
       "   mean_fit_time  std_fit_time  mean_score_time  std_score_time param_C  \\\n",
       "0       1.028106      0.165624         0.072290        0.005551   0.001   \n",
       "1       1.123357      0.066541         0.061965        0.000817   0.002   \n",
       "2       1.188985      0.023101         0.063630        0.001699   0.005   \n",
       "3       1.251616      0.019057         0.074292        0.012545   0.007   \n",
       "4       1.236959      0.030754         0.064299        0.001698    0.01   \n",
       "\n",
       "         params  split0_test_score  split1_test_score  split2_test_score  \\\n",
       "0  {'C': 0.001}           0.950151           0.949983           0.952212   \n",
       "1  {'C': 0.002}           0.951114           0.951079           0.952975   \n",
       "2  {'C': 0.005}           0.950570           0.950549           0.952342   \n",
       "3  {'C': 0.007}           0.950459           0.950321           0.952121   \n",
       "4   {'C': 0.01}           0.950290           0.950240           0.951960   \n",
       "\n",
       "   mean_test_score  std_test_score  rank_test_score  split0_train_score  \\\n",
       "0         0.950782        0.001013                5            0.951338   \n",
       "1         0.951723        0.000886                1            0.952227   \n",
       "2         0.951154        0.000840                2            0.951649   \n",
       "3         0.950967        0.000818                3            0.951494   \n",
       "4         0.950830        0.000799                4            0.951336   \n",
       "\n",
       "   split1_train_score  split2_train_score  mean_train_score  std_train_score  \n",
       "0            0.951171            0.949931          0.950813         0.000628  \n",
       "1            0.952097            0.950957          0.951760         0.000571  \n",
       "2            0.951486            0.950331          0.951155         0.000586  \n",
       "3            0.951321            0.950133          0.950983         0.000605  \n",
       "4            0.951210            0.950052          0.950866         0.000578  "
      ]
     },
     "execution_count": 201,
     "metadata": {},
     "output_type": "execute_result"
    }
   ],
   "source": [
    "pd.DataFrame(modelcv.cv_results_)"
   ]
  },
  {
   "cell_type": "code",
   "execution_count": 547,
   "metadata": {},
   "outputs": [
    {
     "data": {
      "text/plain": [
       "LogisticRegression(C=0.002, class_weight=None, dual=False, fit_intercept=True,\n",
       "                   intercept_scaling=1, l1_ratio=None, max_iter=100,\n",
       "                   multi_class='auto', n_jobs=None, penalty='l2',\n",
       "                   random_state=None, solver='lbfgs', tol=0.0001, verbose=0,\n",
       "                   warm_start=False)"
      ]
     },
     "execution_count": 547,
     "metadata": {},
     "output_type": "execute_result"
    }
   ],
   "source": [
    "logst=LogisticRegression(penalty='l2',C= 0.002)\n",
    "logst.fit(X_train_sample,y_train_sample)\n"
   ]
  },
  {
   "cell_type": "code",
   "execution_count": 548,
   "metadata": {},
   "outputs": [
    {
     "name": "stdout",
     "output_type": "stream",
     "text": [
      "[[198941     79]\n",
      " [    65    279]]\n",
      "              precision    recall  f1-score   support\n",
      "\n",
      "           0       1.00      1.00      1.00    199020\n",
      "           1       0.78      0.81      0.79       344\n",
      "\n",
      "    accuracy                           1.00    199364\n",
      "   macro avg       0.89      0.91      0.90    199364\n",
      "weighted avg       1.00      1.00      1.00    199364\n",
      "\n"
     ]
    }
   ],
   "source": [
    "from sklearn.metrics import confusion_matrix, classification_report\n",
    "pred=logst.predict(X_train)\n",
    "print(confusion_matrix(y_train, pred))\n",
    "print(classification_report(y_train, pred))"
   ]
  },
  {
   "cell_type": "code",
   "execution_count": 549,
   "metadata": {},
   "outputs": [
    {
     "name": "stdout",
     "output_type": "stream",
     "text": [
      "[[85251    44]\n",
      " [   29   119]]\n",
      "              precision    recall  f1-score   support\n",
      "\n",
      "           0       1.00      1.00      1.00     85295\n",
      "           1       0.73      0.80      0.77       148\n",
      "\n",
      "    accuracy                           1.00     85443\n",
      "   macro avg       0.86      0.90      0.88     85443\n",
      "weighted avg       1.00      1.00      1.00     85443\n",
      "\n"
     ]
    }
   ],
   "source": [
    "from sklearn.metrics import confusion_matrix, classification_report\n",
    "pred=logst.predict(X_test)\n",
    "print(confusion_matrix(y_test, pred))\n",
    "print(classification_report(y_test, pred))"
   ]
  },
  {
   "cell_type": "markdown",
   "metadata": {},
   "source": [
    "### Random Forest"
   ]
  },
  {
   "cell_type": "code",
   "execution_count": 192,
   "metadata": {},
   "outputs": [
    {
     "name": "stdout",
     "output_type": "stream",
     "text": [
      "Fitting 3 folds for each of 10 candidates, totalling 30 fits\n"
     ]
    },
    {
     "name": "stderr",
     "output_type": "stream",
     "text": [
      "[Parallel(n_jobs=-1)]: Using backend LokyBackend with 4 concurrent workers.\n",
      "[Parallel(n_jobs=-1)]: Done  30 out of  30 | elapsed: 32.1min finished\n"
     ]
    },
    {
     "data": {
      "text/plain": [
       "RandomizedSearchCV(cv=3, error_score=nan,\n",
       "                   estimator=RandomForestClassifier(bootstrap=True,\n",
       "                                                    ccp_alpha=0.0,\n",
       "                                                    class_weight=None,\n",
       "                                                    criterion='gini',\n",
       "                                                    max_depth=None,\n",
       "                                                    max_features='auto',\n",
       "                                                    max_leaf_nodes=None,\n",
       "                                                    max_samples=None,\n",
       "                                                    min_impurity_decrease=0.0,\n",
       "                                                    min_impurity_split=None,\n",
       "                                                    min_samples_leaf=1,\n",
       "                                                    min_samples_split=2,\n",
       "                                                    min_weight_fraction_leaf=0.0,\n",
       "                                                    n_estimators=100,\n",
       "                                                    n_jobs...\n",
       "                                                    random_state=None,\n",
       "                                                    verbose=0,\n",
       "                                                    warm_start=False),\n",
       "                   iid='deprecated', n_iter=10, n_jobs=-1,\n",
       "                   param_distributions={'max_depth': [4, 8, 10],\n",
       "                                        'max_features': [5, 10],\n",
       "                                        'min_samples_leaf': range(100, 400, 200),\n",
       "                                        'min_samples_split': range(200, 500, 200),\n",
       "                                        'n_estimators': [100, 200, 300]},\n",
       "                   pre_dispatch='2*n_jobs', random_state=None, refit=True,\n",
       "                   return_train_score=True, scoring='roc_auc', verbose=1)"
      ]
     },
     "execution_count": 192,
     "metadata": {},
     "output_type": "execute_result"
    }
   ],
   "source": [
    "#importing the libraries\n",
    "from sklearn.ensemble import RandomForestClassifier\n",
    "# Create the parameter grid based on the results of random search \n",
    "param_grid = {\n",
    "    'randomforestclassifier__max_depth': [4,8,10],\n",
    "    'randomforestclassifier__min_samples_leaf': range(100, 400, 200),\n",
    "    'randomforestclassifier__min_samples_split': range(200, 500, 200),\n",
    "    'randomforestclassifier__n_estimators': [100,200, 300], \n",
    "    'randomforestclassifier__max_features': [5, 10]\n",
    "}\n",
    "kf=StratifiedKFold(n_splits=3,random_state=100)\n",
    "\n",
    "imba_pipeline = make_pipeline(RandomOverSampler(random_state=42), \n",
    "                               RandomForestClassifier())\n",
    "\n",
    "# Create a based model\n",
    "rf = RandomForestClassifier()\n",
    "# Instantiate the grid search model\n",
    "grid_search = RandomizedSearchCV(estimator = imba_pipeline, param_distributions = param_grid,scoring='roc_auc', return_train_score=True,\n",
    "                          cv = 3, n_jobs = -1,verbose = 1)\n",
    "\n",
    "# Fit the grid search to the data\n",
    "grid_search.fit(X_train, y_train)"
   ]
  },
  {
   "cell_type": "code",
   "execution_count": 194,
   "metadata": {
    "scrolled": true
   },
   "outputs": [
    {
     "data": {
      "text/html": [
       "<div>\n",
       "<style scoped>\n",
       "    .dataframe tbody tr th:only-of-type {\n",
       "        vertical-align: middle;\n",
       "    }\n",
       "\n",
       "    .dataframe tbody tr th {\n",
       "        vertical-align: top;\n",
       "    }\n",
       "\n",
       "    .dataframe thead th {\n",
       "        text-align: right;\n",
       "    }\n",
       "</style>\n",
       "<table border=\"1\" class=\"dataframe\">\n",
       "  <thead>\n",
       "    <tr style=\"text-align: right;\">\n",
       "      <th></th>\n",
       "      <th>mean_fit_time</th>\n",
       "      <th>std_fit_time</th>\n",
       "      <th>mean_score_time</th>\n",
       "      <th>std_score_time</th>\n",
       "      <th>param_n_estimators</th>\n",
       "      <th>param_min_samples_split</th>\n",
       "      <th>param_min_samples_leaf</th>\n",
       "      <th>param_max_features</th>\n",
       "      <th>param_max_depth</th>\n",
       "      <th>params</th>\n",
       "      <th>...</th>\n",
       "      <th>split1_test_score</th>\n",
       "      <th>split2_test_score</th>\n",
       "      <th>mean_test_score</th>\n",
       "      <th>std_test_score</th>\n",
       "      <th>rank_test_score</th>\n",
       "      <th>split0_train_score</th>\n",
       "      <th>split1_train_score</th>\n",
       "      <th>split2_train_score</th>\n",
       "      <th>mean_train_score</th>\n",
       "      <th>std_train_score</th>\n",
       "    </tr>\n",
       "  </thead>\n",
       "  <tbody>\n",
       "    <tr>\n",
       "      <th>0</th>\n",
       "      <td>206.501759</td>\n",
       "      <td>1.090125</td>\n",
       "      <td>1.823621</td>\n",
       "      <td>0.070775</td>\n",
       "      <td>200</td>\n",
       "      <td>400</td>\n",
       "      <td>100</td>\n",
       "      <td>5</td>\n",
       "      <td>8</td>\n",
       "      <td>{'n_estimators': 200, 'min_samples_split': 400...</td>\n",
       "      <td>...</td>\n",
       "      <td>0.959731</td>\n",
       "      <td>0.971784</td>\n",
       "      <td>0.970816</td>\n",
       "      <td>0.008683</td>\n",
       "      <td>2</td>\n",
       "      <td>0.993577</td>\n",
       "      <td>0.994307</td>\n",
       "      <td>0.992584</td>\n",
       "      <td>0.993489</td>\n",
       "      <td>0.000706</td>\n",
       "    </tr>\n",
       "    <tr>\n",
       "      <th>1</th>\n",
       "      <td>103.715377</td>\n",
       "      <td>5.039630</td>\n",
       "      <td>0.907647</td>\n",
       "      <td>0.037249</td>\n",
       "      <td>100</td>\n",
       "      <td>400</td>\n",
       "      <td>100</td>\n",
       "      <td>5</td>\n",
       "      <td>8</td>\n",
       "      <td>{'n_estimators': 100, 'min_samples_split': 400...</td>\n",
       "      <td>...</td>\n",
       "      <td>0.957296</td>\n",
       "      <td>0.972753</td>\n",
       "      <td>0.969316</td>\n",
       "      <td>0.008756</td>\n",
       "      <td>7</td>\n",
       "      <td>0.993390</td>\n",
       "      <td>0.995336</td>\n",
       "      <td>0.993151</td>\n",
       "      <td>0.993959</td>\n",
       "      <td>0.000979</td>\n",
       "    </tr>\n",
       "    <tr>\n",
       "      <th>2</th>\n",
       "      <td>119.201069</td>\n",
       "      <td>2.635978</td>\n",
       "      <td>0.993937</td>\n",
       "      <td>0.024894</td>\n",
       "      <td>100</td>\n",
       "      <td>200</td>\n",
       "      <td>300</td>\n",
       "      <td>5</td>\n",
       "      <td>10</td>\n",
       "      <td>{'n_estimators': 100, 'min_samples_split': 200...</td>\n",
       "      <td>...</td>\n",
       "      <td>0.961406</td>\n",
       "      <td>0.971653</td>\n",
       "      <td>0.968926</td>\n",
       "      <td>0.005384</td>\n",
       "      <td>8</td>\n",
       "      <td>0.994305</td>\n",
       "      <td>0.995386</td>\n",
       "      <td>0.993478</td>\n",
       "      <td>0.994390</td>\n",
       "      <td>0.000781</td>\n",
       "    </tr>\n",
       "    <tr>\n",
       "      <th>3</th>\n",
       "      <td>295.012903</td>\n",
       "      <td>1.127413</td>\n",
       "      <td>2.550405</td>\n",
       "      <td>0.146624</td>\n",
       "      <td>300</td>\n",
       "      <td>200</td>\n",
       "      <td>300</td>\n",
       "      <td>10</td>\n",
       "      <td>4</td>\n",
       "      <td>{'n_estimators': 300, 'min_samples_split': 200...</td>\n",
       "      <td>...</td>\n",
       "      <td>0.957305</td>\n",
       "      <td>0.969153</td>\n",
       "      <td>0.969662</td>\n",
       "      <td>0.010304</td>\n",
       "      <td>4</td>\n",
       "      <td>0.985111</td>\n",
       "      <td>0.991460</td>\n",
       "      <td>0.986597</td>\n",
       "      <td>0.987723</td>\n",
       "      <td>0.002711</td>\n",
       "    </tr>\n",
       "    <tr>\n",
       "      <th>4</th>\n",
       "      <td>370.763774</td>\n",
       "      <td>6.422331</td>\n",
       "      <td>1.692720</td>\n",
       "      <td>0.082896</td>\n",
       "      <td>200</td>\n",
       "      <td>400</td>\n",
       "      <td>300</td>\n",
       "      <td>10</td>\n",
       "      <td>8</td>\n",
       "      <td>{'n_estimators': 200, 'min_samples_split': 400...</td>\n",
       "      <td>...</td>\n",
       "      <td>0.959582</td>\n",
       "      <td>0.971611</td>\n",
       "      <td>0.969433</td>\n",
       "      <td>0.007318</td>\n",
       "      <td>6</td>\n",
       "      <td>0.994571</td>\n",
       "      <td>0.996310</td>\n",
       "      <td>0.994179</td>\n",
       "      <td>0.995020</td>\n",
       "      <td>0.000926</td>\n",
       "    </tr>\n",
       "    <tr>\n",
       "      <th>5</th>\n",
       "      <td>213.625755</td>\n",
       "      <td>6.130613</td>\n",
       "      <td>0.958797</td>\n",
       "      <td>0.105573</td>\n",
       "      <td>100</td>\n",
       "      <td>200</td>\n",
       "      <td>300</td>\n",
       "      <td>10</td>\n",
       "      <td>10</td>\n",
       "      <td>{'n_estimators': 100, 'min_samples_split': 200...</td>\n",
       "      <td>...</td>\n",
       "      <td>0.954953</td>\n",
       "      <td>0.968475</td>\n",
       "      <td>0.967852</td>\n",
       "      <td>0.010287</td>\n",
       "      <td>9</td>\n",
       "      <td>0.995481</td>\n",
       "      <td>0.996562</td>\n",
       "      <td>0.994983</td>\n",
       "      <td>0.995675</td>\n",
       "      <td>0.000659</td>\n",
       "    </tr>\n",
       "    <tr>\n",
       "      <th>6</th>\n",
       "      <td>231.696633</td>\n",
       "      <td>4.761661</td>\n",
       "      <td>1.005635</td>\n",
       "      <td>0.063583</td>\n",
       "      <td>100</td>\n",
       "      <td>200</td>\n",
       "      <td>100</td>\n",
       "      <td>10</td>\n",
       "      <td>10</td>\n",
       "      <td>{'n_estimators': 100, 'min_samples_split': 200...</td>\n",
       "      <td>...</td>\n",
       "      <td>0.954233</td>\n",
       "      <td>0.971463</td>\n",
       "      <td>0.965774</td>\n",
       "      <td>0.008161</td>\n",
       "      <td>10</td>\n",
       "      <td>0.997567</td>\n",
       "      <td>0.998343</td>\n",
       "      <td>0.997132</td>\n",
       "      <td>0.997681</td>\n",
       "      <td>0.000501</td>\n",
       "    </tr>\n",
       "    <tr>\n",
       "      <th>7</th>\n",
       "      <td>491.687480</td>\n",
       "      <td>12.327962</td>\n",
       "      <td>2.047559</td>\n",
       "      <td>0.108187</td>\n",
       "      <td>200</td>\n",
       "      <td>200</td>\n",
       "      <td>100</td>\n",
       "      <td>10</td>\n",
       "      <td>10</td>\n",
       "      <td>{'n_estimators': 200, 'min_samples_split': 200...</td>\n",
       "      <td>...</td>\n",
       "      <td>0.963300</td>\n",
       "      <td>0.974659</td>\n",
       "      <td>0.972247</td>\n",
       "      <td>0.006546</td>\n",
       "      <td>1</td>\n",
       "      <td>0.997971</td>\n",
       "      <td>0.998365</td>\n",
       "      <td>0.997160</td>\n",
       "      <td>0.997832</td>\n",
       "      <td>0.000502</td>\n",
       "    </tr>\n",
       "    <tr>\n",
       "      <th>8</th>\n",
       "      <td>238.037904</td>\n",
       "      <td>13.430842</td>\n",
       "      <td>1.047603</td>\n",
       "      <td>0.093914</td>\n",
       "      <td>100</td>\n",
       "      <td>400</td>\n",
       "      <td>300</td>\n",
       "      <td>10</td>\n",
       "      <td>10</td>\n",
       "      <td>{'n_estimators': 100, 'min_samples_split': 400...</td>\n",
       "      <td>...</td>\n",
       "      <td>0.963394</td>\n",
       "      <td>0.968307</td>\n",
       "      <td>0.970037</td>\n",
       "      <td>0.006251</td>\n",
       "      <td>3</td>\n",
       "      <td>0.995906</td>\n",
       "      <td>0.996466</td>\n",
       "      <td>0.995190</td>\n",
       "      <td>0.995854</td>\n",
       "      <td>0.000522</td>\n",
       "    </tr>\n",
       "    <tr>\n",
       "      <th>9</th>\n",
       "      <td>200.106338</td>\n",
       "      <td>13.427684</td>\n",
       "      <td>1.081245</td>\n",
       "      <td>0.186432</td>\n",
       "      <td>200</td>\n",
       "      <td>400</td>\n",
       "      <td>300</td>\n",
       "      <td>10</td>\n",
       "      <td>4</td>\n",
       "      <td>{'n_estimators': 200, 'min_samples_split': 400...</td>\n",
       "      <td>...</td>\n",
       "      <td>0.965750</td>\n",
       "      <td>0.967088</td>\n",
       "      <td>0.969586</td>\n",
       "      <td>0.004512</td>\n",
       "      <td>5</td>\n",
       "      <td>0.982815</td>\n",
       "      <td>0.990794</td>\n",
       "      <td>0.987139</td>\n",
       "      <td>0.986916</td>\n",
       "      <td>0.003261</td>\n",
       "    </tr>\n",
       "  </tbody>\n",
       "</table>\n",
       "<p>10 rows × 21 columns</p>\n",
       "</div>"
      ],
      "text/plain": [
       "   mean_fit_time  std_fit_time  mean_score_time  std_score_time  \\\n",
       "0     206.501759      1.090125         1.823621        0.070775   \n",
       "1     103.715377      5.039630         0.907647        0.037249   \n",
       "2     119.201069      2.635978         0.993937        0.024894   \n",
       "3     295.012903      1.127413         2.550405        0.146624   \n",
       "4     370.763774      6.422331         1.692720        0.082896   \n",
       "5     213.625755      6.130613         0.958797        0.105573   \n",
       "6     231.696633      4.761661         1.005635        0.063583   \n",
       "7     491.687480     12.327962         2.047559        0.108187   \n",
       "8     238.037904     13.430842         1.047603        0.093914   \n",
       "9     200.106338     13.427684         1.081245        0.186432   \n",
       "\n",
       "  param_n_estimators param_min_samples_split param_min_samples_leaf  \\\n",
       "0                200                     400                    100   \n",
       "1                100                     400                    100   \n",
       "2                100                     200                    300   \n",
       "3                300                     200                    300   \n",
       "4                200                     400                    300   \n",
       "5                100                     200                    300   \n",
       "6                100                     200                    100   \n",
       "7                200                     200                    100   \n",
       "8                100                     400                    300   \n",
       "9                200                     400                    300   \n",
       "\n",
       "  param_max_features param_max_depth  \\\n",
       "0                  5               8   \n",
       "1                  5               8   \n",
       "2                  5              10   \n",
       "3                 10               4   \n",
       "4                 10               8   \n",
       "5                 10              10   \n",
       "6                 10              10   \n",
       "7                 10              10   \n",
       "8                 10              10   \n",
       "9                 10               4   \n",
       "\n",
       "                                              params  ...  split1_test_score  \\\n",
       "0  {'n_estimators': 200, 'min_samples_split': 400...  ...           0.959731   \n",
       "1  {'n_estimators': 100, 'min_samples_split': 400...  ...           0.957296   \n",
       "2  {'n_estimators': 100, 'min_samples_split': 200...  ...           0.961406   \n",
       "3  {'n_estimators': 300, 'min_samples_split': 200...  ...           0.957305   \n",
       "4  {'n_estimators': 200, 'min_samples_split': 400...  ...           0.959582   \n",
       "5  {'n_estimators': 100, 'min_samples_split': 200...  ...           0.954953   \n",
       "6  {'n_estimators': 100, 'min_samples_split': 200...  ...           0.954233   \n",
       "7  {'n_estimators': 200, 'min_samples_split': 200...  ...           0.963300   \n",
       "8  {'n_estimators': 100, 'min_samples_split': 400...  ...           0.963394   \n",
       "9  {'n_estimators': 200, 'min_samples_split': 400...  ...           0.965750   \n",
       "\n",
       "   split2_test_score  mean_test_score  std_test_score  rank_test_score  \\\n",
       "0           0.971784         0.970816        0.008683                2   \n",
       "1           0.972753         0.969316        0.008756                7   \n",
       "2           0.971653         0.968926        0.005384                8   \n",
       "3           0.969153         0.969662        0.010304                4   \n",
       "4           0.971611         0.969433        0.007318                6   \n",
       "5           0.968475         0.967852        0.010287                9   \n",
       "6           0.971463         0.965774        0.008161               10   \n",
       "7           0.974659         0.972247        0.006546                1   \n",
       "8           0.968307         0.970037        0.006251                3   \n",
       "9           0.967088         0.969586        0.004512                5   \n",
       "\n",
       "   split0_train_score  split1_train_score  split2_train_score  \\\n",
       "0            0.993577            0.994307            0.992584   \n",
       "1            0.993390            0.995336            0.993151   \n",
       "2            0.994305            0.995386            0.993478   \n",
       "3            0.985111            0.991460            0.986597   \n",
       "4            0.994571            0.996310            0.994179   \n",
       "5            0.995481            0.996562            0.994983   \n",
       "6            0.997567            0.998343            0.997132   \n",
       "7            0.997971            0.998365            0.997160   \n",
       "8            0.995906            0.996466            0.995190   \n",
       "9            0.982815            0.990794            0.987139   \n",
       "\n",
       "   mean_train_score  std_train_score  \n",
       "0          0.993489         0.000706  \n",
       "1          0.993959         0.000979  \n",
       "2          0.994390         0.000781  \n",
       "3          0.987723         0.002711  \n",
       "4          0.995020         0.000926  \n",
       "5          0.995675         0.000659  \n",
       "6          0.997681         0.000501  \n",
       "7          0.997832         0.000502  \n",
       "8          0.995854         0.000522  \n",
       "9          0.986916         0.003261  \n",
       "\n",
       "[10 rows x 21 columns]"
      ]
     },
     "execution_count": 194,
     "metadata": {},
     "output_type": "execute_result"
    }
   ],
   "source": [
    "pd.DataFrame(grid_search.cv_results_)"
   ]
  },
  {
   "cell_type": "code",
   "execution_count": 195,
   "metadata": {},
   "outputs": [
    {
     "data": {
      "text/plain": [
       "{'n_estimators': 200,\n",
       " 'min_samples_split': 200,\n",
       " 'min_samples_leaf': 100,\n",
       " 'max_features': 10,\n",
       " 'max_depth': 10}"
      ]
     },
     "execution_count": 195,
     "metadata": {},
     "output_type": "execute_result"
    }
   ],
   "source": [
    "grid_search.best_params_"
   ]
  },
  {
   "cell_type": "code",
   "execution_count": 196,
   "metadata": {},
   "outputs": [
    {
     "data": {
      "text/plain": [
       "RandomForestClassifier(bootstrap=True, ccp_alpha=0.0, class_weight=None,\n",
       "                       criterion='gini', max_depth=10, max_features=10,\n",
       "                       max_leaf_nodes=None, max_samples=None,\n",
       "                       min_impurity_decrease=0.0, min_impurity_split=None,\n",
       "                       min_samples_leaf=100, min_samples_split=200,\n",
       "                       min_weight_fraction_leaf=0.0, n_estimators=200,\n",
       "                       n_jobs=None, oob_score=False, random_state=None,\n",
       "                       verbose=0, warm_start=False)"
      ]
     },
     "execution_count": 196,
     "metadata": {},
     "output_type": "execute_result"
    }
   ],
   "source": [
    "rf = RandomForestClassifier(n_estimators= 200,\n",
    " min_samples_split= 200,\n",
    " min_samples_leaf= 100,\n",
    " max_features= 10,\n",
    " max_depth= 10)\n",
    "rf.fit(X_train_sample,y_train_sample)"
   ]
  },
  {
   "cell_type": "code",
   "execution_count": 551,
   "metadata": {},
   "outputs": [
    {
     "name": "stdout",
     "output_type": "stream",
     "text": [
      "[[198912    108]\n",
      " [    47    297]]\n",
      "              precision    recall  f1-score   support\n",
      "\n",
      "           0       1.00      1.00      1.00    199020\n",
      "           1       0.73      0.86      0.79       344\n",
      "\n",
      "    accuracy                           1.00    199364\n",
      "   macro avg       0.87      0.93      0.90    199364\n",
      "weighted avg       1.00      1.00      1.00    199364\n",
      "\n"
     ]
    }
   ],
   "source": [
    "from sklearn.metrics import confusion_matrix, classification_report\n",
    "pred=rf.predict(X_train)\n",
    "print(confusion_matrix(y_train, pred))\n",
    "print(classification_report(y_train, pred))"
   ]
  },
  {
   "cell_type": "code",
   "execution_count": 552,
   "metadata": {},
   "outputs": [
    {
     "name": "stdout",
     "output_type": "stream",
     "text": [
      "[[85237    58]\n",
      " [   22   126]]\n",
      "              precision    recall  f1-score   support\n",
      "\n",
      "           0       1.00      1.00      1.00     85295\n",
      "           1       0.68      0.85      0.76       148\n",
      "\n",
      "    accuracy                           1.00     85443\n",
      "   macro avg       0.84      0.93      0.88     85443\n",
      "weighted avg       1.00      1.00      1.00     85443\n",
      "\n"
     ]
    }
   ],
   "source": [
    "from sklearn.metrics import confusion_matrix, classification_report\n",
    "pred=rf.predict(X_test)\n",
    "print(confusion_matrix(y_test, pred))\n",
    "print(classification_report(y_test, pred))"
   ]
  },
  {
   "cell_type": "markdown",
   "metadata": {},
   "source": [
    "### XGBOOST"
   ]
  },
  {
   "cell_type": "code",
   "execution_count": 217,
   "metadata": {},
   "outputs": [
    {
     "data": {
      "text/plain": [
       "XGBClassifier(base_score=0.5, booster='gbtree', colsample_bylevel=1,\n",
       "              colsample_bynode=1, colsample_bytree=1, gamma=0,\n",
       "              learning_rate=0.1, max_delta_step=0, max_depth=3,\n",
       "              min_child_weight=1, missing=None, n_estimators=100, n_jobs=1,\n",
       "              nthread=None, objective='binary:logistic', random_state=0,\n",
       "              reg_alpha=0, reg_lambda=1, scale_pos_weight=1, seed=None,\n",
       "              silent=None, subsample=1, verbosity=1)"
      ]
     },
     "execution_count": 217,
     "metadata": {},
     "output_type": "execute_result"
    }
   ],
   "source": [
    "xgb_model = XGBClassifier()\n",
    "xgb_model.fit(X_train_sample,y_train_sample)"
   ]
  },
  {
   "cell_type": "code",
   "execution_count": 553,
   "metadata": {},
   "outputs": [
    {
     "name": "stdout",
     "output_type": "stream",
     "text": [
      "[[198970     50]\n",
      " [    37    307]]\n",
      "              precision    recall  f1-score   support\n",
      "\n",
      "           0       1.00      1.00      1.00    199020\n",
      "           1       0.86      0.89      0.88       344\n",
      "\n",
      "    accuracy                           1.00    199364\n",
      "   macro avg       0.93      0.95      0.94    199364\n",
      "weighted avg       1.00      1.00      1.00    199364\n",
      "\n"
     ]
    }
   ],
   "source": [
    "from sklearn.metrics import confusion_matrix, classification_report\n",
    "pred=xgb_model.predict(X_train)\n",
    "print(confusion_matrix(y_train, pred))\n",
    "print(classification_report(y_train, pred))"
   ]
  },
  {
   "cell_type": "code",
   "execution_count": 554,
   "metadata": {},
   "outputs": [
    {
     "name": "stdout",
     "output_type": "stream",
     "text": [
      "[[85259    36]\n",
      " [   24   124]]\n",
      "              precision    recall  f1-score   support\n",
      "\n",
      "           0       1.00      1.00      1.00     85295\n",
      "           1       0.78      0.84      0.81       148\n",
      "\n",
      "    accuracy                           1.00     85443\n",
      "   macro avg       0.89      0.92      0.90     85443\n",
      "weighted avg       1.00      1.00      1.00     85443\n",
      "\n"
     ]
    }
   ],
   "source": [
    "from sklearn.metrics import confusion_matrix, classification_report\n",
    "pred=xgb_model.predict(X_test)\n",
    "print(confusion_matrix(y_test, pred))\n",
    "print(classification_report(y_test, pred))"
   ]
  },
  {
   "cell_type": "markdown",
   "metadata": {},
   "source": [
    "## SMOTE"
   ]
  },
  {
   "cell_type": "markdown",
   "metadata": {},
   "source": [
    "### Logistic Regression"
   ]
  },
  {
   "cell_type": "code",
   "execution_count": 504,
   "metadata": {},
   "outputs": [],
   "source": [
    "#sampling\n",
    "from imblearn.over_sampling import SMOTE, ADASYN\n",
    "X_train_smote, y_train_smote = SMOTE(sampling_strategy=0.02,random_state=42).fit_resample(X_train, y_train)"
   ]
  },
  {
   "cell_type": "code",
   "execution_count": 511,
   "metadata": {},
   "outputs": [
    {
     "name": "stdout",
     "output_type": "stream",
     "text": [
      "Fitting 3 folds for each of 5 candidates, totalling 15 fits\n"
     ]
    },
    {
     "name": "stderr",
     "output_type": "stream",
     "text": [
      "[Parallel(n_jobs=1)]: Using backend SequentialBackend with 1 concurrent workers.\n",
      "[Parallel(n_jobs=1)]: Done  15 out of  15 | elapsed:  1.2min finished\n"
     ]
    },
    {
     "name": "stdout",
     "output_type": "stream",
     "text": [
      "{'logisticregression__C': 0.001}\n"
     ]
    }
   ],
   "source": [
    "from sklearn.model_selection import GridSearchCV\n",
    "from sklearn.model_selection import StratifiedKFold\n",
    "from imblearn.pipeline import Pipeline, make_pipeline\n",
    "#perform cross validation\n",
    "#perform hyperparameter tuning\n",
    "logst=LogisticRegression()\n",
    "kf=StratifiedKFold(n_splits=3,random_state=100)\n",
    "\n",
    "imba_pipeline = make_pipeline(SMOTE(random_state=42), \n",
    "                              LogisticRegression())\n",
    "\n",
    "params={'logisticregression__C':[0.001, 0.002, 0.005,0.007,0.01]}\n",
    "modelcv=GridSearchCV(estimator=imba_pipeline,param_grid=params,scoring='roc_auc',return_train_score=True,cv=kf,verbose=True)\n",
    "modelcv.fit(X_train,y_train)\n",
    "\n",
    "\n",
    "\n",
    "#print the optimum value of hyperparameters\n",
    "print(modelcv.best_params_)"
   ]
  },
  {
   "cell_type": "code",
   "execution_count": 512,
   "metadata": {},
   "outputs": [
    {
     "data": {
      "text/html": [
       "<div>\n",
       "<style scoped>\n",
       "    .dataframe tbody tr th:only-of-type {\n",
       "        vertical-align: middle;\n",
       "    }\n",
       "\n",
       "    .dataframe tbody tr th {\n",
       "        vertical-align: top;\n",
       "    }\n",
       "\n",
       "    .dataframe thead th {\n",
       "        text-align: right;\n",
       "    }\n",
       "</style>\n",
       "<table border=\"1\" class=\"dataframe\">\n",
       "  <thead>\n",
       "    <tr style=\"text-align: right;\">\n",
       "      <th></th>\n",
       "      <th>mean_fit_time</th>\n",
       "      <th>std_fit_time</th>\n",
       "      <th>mean_score_time</th>\n",
       "      <th>std_score_time</th>\n",
       "      <th>param_logisticregression__C</th>\n",
       "      <th>params</th>\n",
       "      <th>split0_test_score</th>\n",
       "      <th>split1_test_score</th>\n",
       "      <th>split2_test_score</th>\n",
       "      <th>mean_test_score</th>\n",
       "      <th>std_test_score</th>\n",
       "      <th>rank_test_score</th>\n",
       "      <th>split0_train_score</th>\n",
       "      <th>split1_train_score</th>\n",
       "      <th>split2_train_score</th>\n",
       "      <th>mean_train_score</th>\n",
       "      <th>std_train_score</th>\n",
       "    </tr>\n",
       "  </thead>\n",
       "  <tbody>\n",
       "    <tr>\n",
       "      <th>0</th>\n",
       "      <td>4.544729</td>\n",
       "      <td>0.268107</td>\n",
       "      <td>0.027986</td>\n",
       "      <td>0.000815</td>\n",
       "      <td>0.001</td>\n",
       "      <td>{'logisticregression__C': 0.001}</td>\n",
       "      <td>0.957221</td>\n",
       "      <td>0.982810</td>\n",
       "      <td>0.970870</td>\n",
       "      <td>0.970300</td>\n",
       "      <td>0.010455</td>\n",
       "      <td>1</td>\n",
       "      <td>0.989134</td>\n",
       "      <td>0.988021</td>\n",
       "      <td>0.989312</td>\n",
       "      <td>0.988822</td>\n",
       "      <td>0.000571</td>\n",
       "    </tr>\n",
       "    <tr>\n",
       "      <th>1</th>\n",
       "      <td>5.123398</td>\n",
       "      <td>0.499357</td>\n",
       "      <td>0.035981</td>\n",
       "      <td>0.004897</td>\n",
       "      <td>0.002</td>\n",
       "      <td>{'logisticregression__C': 0.002}</td>\n",
       "      <td>0.955890</td>\n",
       "      <td>0.981640</td>\n",
       "      <td>0.966277</td>\n",
       "      <td>0.967936</td>\n",
       "      <td>0.010578</td>\n",
       "      <td>2</td>\n",
       "      <td>0.989046</td>\n",
       "      <td>0.987428</td>\n",
       "      <td>0.989424</td>\n",
       "      <td>0.988633</td>\n",
       "      <td>0.000866</td>\n",
       "    </tr>\n",
       "    <tr>\n",
       "      <th>2</th>\n",
       "      <td>5.202020</td>\n",
       "      <td>0.316364</td>\n",
       "      <td>0.030318</td>\n",
       "      <td>0.003298</td>\n",
       "      <td>0.005</td>\n",
       "      <td>{'logisticregression__C': 0.005}</td>\n",
       "      <td>0.953934</td>\n",
       "      <td>0.981085</td>\n",
       "      <td>0.964519</td>\n",
       "      <td>0.966513</td>\n",
       "      <td>0.011174</td>\n",
       "      <td>4</td>\n",
       "      <td>0.989042</td>\n",
       "      <td>0.988165</td>\n",
       "      <td>0.989637</td>\n",
       "      <td>0.988948</td>\n",
       "      <td>0.000605</td>\n",
       "    </tr>\n",
       "    <tr>\n",
       "      <th>3</th>\n",
       "      <td>4.590704</td>\n",
       "      <td>0.139626</td>\n",
       "      <td>0.031984</td>\n",
       "      <td>0.001632</td>\n",
       "      <td>0.007</td>\n",
       "      <td>{'logisticregression__C': 0.007}</td>\n",
       "      <td>0.952995</td>\n",
       "      <td>0.982658</td>\n",
       "      <td>0.964170</td>\n",
       "      <td>0.966608</td>\n",
       "      <td>0.012232</td>\n",
       "      <td>3</td>\n",
       "      <td>0.989012</td>\n",
       "      <td>0.986323</td>\n",
       "      <td>0.988731</td>\n",
       "      <td>0.988022</td>\n",
       "      <td>0.001207</td>\n",
       "    </tr>\n",
       "    <tr>\n",
       "      <th>4</th>\n",
       "      <td>4.690312</td>\n",
       "      <td>0.075195</td>\n",
       "      <td>0.028319</td>\n",
       "      <td>0.001247</td>\n",
       "      <td>0.01</td>\n",
       "      <td>{'logisticregression__C': 0.01}</td>\n",
       "      <td>0.953157</td>\n",
       "      <td>0.981505</td>\n",
       "      <td>0.961348</td>\n",
       "      <td>0.965337</td>\n",
       "      <td>0.011912</td>\n",
       "      <td>5</td>\n",
       "      <td>0.989038</td>\n",
       "      <td>0.987764</td>\n",
       "      <td>0.989626</td>\n",
       "      <td>0.988809</td>\n",
       "      <td>0.000777</td>\n",
       "    </tr>\n",
       "  </tbody>\n",
       "</table>\n",
       "</div>"
      ],
      "text/plain": [
       "   mean_fit_time  std_fit_time  mean_score_time  std_score_time  \\\n",
       "0       4.544729      0.268107         0.027986        0.000815   \n",
       "1       5.123398      0.499357         0.035981        0.004897   \n",
       "2       5.202020      0.316364         0.030318        0.003298   \n",
       "3       4.590704      0.139626         0.031984        0.001632   \n",
       "4       4.690312      0.075195         0.028319        0.001247   \n",
       "\n",
       "  param_logisticregression__C                            params  \\\n",
       "0                       0.001  {'logisticregression__C': 0.001}   \n",
       "1                       0.002  {'logisticregression__C': 0.002}   \n",
       "2                       0.005  {'logisticregression__C': 0.005}   \n",
       "3                       0.007  {'logisticregression__C': 0.007}   \n",
       "4                        0.01   {'logisticregression__C': 0.01}   \n",
       "\n",
       "   split0_test_score  split1_test_score  split2_test_score  mean_test_score  \\\n",
       "0           0.957221           0.982810           0.970870         0.970300   \n",
       "1           0.955890           0.981640           0.966277         0.967936   \n",
       "2           0.953934           0.981085           0.964519         0.966513   \n",
       "3           0.952995           0.982658           0.964170         0.966608   \n",
       "4           0.953157           0.981505           0.961348         0.965337   \n",
       "\n",
       "   std_test_score  rank_test_score  split0_train_score  split1_train_score  \\\n",
       "0        0.010455                1            0.989134            0.988021   \n",
       "1        0.010578                2            0.989046            0.987428   \n",
       "2        0.011174                4            0.989042            0.988165   \n",
       "3        0.012232                3            0.989012            0.986323   \n",
       "4        0.011912                5            0.989038            0.987764   \n",
       "\n",
       "   split2_train_score  mean_train_score  std_train_score  \n",
       "0            0.989312          0.988822         0.000571  \n",
       "1            0.989424          0.988633         0.000866  \n",
       "2            0.989637          0.988948         0.000605  \n",
       "3            0.988731          0.988022         0.001207  \n",
       "4            0.989626          0.988809         0.000777  "
      ]
     },
     "execution_count": 512,
     "metadata": {},
     "output_type": "execute_result"
    }
   ],
   "source": [
    "pd.DataFrame(modelcv.cv_results_)"
   ]
  },
  {
   "cell_type": "code",
   "execution_count": 506,
   "metadata": {},
   "outputs": [
    {
     "data": {
      "text/plain": [
       "LogisticRegression(C=0.001, class_weight=None, dual=False, fit_intercept=True,\n",
       "                   intercept_scaling=1, l1_ratio=None, max_iter=100,\n",
       "                   multi_class='auto', n_jobs=None, penalty='l2',\n",
       "                   random_state=None, solver='lbfgs', tol=0.0001, verbose=0,\n",
       "                   warm_start=False)"
      ]
     },
     "execution_count": 506,
     "metadata": {},
     "output_type": "execute_result"
    }
   ],
   "source": [
    "logst=LogisticRegression(penalty='l2',C= 0.001)\n",
    "logst.fit(X_train_smote,y_train_smote)"
   ]
  },
  {
   "cell_type": "code",
   "execution_count": 507,
   "metadata": {},
   "outputs": [
    {
     "name": "stdout",
     "output_type": "stream",
     "text": [
      "[[198953     67]\n",
      " [    63    281]]\n",
      "              precision    recall  f1-score   support\n",
      "\n",
      "           0       1.00      1.00      1.00    199020\n",
      "           1       0.81      0.82      0.81       344\n",
      "\n",
      "    accuracy                           1.00    199364\n",
      "   macro avg       0.90      0.91      0.91    199364\n",
      "weighted avg       1.00      1.00      1.00    199364\n",
      "\n"
     ]
    }
   ],
   "source": [
    "from sklearn.metrics import confusion_matrix, classification_report\n",
    "pred=logst.predict(X_train)\n",
    "print(confusion_matrix(y_train, pred))\n",
    "print(classification_report(y_train, pred))"
   ]
  },
  {
   "cell_type": "code",
   "execution_count": 508,
   "metadata": {},
   "outputs": [
    {
     "name": "stdout",
     "output_type": "stream",
     "text": [
      "[[85254    41]\n",
      " [   27   121]]\n",
      "              precision    recall  f1-score   support\n",
      "\n",
      "           0       1.00      1.00      1.00     85295\n",
      "           1       0.75      0.82      0.78       148\n",
      "\n",
      "    accuracy                           1.00     85443\n",
      "   macro avg       0.87      0.91      0.89     85443\n",
      "weighted avg       1.00      1.00      1.00     85443\n",
      "\n"
     ]
    }
   ],
   "source": [
    "from sklearn.metrics import confusion_matrix, classification_report\n",
    "pred=logst.predict(X_test)\n",
    "print(confusion_matrix(y_test, pred))\n",
    "print(classification_report(y_test, pred))"
   ]
  },
  {
   "cell_type": "markdown",
   "metadata": {},
   "source": [
    "### Random Forest"
   ]
  },
  {
   "cell_type": "code",
   "execution_count": 513,
   "metadata": {
    "collapsed": true
   },
   "outputs": [
    {
     "name": "stdout",
     "output_type": "stream",
     "text": [
      "Fitting 3 folds for each of 10 candidates, totalling 30 fits\n"
     ]
    },
    {
     "name": "stderr",
     "output_type": "stream",
     "text": [
      "[Parallel(n_jobs=-1)]: Using backend LokyBackend with 4 concurrent workers.\n"
     ]
    },
    {
     "ename": "KeyboardInterrupt",
     "evalue": "",
     "output_type": "error",
     "traceback": [
      "\u001b[1;31m---------------------------------------------------------------------------\u001b[0m",
      "\u001b[1;31mKeyboardInterrupt\u001b[0m                         Traceback (most recent call last)",
      "\u001b[1;32m<ipython-input-513-c08ee6409a67>\u001b[0m in \u001b[0;36m<module>\u001b[1;34m\u001b[0m\n\u001b[0;32m     21\u001b[0m \u001b[1;33m\u001b[0m\u001b[0m\n\u001b[0;32m     22\u001b[0m \u001b[1;31m# Fit the grid search to the data\u001b[0m\u001b[1;33m\u001b[0m\u001b[1;33m\u001b[0m\u001b[1;33m\u001b[0m\u001b[0m\n\u001b[1;32m---> 23\u001b[1;33m \u001b[0mgrid_search\u001b[0m\u001b[1;33m.\u001b[0m\u001b[0mfit\u001b[0m\u001b[1;33m(\u001b[0m\u001b[0mX_train\u001b[0m\u001b[1;33m,\u001b[0m \u001b[0my_train\u001b[0m\u001b[1;33m)\u001b[0m\u001b[1;33m\u001b[0m\u001b[1;33m\u001b[0m\u001b[0m\n\u001b[0m",
      "\u001b[1;32m~\\Miniconda3\\envs\\myenv\\lib\\site-packages\\sklearn\\model_selection\\_search.py\u001b[0m in \u001b[0;36mfit\u001b[1;34m(self, X, y, groups, **fit_params)\u001b[0m\n\u001b[0;32m    708\u001b[0m                 \u001b[1;32mreturn\u001b[0m \u001b[0mresults\u001b[0m\u001b[1;33m\u001b[0m\u001b[1;33m\u001b[0m\u001b[0m\n\u001b[0;32m    709\u001b[0m \u001b[1;33m\u001b[0m\u001b[0m\n\u001b[1;32m--> 710\u001b[1;33m             \u001b[0mself\u001b[0m\u001b[1;33m.\u001b[0m\u001b[0m_run_search\u001b[0m\u001b[1;33m(\u001b[0m\u001b[0mevaluate_candidates\u001b[0m\u001b[1;33m)\u001b[0m\u001b[1;33m\u001b[0m\u001b[1;33m\u001b[0m\u001b[0m\n\u001b[0m\u001b[0;32m    711\u001b[0m \u001b[1;33m\u001b[0m\u001b[0m\n\u001b[0;32m    712\u001b[0m         \u001b[1;31m# For multi-metric evaluation, store the best_index_, best_params_ and\u001b[0m\u001b[1;33m\u001b[0m\u001b[1;33m\u001b[0m\u001b[1;33m\u001b[0m\u001b[0m\n",
      "\u001b[1;32m~\\Miniconda3\\envs\\myenv\\lib\\site-packages\\sklearn\\model_selection\\_search.py\u001b[0m in \u001b[0;36m_run_search\u001b[1;34m(self, evaluate_candidates)\u001b[0m\n\u001b[0;32m   1482\u001b[0m         evaluate_candidates(ParameterSampler(\n\u001b[0;32m   1483\u001b[0m             \u001b[0mself\u001b[0m\u001b[1;33m.\u001b[0m\u001b[0mparam_distributions\u001b[0m\u001b[1;33m,\u001b[0m \u001b[0mself\u001b[0m\u001b[1;33m.\u001b[0m\u001b[0mn_iter\u001b[0m\u001b[1;33m,\u001b[0m\u001b[1;33m\u001b[0m\u001b[1;33m\u001b[0m\u001b[0m\n\u001b[1;32m-> 1484\u001b[1;33m             random_state=self.random_state))\n\u001b[0m",
      "\u001b[1;32m~\\Miniconda3\\envs\\myenv\\lib\\site-packages\\sklearn\\model_selection\\_search.py\u001b[0m in \u001b[0;36mevaluate_candidates\u001b[1;34m(candidate_params)\u001b[0m\n\u001b[0;32m    687\u001b[0m                                \u001b[1;32mfor\u001b[0m \u001b[0mparameters\u001b[0m\u001b[1;33m,\u001b[0m \u001b[1;33m(\u001b[0m\u001b[0mtrain\u001b[0m\u001b[1;33m,\u001b[0m \u001b[0mtest\u001b[0m\u001b[1;33m)\u001b[0m\u001b[1;33m\u001b[0m\u001b[1;33m\u001b[0m\u001b[0m\n\u001b[0;32m    688\u001b[0m                                in product(candidate_params,\n\u001b[1;32m--> 689\u001b[1;33m                                           cv.split(X, y, groups)))\n\u001b[0m\u001b[0;32m    690\u001b[0m \u001b[1;33m\u001b[0m\u001b[0m\n\u001b[0;32m    691\u001b[0m                 \u001b[1;32mif\u001b[0m \u001b[0mlen\u001b[0m\u001b[1;33m(\u001b[0m\u001b[0mout\u001b[0m\u001b[1;33m)\u001b[0m \u001b[1;33m<\u001b[0m \u001b[1;36m1\u001b[0m\u001b[1;33m:\u001b[0m\u001b[1;33m\u001b[0m\u001b[1;33m\u001b[0m\u001b[0m\n",
      "\u001b[1;32m~\\Miniconda3\\envs\\myenv\\lib\\site-packages\\joblib\\parallel.py\u001b[0m in \u001b[0;36m__call__\u001b[1;34m(self, iterable)\u001b[0m\n\u001b[0;32m   1015\u001b[0m \u001b[1;33m\u001b[0m\u001b[0m\n\u001b[0;32m   1016\u001b[0m             \u001b[1;32mwith\u001b[0m \u001b[0mself\u001b[0m\u001b[1;33m.\u001b[0m\u001b[0m_backend\u001b[0m\u001b[1;33m.\u001b[0m\u001b[0mretrieval_context\u001b[0m\u001b[1;33m(\u001b[0m\u001b[1;33m)\u001b[0m\u001b[1;33m:\u001b[0m\u001b[1;33m\u001b[0m\u001b[1;33m\u001b[0m\u001b[0m\n\u001b[1;32m-> 1017\u001b[1;33m                 \u001b[0mself\u001b[0m\u001b[1;33m.\u001b[0m\u001b[0mretrieve\u001b[0m\u001b[1;33m(\u001b[0m\u001b[1;33m)\u001b[0m\u001b[1;33m\u001b[0m\u001b[1;33m\u001b[0m\u001b[0m\n\u001b[0m\u001b[0;32m   1018\u001b[0m             \u001b[1;31m# Make sure that we get a last message telling us we are done\u001b[0m\u001b[1;33m\u001b[0m\u001b[1;33m\u001b[0m\u001b[1;33m\u001b[0m\u001b[0m\n\u001b[0;32m   1019\u001b[0m             \u001b[0melapsed_time\u001b[0m \u001b[1;33m=\u001b[0m \u001b[0mtime\u001b[0m\u001b[1;33m.\u001b[0m\u001b[0mtime\u001b[0m\u001b[1;33m(\u001b[0m\u001b[1;33m)\u001b[0m \u001b[1;33m-\u001b[0m \u001b[0mself\u001b[0m\u001b[1;33m.\u001b[0m\u001b[0m_start_time\u001b[0m\u001b[1;33m\u001b[0m\u001b[1;33m\u001b[0m\u001b[0m\n",
      "\u001b[1;32m~\\Miniconda3\\envs\\myenv\\lib\\site-packages\\joblib\\parallel.py\u001b[0m in \u001b[0;36mretrieve\u001b[1;34m(self)\u001b[0m\n\u001b[0;32m    907\u001b[0m             \u001b[1;32mtry\u001b[0m\u001b[1;33m:\u001b[0m\u001b[1;33m\u001b[0m\u001b[1;33m\u001b[0m\u001b[0m\n\u001b[0;32m    908\u001b[0m                 \u001b[1;32mif\u001b[0m \u001b[0mgetattr\u001b[0m\u001b[1;33m(\u001b[0m\u001b[0mself\u001b[0m\u001b[1;33m.\u001b[0m\u001b[0m_backend\u001b[0m\u001b[1;33m,\u001b[0m \u001b[1;34m'supports_timeout'\u001b[0m\u001b[1;33m,\u001b[0m \u001b[1;32mFalse\u001b[0m\u001b[1;33m)\u001b[0m\u001b[1;33m:\u001b[0m\u001b[1;33m\u001b[0m\u001b[1;33m\u001b[0m\u001b[0m\n\u001b[1;32m--> 909\u001b[1;33m                     \u001b[0mself\u001b[0m\u001b[1;33m.\u001b[0m\u001b[0m_output\u001b[0m\u001b[1;33m.\u001b[0m\u001b[0mextend\u001b[0m\u001b[1;33m(\u001b[0m\u001b[0mjob\u001b[0m\u001b[1;33m.\u001b[0m\u001b[0mget\u001b[0m\u001b[1;33m(\u001b[0m\u001b[0mtimeout\u001b[0m\u001b[1;33m=\u001b[0m\u001b[0mself\u001b[0m\u001b[1;33m.\u001b[0m\u001b[0mtimeout\u001b[0m\u001b[1;33m)\u001b[0m\u001b[1;33m)\u001b[0m\u001b[1;33m\u001b[0m\u001b[1;33m\u001b[0m\u001b[0m\n\u001b[0m\u001b[0;32m    910\u001b[0m                 \u001b[1;32melse\u001b[0m\u001b[1;33m:\u001b[0m\u001b[1;33m\u001b[0m\u001b[1;33m\u001b[0m\u001b[0m\n\u001b[0;32m    911\u001b[0m                     \u001b[0mself\u001b[0m\u001b[1;33m.\u001b[0m\u001b[0m_output\u001b[0m\u001b[1;33m.\u001b[0m\u001b[0mextend\u001b[0m\u001b[1;33m(\u001b[0m\u001b[0mjob\u001b[0m\u001b[1;33m.\u001b[0m\u001b[0mget\u001b[0m\u001b[1;33m(\u001b[0m\u001b[1;33m)\u001b[0m\u001b[1;33m)\u001b[0m\u001b[1;33m\u001b[0m\u001b[1;33m\u001b[0m\u001b[0m\n",
      "\u001b[1;32m~\\Miniconda3\\envs\\myenv\\lib\\site-packages\\joblib\\_parallel_backends.py\u001b[0m in \u001b[0;36mwrap_future_result\u001b[1;34m(future, timeout)\u001b[0m\n\u001b[0;32m    560\u001b[0m         AsyncResults.get from multiprocessing.\"\"\"\n\u001b[0;32m    561\u001b[0m         \u001b[1;32mtry\u001b[0m\u001b[1;33m:\u001b[0m\u001b[1;33m\u001b[0m\u001b[1;33m\u001b[0m\u001b[0m\n\u001b[1;32m--> 562\u001b[1;33m             \u001b[1;32mreturn\u001b[0m \u001b[0mfuture\u001b[0m\u001b[1;33m.\u001b[0m\u001b[0mresult\u001b[0m\u001b[1;33m(\u001b[0m\u001b[0mtimeout\u001b[0m\u001b[1;33m=\u001b[0m\u001b[0mtimeout\u001b[0m\u001b[1;33m)\u001b[0m\u001b[1;33m\u001b[0m\u001b[1;33m\u001b[0m\u001b[0m\n\u001b[0m\u001b[0;32m    563\u001b[0m         \u001b[1;32mexcept\u001b[0m \u001b[0mLokyTimeoutError\u001b[0m\u001b[1;33m:\u001b[0m\u001b[1;33m\u001b[0m\u001b[1;33m\u001b[0m\u001b[0m\n\u001b[0;32m    564\u001b[0m             \u001b[1;32mraise\u001b[0m \u001b[0mTimeoutError\u001b[0m\u001b[1;33m(\u001b[0m\u001b[1;33m)\u001b[0m\u001b[1;33m\u001b[0m\u001b[1;33m\u001b[0m\u001b[0m\n",
      "\u001b[1;32m~\\Miniconda3\\envs\\myenv\\lib\\concurrent\\futures\\_base.py\u001b[0m in \u001b[0;36mresult\u001b[1;34m(self, timeout)\u001b[0m\n\u001b[0;32m    425\u001b[0m                 \u001b[1;32mreturn\u001b[0m \u001b[0mself\u001b[0m\u001b[1;33m.\u001b[0m\u001b[0m__get_result\u001b[0m\u001b[1;33m(\u001b[0m\u001b[1;33m)\u001b[0m\u001b[1;33m\u001b[0m\u001b[1;33m\u001b[0m\u001b[0m\n\u001b[0;32m    426\u001b[0m \u001b[1;33m\u001b[0m\u001b[0m\n\u001b[1;32m--> 427\u001b[1;33m             \u001b[0mself\u001b[0m\u001b[1;33m.\u001b[0m\u001b[0m_condition\u001b[0m\u001b[1;33m.\u001b[0m\u001b[0mwait\u001b[0m\u001b[1;33m(\u001b[0m\u001b[0mtimeout\u001b[0m\u001b[1;33m)\u001b[0m\u001b[1;33m\u001b[0m\u001b[1;33m\u001b[0m\u001b[0m\n\u001b[0m\u001b[0;32m    428\u001b[0m \u001b[1;33m\u001b[0m\u001b[0m\n\u001b[0;32m    429\u001b[0m             \u001b[1;32mif\u001b[0m \u001b[0mself\u001b[0m\u001b[1;33m.\u001b[0m\u001b[0m_state\u001b[0m \u001b[1;32min\u001b[0m \u001b[1;33m[\u001b[0m\u001b[0mCANCELLED\u001b[0m\u001b[1;33m,\u001b[0m \u001b[0mCANCELLED_AND_NOTIFIED\u001b[0m\u001b[1;33m]\u001b[0m\u001b[1;33m:\u001b[0m\u001b[1;33m\u001b[0m\u001b[1;33m\u001b[0m\u001b[0m\n",
      "\u001b[1;32m~\\Miniconda3\\envs\\myenv\\lib\\threading.py\u001b[0m in \u001b[0;36mwait\u001b[1;34m(self, timeout)\u001b[0m\n\u001b[0;32m    293\u001b[0m         \u001b[1;32mtry\u001b[0m\u001b[1;33m:\u001b[0m    \u001b[1;31m# restore state no matter what (e.g., KeyboardInterrupt)\u001b[0m\u001b[1;33m\u001b[0m\u001b[1;33m\u001b[0m\u001b[0m\n\u001b[0;32m    294\u001b[0m             \u001b[1;32mif\u001b[0m \u001b[0mtimeout\u001b[0m \u001b[1;32mis\u001b[0m \u001b[1;32mNone\u001b[0m\u001b[1;33m:\u001b[0m\u001b[1;33m\u001b[0m\u001b[1;33m\u001b[0m\u001b[0m\n\u001b[1;32m--> 295\u001b[1;33m                 \u001b[0mwaiter\u001b[0m\u001b[1;33m.\u001b[0m\u001b[0macquire\u001b[0m\u001b[1;33m(\u001b[0m\u001b[1;33m)\u001b[0m\u001b[1;33m\u001b[0m\u001b[1;33m\u001b[0m\u001b[0m\n\u001b[0m\u001b[0;32m    296\u001b[0m                 \u001b[0mgotit\u001b[0m \u001b[1;33m=\u001b[0m \u001b[1;32mTrue\u001b[0m\u001b[1;33m\u001b[0m\u001b[1;33m\u001b[0m\u001b[0m\n\u001b[0;32m    297\u001b[0m             \u001b[1;32melse\u001b[0m\u001b[1;33m:\u001b[0m\u001b[1;33m\u001b[0m\u001b[1;33m\u001b[0m\u001b[0m\n",
      "\u001b[1;31mKeyboardInterrupt\u001b[0m: "
     ]
    }
   ],
   "source": [
    "#importing the libraries\n",
    "from sklearn.ensemble import RandomForestClassifier\n",
    "# Create the parameter grid based on the results of random search \n",
    "param_grid = {\n",
    "    'randomforestclassifier__max_depth': [4,8,10],\n",
    "    'randomforestclassifier__min_samples_leaf': range(100, 400, 200),\n",
    "    'randomforestclassifier__min_samples_split': range(200, 500, 200),\n",
    "    'randomforestclassifier__n_estimators': [100,200, 300], \n",
    "    'randomforestclassifier__max_features': [5, 10]\n",
    "}\n",
    "kf=StratifiedKFold(n_splits=3,random_state=100)\n",
    "\n",
    "imba_pipeline = make_pipeline(SMOTE(random_state=42), \n",
    "                               RandomForestClassifier())\n",
    "\n",
    "# Create a based model\n",
    "rf = RandomForestClassifier()\n",
    "# Instantiate the grid search model\n",
    "grid_search = RandomizedSearchCV(estimator = imba_pipeline, param_distributions = param_grid,scoring='roc_auc', return_train_score=True,\n",
    "                          cv = 3, n_jobs = -1,verbose = 1)\n",
    "\n",
    "# Fit the grid search to the data\n",
    "grid_search.fit(X_train, y_train)"
   ]
  },
  {
   "cell_type": "code",
   "execution_count": null,
   "metadata": {},
   "outputs": [],
   "source": [
    "grid_search.best_params_"
   ]
  },
  {
   "cell_type": "code",
   "execution_count": null,
   "metadata": {},
   "outputs": [],
   "source": [
    "pd.DataFrame(grid_search.cv_results_)"
   ]
  },
  {
   "cell_type": "code",
   "execution_count": 514,
   "metadata": {},
   "outputs": [
    {
     "data": {
      "text/plain": [
       "RandomForestClassifier(bootstrap=True, ccp_alpha=0.0, class_weight=None,\n",
       "                       criterion='gini', max_depth=10, max_features=10,\n",
       "                       max_leaf_nodes=None, max_samples=None,\n",
       "                       min_impurity_decrease=0.0, min_impurity_split=None,\n",
       "                       min_samples_leaf=100, min_samples_split=200,\n",
       "                       min_weight_fraction_leaf=0.0, n_estimators=200,\n",
       "                       n_jobs=None, oob_score=False, random_state=None,\n",
       "                       verbose=0, warm_start=False)"
      ]
     },
     "execution_count": 514,
     "metadata": {},
     "output_type": "execute_result"
    }
   ],
   "source": [
    "rf = RandomForestClassifier(n_estimators= 200,\n",
    " min_samples_split= 200,\n",
    " min_samples_leaf= 100,\n",
    " max_features= 10,\n",
    " max_depth= 10)\n",
    "rf.fit(X_train_smote,y_train_smote)    "
   ]
  },
  {
   "cell_type": "code",
   "execution_count": 515,
   "metadata": {},
   "outputs": [
    {
     "name": "stdout",
     "output_type": "stream",
     "text": [
      "[[198929     91]\n",
      " [    54    290]]\n",
      "              precision    recall  f1-score   support\n",
      "\n",
      "           0       1.00      1.00      1.00    199020\n",
      "           1       0.76      0.84      0.80       344\n",
      "\n",
      "    accuracy                           1.00    199364\n",
      "   macro avg       0.88      0.92      0.90    199364\n",
      "weighted avg       1.00      1.00      1.00    199364\n",
      "\n"
     ]
    }
   ],
   "source": [
    "from sklearn.metrics import confusion_matrix, classification_report\n",
    "pred=rf.predict(X_train)\n",
    "print(confusion_matrix(y_train, pred))\n",
    "print(classification_report(y_train, pred))"
   ]
  },
  {
   "cell_type": "code",
   "execution_count": 516,
   "metadata": {},
   "outputs": [
    {
     "name": "stdout",
     "output_type": "stream",
     "text": [
      "[[85245    50]\n",
      " [   23   125]]\n",
      "              precision    recall  f1-score   support\n",
      "\n",
      "           0       1.00      1.00      1.00     85295\n",
      "           1       0.71      0.84      0.77       148\n",
      "\n",
      "    accuracy                           1.00     85443\n",
      "   macro avg       0.86      0.92      0.89     85443\n",
      "weighted avg       1.00      1.00      1.00     85443\n",
      "\n"
     ]
    }
   ],
   "source": [
    "from sklearn.metrics import confusion_matrix, classification_report\n",
    "pred=rf.predict(X_test)\n",
    "print(confusion_matrix(y_test, pred))\n",
    "print(classification_report(y_test, pred))"
   ]
  },
  {
   "cell_type": "markdown",
   "metadata": {},
   "source": [
    "### XGBOOST"
   ]
  },
  {
   "cell_type": "code",
   "execution_count": 555,
   "metadata": {},
   "outputs": [
    {
     "data": {
      "text/plain": [
       "XGBClassifier(base_score=0.5, booster='gbtree', colsample_bylevel=1,\n",
       "              colsample_bynode=1, colsample_bytree=1, gamma=0,\n",
       "              learning_rate=0.1, max_delta_step=0, max_depth=3,\n",
       "              min_child_weight=1, missing=None, n_estimators=100, n_jobs=1,\n",
       "              nthread=None, objective='binary:logistic', random_state=0,\n",
       "              reg_alpha=0, reg_lambda=1, scale_pos_weight=1, seed=None,\n",
       "              silent=None, subsample=1, verbosity=1)"
      ]
     },
     "execution_count": 555,
     "metadata": {},
     "output_type": "execute_result"
    }
   ],
   "source": [
    "xgb_model = XGBClassifier()\n",
    "xgb_model.fit(X_train_smote,y_train_smote)"
   ]
  },
  {
   "cell_type": "code",
   "execution_count": 556,
   "metadata": {},
   "outputs": [
    {
     "name": "stdout",
     "output_type": "stream",
     "text": [
      "[[198955     65]\n",
      " [    47    297]]\n",
      "              precision    recall  f1-score   support\n",
      "\n",
      "           0       1.00      1.00      1.00    199020\n",
      "           1       0.82      0.86      0.84       344\n",
      "\n",
      "    accuracy                           1.00    199364\n",
      "   macro avg       0.91      0.93      0.92    199364\n",
      "weighted avg       1.00      1.00      1.00    199364\n",
      "\n"
     ]
    }
   ],
   "source": [
    "from sklearn.metrics import confusion_matrix, classification_report\n",
    "pred=xgb_model.predict(X_train)\n",
    "print(confusion_matrix(y_train, pred))\n",
    "print(classification_report(y_train, pred))"
   ]
  },
  {
   "cell_type": "code",
   "execution_count": 557,
   "metadata": {},
   "outputs": [
    {
     "name": "stdout",
     "output_type": "stream",
     "text": [
      "[[85246    49]\n",
      " [   23   125]]\n",
      "              precision    recall  f1-score   support\n",
      "\n",
      "           0       1.00      1.00      1.00     85295\n",
      "           1       0.72      0.84      0.78       148\n",
      "\n",
      "    accuracy                           1.00     85443\n",
      "   macro avg       0.86      0.92      0.89     85443\n",
      "weighted avg       1.00      1.00      1.00     85443\n",
      "\n"
     ]
    }
   ],
   "source": [
    "from sklearn.metrics import confusion_matrix, classification_report\n",
    "pred=xgb_model.predict(X_test)\n",
    "print(confusion_matrix(y_test, pred))\n",
    "print(classification_report(y_test, pred))"
   ]
  },
  {
   "cell_type": "markdown",
   "metadata": {},
   "source": [
    "## ADASYN"
   ]
  },
  {
   "cell_type": "code",
   "execution_count": 518,
   "metadata": {},
   "outputs": [],
   "source": [
    "#sampling\n",
    "from imblearn.over_sampling import SMOTE, ADASYN\n",
    "X_train_adasyn, y_train_adasyn = ADASYN(sampling_strategy=0.02,random_state=42).fit_resample(X_train, y_train)"
   ]
  },
  {
   "cell_type": "markdown",
   "metadata": {},
   "source": [
    "### Logistic Regression"
   ]
  },
  {
   "cell_type": "code",
   "execution_count": 519,
   "metadata": {},
   "outputs": [
    {
     "name": "stdout",
     "output_type": "stream",
     "text": [
      "Fitting 3 folds for each of 5 candidates, totalling 15 fits\n"
     ]
    },
    {
     "name": "stderr",
     "output_type": "stream",
     "text": [
      "[Parallel(n_jobs=1)]: Using backend SequentialBackend with 1 concurrent workers.\n",
      "[Parallel(n_jobs=1)]: Done  15 out of  15 | elapsed:  1.2min finished\n"
     ]
    },
    {
     "name": "stdout",
     "output_type": "stream",
     "text": [
      "{'logisticregression__C': 0.001}\n"
     ]
    }
   ],
   "source": [
    "from sklearn.model_selection import GridSearchCV\n",
    "from sklearn.model_selection import StratifiedKFold\n",
    "from imblearn.pipeline import Pipeline, make_pipeline\n",
    "#perform cross validation\n",
    "#perform hyperparameter tuning\n",
    "logst=LogisticRegression()\n",
    "kf=StratifiedKFold(n_splits=3,random_state=100)\n",
    "\n",
    "imba_pipeline = make_pipeline(SMOTE(random_state=42), \n",
    "                              LogisticRegression())\n",
    "\n",
    "params={'logisticregression__C':[0.001, 0.002, 0.005,0.007,0.01]}\n",
    "modelcv=GridSearchCV(estimator=imba_pipeline,param_grid=params,scoring='roc_auc',return_train_score=True,cv=kf,verbose=True)\n",
    "modelcv.fit(X_train,y_train)\n",
    "\n",
    "\n",
    "\n",
    "#print the optimum value of hyperparameters\n",
    "print(modelcv.best_params_)"
   ]
  },
  {
   "cell_type": "code",
   "execution_count": 520,
   "metadata": {},
   "outputs": [
    {
     "data": {
      "text/html": [
       "<div>\n",
       "<style scoped>\n",
       "    .dataframe tbody tr th:only-of-type {\n",
       "        vertical-align: middle;\n",
       "    }\n",
       "\n",
       "    .dataframe tbody tr th {\n",
       "        vertical-align: top;\n",
       "    }\n",
       "\n",
       "    .dataframe thead th {\n",
       "        text-align: right;\n",
       "    }\n",
       "</style>\n",
       "<table border=\"1\" class=\"dataframe\">\n",
       "  <thead>\n",
       "    <tr style=\"text-align: right;\">\n",
       "      <th></th>\n",
       "      <th>mean_fit_time</th>\n",
       "      <th>std_fit_time</th>\n",
       "      <th>mean_score_time</th>\n",
       "      <th>std_score_time</th>\n",
       "      <th>param_logisticregression__C</th>\n",
       "      <th>params</th>\n",
       "      <th>split0_test_score</th>\n",
       "      <th>split1_test_score</th>\n",
       "      <th>split2_test_score</th>\n",
       "      <th>mean_test_score</th>\n",
       "      <th>std_test_score</th>\n",
       "      <th>rank_test_score</th>\n",
       "      <th>split0_train_score</th>\n",
       "      <th>split1_train_score</th>\n",
       "      <th>split2_train_score</th>\n",
       "      <th>mean_train_score</th>\n",
       "      <th>std_train_score</th>\n",
       "    </tr>\n",
       "  </thead>\n",
       "  <tbody>\n",
       "    <tr>\n",
       "      <th>0</th>\n",
       "      <td>4.432234</td>\n",
       "      <td>0.157142</td>\n",
       "      <td>0.028319</td>\n",
       "      <td>0.001699</td>\n",
       "      <td>0.001</td>\n",
       "      <td>{'logisticregression__C': 0.001}</td>\n",
       "      <td>0.957221</td>\n",
       "      <td>0.982810</td>\n",
       "      <td>0.970870</td>\n",
       "      <td>0.970300</td>\n",
       "      <td>0.010455</td>\n",
       "      <td>1</td>\n",
       "      <td>0.989134</td>\n",
       "      <td>0.988021</td>\n",
       "      <td>0.989312</td>\n",
       "      <td>0.988822</td>\n",
       "      <td>0.000571</td>\n",
       "    </tr>\n",
       "    <tr>\n",
       "      <th>1</th>\n",
       "      <td>4.783925</td>\n",
       "      <td>0.194914</td>\n",
       "      <td>0.026654</td>\n",
       "      <td>0.000471</td>\n",
       "      <td>0.002</td>\n",
       "      <td>{'logisticregression__C': 0.002}</td>\n",
       "      <td>0.955890</td>\n",
       "      <td>0.981640</td>\n",
       "      <td>0.966277</td>\n",
       "      <td>0.967936</td>\n",
       "      <td>0.010578</td>\n",
       "      <td>2</td>\n",
       "      <td>0.989046</td>\n",
       "      <td>0.987428</td>\n",
       "      <td>0.989424</td>\n",
       "      <td>0.988633</td>\n",
       "      <td>0.000866</td>\n",
       "    </tr>\n",
       "    <tr>\n",
       "      <th>2</th>\n",
       "      <td>4.335183</td>\n",
       "      <td>0.122296</td>\n",
       "      <td>0.026322</td>\n",
       "      <td>0.000942</td>\n",
       "      <td>0.005</td>\n",
       "      <td>{'logisticregression__C': 0.005}</td>\n",
       "      <td>0.953934</td>\n",
       "      <td>0.981085</td>\n",
       "      <td>0.964519</td>\n",
       "      <td>0.966513</td>\n",
       "      <td>0.011174</td>\n",
       "      <td>4</td>\n",
       "      <td>0.989042</td>\n",
       "      <td>0.988165</td>\n",
       "      <td>0.989637</td>\n",
       "      <td>0.988948</td>\n",
       "      <td>0.000605</td>\n",
       "    </tr>\n",
       "    <tr>\n",
       "      <th>3</th>\n",
       "      <td>4.599365</td>\n",
       "      <td>0.080754</td>\n",
       "      <td>0.031983</td>\n",
       "      <td>0.000816</td>\n",
       "      <td>0.007</td>\n",
       "      <td>{'logisticregression__C': 0.007}</td>\n",
       "      <td>0.952995</td>\n",
       "      <td>0.982658</td>\n",
       "      <td>0.964170</td>\n",
       "      <td>0.966608</td>\n",
       "      <td>0.012232</td>\n",
       "      <td>3</td>\n",
       "      <td>0.989012</td>\n",
       "      <td>0.986323</td>\n",
       "      <td>0.988731</td>\n",
       "      <td>0.988022</td>\n",
       "      <td>0.001207</td>\n",
       "    </tr>\n",
       "    <tr>\n",
       "      <th>4</th>\n",
       "      <td>5.327947</td>\n",
       "      <td>0.190580</td>\n",
       "      <td>0.034317</td>\n",
       "      <td>0.003297</td>\n",
       "      <td>0.01</td>\n",
       "      <td>{'logisticregression__C': 0.01}</td>\n",
       "      <td>0.953157</td>\n",
       "      <td>0.981505</td>\n",
       "      <td>0.961348</td>\n",
       "      <td>0.965337</td>\n",
       "      <td>0.011912</td>\n",
       "      <td>5</td>\n",
       "      <td>0.989038</td>\n",
       "      <td>0.987764</td>\n",
       "      <td>0.989626</td>\n",
       "      <td>0.988809</td>\n",
       "      <td>0.000777</td>\n",
       "    </tr>\n",
       "  </tbody>\n",
       "</table>\n",
       "</div>"
      ],
      "text/plain": [
       "   mean_fit_time  std_fit_time  mean_score_time  std_score_time  \\\n",
       "0       4.432234      0.157142         0.028319        0.001699   \n",
       "1       4.783925      0.194914         0.026654        0.000471   \n",
       "2       4.335183      0.122296         0.026322        0.000942   \n",
       "3       4.599365      0.080754         0.031983        0.000816   \n",
       "4       5.327947      0.190580         0.034317        0.003297   \n",
       "\n",
       "  param_logisticregression__C                            params  \\\n",
       "0                       0.001  {'logisticregression__C': 0.001}   \n",
       "1                       0.002  {'logisticregression__C': 0.002}   \n",
       "2                       0.005  {'logisticregression__C': 0.005}   \n",
       "3                       0.007  {'logisticregression__C': 0.007}   \n",
       "4                        0.01   {'logisticregression__C': 0.01}   \n",
       "\n",
       "   split0_test_score  split1_test_score  split2_test_score  mean_test_score  \\\n",
       "0           0.957221           0.982810           0.970870         0.970300   \n",
       "1           0.955890           0.981640           0.966277         0.967936   \n",
       "2           0.953934           0.981085           0.964519         0.966513   \n",
       "3           0.952995           0.982658           0.964170         0.966608   \n",
       "4           0.953157           0.981505           0.961348         0.965337   \n",
       "\n",
       "   std_test_score  rank_test_score  split0_train_score  split1_train_score  \\\n",
       "0        0.010455                1            0.989134            0.988021   \n",
       "1        0.010578                2            0.989046            0.987428   \n",
       "2        0.011174                4            0.989042            0.988165   \n",
       "3        0.012232                3            0.989012            0.986323   \n",
       "4        0.011912                5            0.989038            0.987764   \n",
       "\n",
       "   split2_train_score  mean_train_score  std_train_score  \n",
       "0            0.989312          0.988822         0.000571  \n",
       "1            0.989424          0.988633         0.000866  \n",
       "2            0.989637          0.988948         0.000605  \n",
       "3            0.988731          0.988022         0.001207  \n",
       "4            0.989626          0.988809         0.000777  "
      ]
     },
     "execution_count": 520,
     "metadata": {},
     "output_type": "execute_result"
    }
   ],
   "source": [
    "pd.DataFrame(modelcv.cv_results_)"
   ]
  },
  {
   "cell_type": "code",
   "execution_count": 521,
   "metadata": {},
   "outputs": [
    {
     "data": {
      "text/plain": [
       "LogisticRegression(C=0.001, class_weight=None, dual=False, fit_intercept=True,\n",
       "                   intercept_scaling=1, l1_ratio=None, max_iter=100,\n",
       "                   multi_class='auto', n_jobs=None, penalty='l2',\n",
       "                   random_state=None, solver='lbfgs', tol=0.0001, verbose=0,\n",
       "                   warm_start=False)"
      ]
     },
     "execution_count": 521,
     "metadata": {},
     "output_type": "execute_result"
    }
   ],
   "source": [
    "logst=LogisticRegression(penalty='l2',C= 0.001)\n",
    "logst.fit(X_train_adasyn,y_train_adasyn)"
   ]
  },
  {
   "cell_type": "code",
   "execution_count": 522,
   "metadata": {},
   "outputs": [
    {
     "name": "stdout",
     "output_type": "stream",
     "text": [
      "[[198906    114]\n",
      " [    59    285]]\n",
      "              precision    recall  f1-score   support\n",
      "\n",
      "           0       1.00      1.00      1.00    199020\n",
      "           1       0.71      0.83      0.77       344\n",
      "\n",
      "    accuracy                           1.00    199364\n",
      "   macro avg       0.86      0.91      0.88    199364\n",
      "weighted avg       1.00      1.00      1.00    199364\n",
      "\n"
     ]
    }
   ],
   "source": [
    "from sklearn.metrics import confusion_matrix, classification_report\n",
    "pred=logst.predict(X_train)\n",
    "print(confusion_matrix(y_train, pred))\n",
    "print(classification_report(y_train, pred))"
   ]
  },
  {
   "cell_type": "code",
   "execution_count": 523,
   "metadata": {},
   "outputs": [
    {
     "name": "stdout",
     "output_type": "stream",
     "text": [
      "[[85233    62]\n",
      " [   27   121]]\n",
      "              precision    recall  f1-score   support\n",
      "\n",
      "           0       1.00      1.00      1.00     85295\n",
      "           1       0.66      0.82      0.73       148\n",
      "\n",
      "    accuracy                           1.00     85443\n",
      "   macro avg       0.83      0.91      0.87     85443\n",
      "weighted avg       1.00      1.00      1.00     85443\n",
      "\n"
     ]
    }
   ],
   "source": [
    "from sklearn.metrics import confusion_matrix, classification_report\n",
    "pred=logst.predict(X_test)\n",
    "print(confusion_matrix(y_test, pred))\n",
    "print(classification_report(y_test, pred))"
   ]
  },
  {
   "cell_type": "markdown",
   "metadata": {},
   "source": [
    "### RandomForest"
   ]
  },
  {
   "cell_type": "code",
   "execution_count": null,
   "metadata": {},
   "outputs": [],
   "source": [
    "#importing the libraries\n",
    "from sklearn.ensemble import RandomForestClassifier\n",
    "# Create the parameter grid based on the results of random search \n",
    "param_grid = {\n",
    "    'randomforestclassifier__max_depth': [4,8,10],\n",
    "    'randomforestclassifier__min_samples_leaf': range(100, 400, 200),\n",
    "    'randomforestclassifier__min_samples_split': range(200, 500, 200),\n",
    "    'randomforestclassifier__n_estimators': [100,200, 300], \n",
    "    'randomforestclassifier__max_features': [5, 10]\n",
    "}\n",
    "kf=StratifiedKFold(n_splits=3,random_state=100)\n",
    "\n",
    "imba_pipeline = make_pipeline(SMOTE(random_state=42), \n",
    "                               RandomForestClassifier())\n",
    "\n",
    "# Create a based model\n",
    "rf = RandomForestClassifier()\n",
    "# Instantiate the grid search model\n",
    "grid_search = RandomizedSearchCV(estimator = imba_pipeline, param_distributions = param_grid,scoring='roc_auc', return_train_score=True,\n",
    "                          cv = kf, n_jobs = -1,verbose = 1)\n",
    "\n",
    "# Fit the grid search to the data\n",
    "grid_search.fit(X_train, y_train)\n",
    "grid_search.best_params_"
   ]
  },
  {
   "cell_type": "code",
   "execution_count": null,
   "metadata": {},
   "outputs": [],
   "source": [
    "pd.DataFrame(grid_search.cv_results_)"
   ]
  },
  {
   "cell_type": "code",
   "execution_count": 524,
   "metadata": {},
   "outputs": [
    {
     "data": {
      "text/plain": [
       "RandomForestClassifier(bootstrap=True, ccp_alpha=0.0, class_weight=None,\n",
       "                       criterion='gini', max_depth=10, max_features=10,\n",
       "                       max_leaf_nodes=None, max_samples=None,\n",
       "                       min_impurity_decrease=0.0, min_impurity_split=None,\n",
       "                       min_samples_leaf=100, min_samples_split=200,\n",
       "                       min_weight_fraction_leaf=0.0, n_estimators=200,\n",
       "                       n_jobs=None, oob_score=False, random_state=None,\n",
       "                       verbose=0, warm_start=False)"
      ]
     },
     "execution_count": 524,
     "metadata": {},
     "output_type": "execute_result"
    }
   ],
   "source": [
    "rf = RandomForestClassifier(n_estimators= 200,\n",
    " min_samples_split= 200,\n",
    " min_samples_leaf= 100,\n",
    " max_features= 10,\n",
    " max_depth= 10)\n",
    "rf.fit(X_train_adasyn,y_train_adasyn)    "
   ]
  },
  {
   "cell_type": "code",
   "execution_count": 525,
   "metadata": {},
   "outputs": [
    {
     "name": "stdout",
     "output_type": "stream",
     "text": [
      "[[198912    108]\n",
      " [    47    297]]\n",
      "              precision    recall  f1-score   support\n",
      "\n",
      "           0       1.00      1.00      1.00    199020\n",
      "           1       0.73      0.86      0.79       344\n",
      "\n",
      "    accuracy                           1.00    199364\n",
      "   macro avg       0.87      0.93      0.90    199364\n",
      "weighted avg       1.00      1.00      1.00    199364\n",
      "\n"
     ]
    }
   ],
   "source": [
    "from sklearn.metrics import confusion_matrix, classification_report\n",
    "pred=rf.predict(X_train)\n",
    "print(confusion_matrix(y_train, pred))\n",
    "print(classification_report(y_train, pred))"
   ]
  },
  {
   "cell_type": "code",
   "execution_count": 526,
   "metadata": {},
   "outputs": [
    {
     "name": "stdout",
     "output_type": "stream",
     "text": [
      "[[85237    58]\n",
      " [   22   126]]\n",
      "              precision    recall  f1-score   support\n",
      "\n",
      "           0       1.00      1.00      1.00     85295\n",
      "           1       0.68      0.85      0.76       148\n",
      "\n",
      "    accuracy                           1.00     85443\n",
      "   macro avg       0.84      0.93      0.88     85443\n",
      "weighted avg       1.00      1.00      1.00     85443\n",
      "\n"
     ]
    }
   ],
   "source": [
    "from sklearn.metrics import confusion_matrix, classification_report\n",
    "pred=rf.predict(X_test)\n",
    "print(confusion_matrix(y_test, pred))\n",
    "print(classification_report(y_test, pred))"
   ]
  },
  {
   "cell_type": "markdown",
   "metadata": {},
   "source": [
    "### XGBOOST"
   ]
  },
  {
   "cell_type": "code",
   "execution_count": 559,
   "metadata": {},
   "outputs": [
    {
     "data": {
      "text/plain": [
       "XGBClassifier(base_score=0.5, booster='gbtree', colsample_bylevel=1,\n",
       "              colsample_bynode=1, colsample_bytree=1, gamma=0,\n",
       "              learning_rate=0.1, max_delta_step=0, max_depth=3,\n",
       "              min_child_weight=1, missing=None, n_estimators=100, n_jobs=1,\n",
       "              nthread=None, objective='binary:logistic', random_state=0,\n",
       "              reg_alpha=0, reg_lambda=1, scale_pos_weight=1, seed=None,\n",
       "              silent=None, subsample=1, verbosity=1)"
      ]
     },
     "execution_count": 559,
     "metadata": {},
     "output_type": "execute_result"
    }
   ],
   "source": [
    "xgb_model = XGBClassifier()\n",
    "xgb_model.fit(X_train_adasyn,y_train_adasyn)"
   ]
  },
  {
   "cell_type": "code",
   "execution_count": 560,
   "metadata": {},
   "outputs": [
    {
     "name": "stdout",
     "output_type": "stream",
     "text": [
      "[[195943   3077]\n",
      " [     8    336]]\n",
      "              precision    recall  f1-score   support\n",
      "\n",
      "           0       1.00      0.98      0.99    199020\n",
      "           1       0.10      0.98      0.18       344\n",
      "\n",
      "    accuracy                           0.98    199364\n",
      "   macro avg       0.55      0.98      0.59    199364\n",
      "weighted avg       1.00      0.98      0.99    199364\n",
      "\n"
     ]
    }
   ],
   "source": [
    "from sklearn.metrics import confusion_matrix, classification_report\n",
    "pred=xgb_model.predict(X_train)\n",
    "print(confusion_matrix(y_train, pred))\n",
    "print(classification_report(y_train, pred))"
   ]
  },
  {
   "cell_type": "code",
   "execution_count": 561,
   "metadata": {},
   "outputs": [
    {
     "name": "stdout",
     "output_type": "stream",
     "text": [
      "[[83997  1298]\n",
      " [   18   130]]\n",
      "              precision    recall  f1-score   support\n",
      "\n",
      "           0       1.00      0.98      0.99     85295\n",
      "           1       0.09      0.88      0.16       148\n",
      "\n",
      "    accuracy                           0.98     85443\n",
      "   macro avg       0.55      0.93      0.58     85443\n",
      "weighted avg       1.00      0.98      0.99     85443\n",
      "\n"
     ]
    }
   ],
   "source": [
    "from sklearn.metrics import confusion_matrix, classification_report\n",
    "pred=xgb_model.predict(X_test)\n",
    "print(confusion_matrix(y_test, pred))\n",
    "print(classification_report(y_test, pred))"
   ]
  },
  {
   "cell_type": "markdown",
   "metadata": {},
   "source": [
    "### Print the class distribution after applying SMOTE "
   ]
  },
  {
   "cell_type": "code",
   "execution_count": 527,
   "metadata": {},
   "outputs": [
    {
     "data": {
      "text/plain": [
       "<matplotlib.legend.Legend at 0x18608c876a0>"
      ]
     },
     "execution_count": 527,
     "metadata": {},
     "output_type": "execute_result"
    },
    {
     "data": {
      "image/png": "[encoded data removed]",
      "text/plain": [
       "<Figure size 1440x1440 with 3 Axes>"
      ]
     },
     "metadata": {
      "needs_background": "light"
     },
     "output_type": "display_data"
    }
   ],
   "source": [
    "import warnings\n",
    "warnings.filterwarnings(\"ignore\")\n",
    "\n",
    "\n",
    "sm = over_sampling.SMOTE(random_state=0)\n",
    "X_train_smote, y_train_smote = sm.fit_resample(X_train, y_train)\n",
    "# Artificial minority samples and corresponding minority labels from SMOTE are appended\n",
    "# below X_train and y_train respectively\n",
    "# So to exclusively get the artificial minority samples from SMOTE, we do\n",
    "X_train_smote_1 = X_train_smote[X_train.shape[0]:].to_numpy()\n",
    "\n",
    "X_train_1 = X_train.to_numpy()[np.where(y_train==1.0)]\n",
    "X_train_0 = X_train.to_numpy()[np.where(y_train==0.0)]\n",
    "\n",
    "\n",
    "plt.rcParams['figure.figsize'] = [20, 20]\n",
    "fig = plt.figure()\n",
    "\n",
    "plt.subplot(3, 1, 1)\n",
    "plt.scatter(X_train_1[:, 0], X_train_1[:, 1], label='Actual Class-1 Examples')\n",
    "plt.legend()\n",
    "\n",
    "plt.subplot(3, 1, 2)\n",
    "plt.scatter(X_train_1[:, 0], X_train_1[:, 1], label='Actual Class-1 Examples')\n",
    "plt.scatter(X_train_smote_1[:X_train_1.shape[0], 0], X_train_smote_1[:X_train_1.shape[0], 1],\n",
    "            label='Artificial SMOTE Class-1 Examples')\n",
    "plt.legend()\n",
    "\n",
    "plt.subplot(3, 1, 3)\n",
    "plt.scatter(X_train_1[:, 0], X_train_1[:, 1], label='Actual Class-1 Examples')\n",
    "plt.scatter(X_train_0[:X_train_1.shape[0], 0], X_train_0[:X_train_1.shape[0], 1], label='Actual Class-0 Examples')\n",
    "plt.legend()"
   ]
  },
  {
   "cell_type": "markdown",
   "metadata": {},
   "source": [
    "### Print the class distribution after applying ADASYN"
   ]
  },
  {
   "cell_type": "code",
   "execution_count": 528,
   "metadata": {},
   "outputs": [
    {
     "data": {
      "text/plain": [
       "<matplotlib.legend.Legend at 0x18608f52a90>"
      ]
     },
     "execution_count": 528,
     "metadata": {},
     "output_type": "execute_result"
    },
    {
     "data": {
      "image/png": "[encoded data removed]",
      "text/plain": [
       "<Figure size 1440x1440 with 3 Axes>"
      ]
     },
     "metadata": {
      "needs_background": "light"
     },
     "output_type": "display_data"
    }
   ],
   "source": [
    "import warnings\n",
    "warnings.filterwarnings(\"ignore\")\n",
    "\n",
    "from imblearn import over_sampling\n",
    "\n",
    "ada = over_sampling.ADASYN(random_state=0)\n",
    "X_train_adasyn, y_train_adasyn = ada.fit_resample(X_train, y_train)\n",
    "# Artificial minority samples and corresponding minority labels from ADASYN are appended\n",
    "# below X_train and y_train respectively\n",
    "# So to exclusively get the artificial minority samples from ADASYN, we do\n",
    "X_train_adasyn_1 = X_train_adasyn[X_train.shape[0]:].to_numpy()\n",
    "\n",
    "X_train_1 = X_train.to_numpy()[np.where(y_train==1.0)]\n",
    "X_train_0 = X_train.to_numpy()[np.where(y_train==0.0)]\n",
    "\n",
    "\n",
    "\n",
    "import matplotlib.pyplot as plt\n",
    "%matplotlib inline\n",
    "plt.rcParams['figure.figsize'] = [20, 20]\n",
    "fig = plt.figure()\n",
    "\n",
    "plt.subplot(3, 1, 1)\n",
    "plt.scatter(X_train_1[:, 0], X_train_1[:, 1], label='Actual Class-1 Examples')\n",
    "plt.legend()\n",
    "\n",
    "plt.subplot(3, 1, 2)\n",
    "plt.scatter(X_train_1[:, 0], X_train_1[:, 1], label='Actual Class-1 Examples')\n",
    "plt.scatter(X_train_adasyn_1[:X_train_1.shape[0], 0], X_train_adasyn_1[:X_train_1.shape[0], 1],\n",
    "            label='Artificial ADASYN Class-1 Examples')\n",
    "plt.legend()\n",
    "\n",
    "plt.subplot(3, 1, 3)\n",
    "plt.scatter(X_train_1[:, 0], X_train_1[:, 1], label='Actual Class-1 Examples')\n",
    "plt.scatter(X_train_0[:X_train_1.shape[0], 0], X_train_0[:X_train_1.shape[0], 1], label='Actual Class-0 Examples')\n",
    "plt.legend()"
   ]
  },
  {
   "cell_type": "markdown",
   "metadata": {},
   "source": [
    "### Select the oversampling method which shows the best result on a model\n",
    "- Apply the best hyperparameter on the model\n",
    "- Predict on the test dataset"
   ]
  },
  {
   "cell_type": "code",
   "execution_count": 539,
   "metadata": {},
   "outputs": [
    {
     "name": "stdout",
     "output_type": "stream",
     "text": [
      "0.9085434414424977\n"
     ]
    }
   ],
   "source": [
    "# perform the best oversampling method on X_train & y_train\n",
    "#sampling\n",
    "from imblearn.over_sampling import SMOTE, ADASYN\n",
    "X_train_smote, y_train_smote = SMOTE(sampling_strategy=0.02,random_state=42).fit_resample(X_train, y_train)\n",
    "\n",
    "clf = LogisticRegression(penalty='l2',C= 0.001)  #initialise the model with optimum hyperparameters\n",
    "clf.fit(X_train_smote,y_train_smote) # fit on the balanced dataset\n",
    "auc_score=metrics.roc_auc_score( y_test, clf.predict(X_test) )\n",
    "print(auc_score) #print the evaluation score on the X_test by choosing the best evaluation metric"
   ]
  },
  {
   "cell_type": "markdown",
   "metadata": {},
   "source": [
    "### Print the important features of the best model to understand the dataset"
   ]
  },
  {
   "cell_type": "code",
   "execution_count": 531,
   "metadata": {},
   "outputs": [
    {
     "name": "stdout",
     "output_type": "stream",
     "text": [
      "Top var = 4\n",
      "2nd Top var = 11\n",
      "3rd Top var = 21\n"
     ]
    },
    {
     "data": {
      "text/plain": [
       "<matplotlib.legend.Legend at 0x18614559e48>"
      ]
     },
     "execution_count": 531,
     "metadata": {},
     "output_type": "execute_result"
    },
    {
     "data": {
      "image/png": "[encoded data removed]",
      "text/plain": [
       "<Figure size 1440x1440 with 1 Axes>"
      ]
     },
     "metadata": {
      "needs_background": "light"
     },
     "output_type": "display_data"
    }
   ],
   "source": [
    "var_imp = []\n",
    "for i in clf.coef_[0]:\n",
    "    var_imp.append(i)\n",
    "print('Top var =', var_imp.index(np.sort(clf.coef_[0])[-1])+1)\n",
    "print('2nd Top var =', var_imp.index(np.sort(clf.coef_[0])[-2])+1)\n",
    "print('3rd Top var =', var_imp.index(np.sort(clf.coef_[0])[-3])+1)\n",
    "\n",
    "# Variable on Index-13 and Index-9 seems to be the top 2 variables\n",
    "top_var_index = var_imp.index(np.sort(clf.coef_[0])[-1])\n",
    "second_top_var_index = var_imp.index(np.sort(clf.coef_[0])[-2])\n",
    "\n",
    "X_train_1 = X_train.to_numpy()[np.where(y_train==1.0)]\n",
    "X_train_0 = X_train.to_numpy()[np.where(y_train==0.0)]\n",
    "\n",
    "np.random.shuffle(X_train_0)\n",
    "\n",
    "import matplotlib.pyplot as plt\n",
    "%matplotlib inline\n",
    "plt.rcParams['figure.figsize'] = [20, 20]\n",
    "\n",
    "plt.scatter(X_train_1[:, top_var_index], X_train_1[:, second_top_var_index], label='Actual Class-1 Examples')\n",
    "plt.scatter(X_train_0[:X_train_1.shape[0], top_var_index], X_train_0[:X_train_1.shape[0], second_top_var_index],\n",
    "            label='Actual Class-0 Examples')\n",
    "plt.legend()"
   ]
  },
  {
   "cell_type": "code",
   "execution_count": null,
   "metadata": {},
   "outputs": [],
   "source": [
    "#### Print the FPR,TPR & select the best threshold from the roc curve"
   ]
  },
  {
   "cell_type": "code",
   "execution_count": 541,
   "metadata": {},
   "outputs": [
    {
     "name": "stdout",
     "output_type": "stream",
     "text": [
      "Train auc = 0.9085434414424977\n",
      "1\n"
     ]
    }
   ],
   "source": [
    "auc_score=metrics.roc_auc_score( y_test, clf.predict(X_test) )\n",
    "print('Train auc =', auc_score)\n",
    "fpr, tpr, thresholds = metrics.roc_curve( y_test, clf.predict(X_test))\n",
    "threshold = thresholds[np.argmax(tpr-fpr)]\n",
    "print(threshold)"
   ]
  },
  {
   "cell_type": "code",
   "execution_count": 542,
   "metadata": {},
   "outputs": [
    {
     "name": "stdout",
     "output_type": "stream",
     "text": [
      "[[198953     67]\n",
      " [    63    281]]\n",
      "              precision    recall  f1-score   support\n",
      "\n",
      "           0       1.00      1.00      1.00    199020\n",
      "           1       0.81      0.82      0.81       344\n",
      "\n",
      "    accuracy                           1.00    199364\n",
      "   macro avg       0.90      0.91      0.91    199364\n",
      "weighted avg       1.00      1.00      1.00    199364\n",
      "\n"
     ]
    }
   ],
   "source": [
    "from sklearn.metrics import confusion_matrix, classification_report\n",
    "pred=clf.predict(X_train)\n",
    "print(confusion_matrix(y_train, pred))\n",
    "print(classification_report(y_train, pred))"
   ]
  },
  {
   "cell_type": "markdown",
   "metadata": {},
   "source": [
    "**Choosing Thershold 0.5 since precision and recall are almost same**"
   ]
  },
  {
   "cell_type": "code",
   "execution_count": 543,
   "metadata": {},
   "outputs": [
    {
     "name": "stdout",
     "output_type": "stream",
     "text": [
      "[[85254    41]\n",
      " [   27   121]]\n",
      "              precision    recall  f1-score   support\n",
      "\n",
      "           0       1.00      1.00      1.00     85295\n",
      "           1       0.75      0.82      0.78       148\n",
      "\n",
      "    accuracy                           1.00     85443\n",
      "   macro avg       0.87      0.91      0.89     85443\n",
      "weighted avg       1.00      1.00      1.00     85443\n",
      "\n"
     ]
    }
   ],
   "source": [
    "from sklearn.metrics import confusion_matrix, classification_report\n",
    "pred=clf.predict(X_test)\n",
    "print(confusion_matrix(y_test, pred))\n",
    "print(classification_report(y_test, pred))"
   ]
  },
  {
   "cell_type": "code",
   "execution_count": null,
   "metadata": {},
   "outputs": [],
   "source": []
  }
 ],
 "metadata": {
  "kernelspec": {
   "display_name": "Python 3",
   "language": "python",
   "name": "python3"
  },
  "language_info": {
   "codemirror_mode": {
    "name": "ipython",
    "version": 3
   },
   "file_extension": ".py",
   "mimetype": "text/x-python",
   "name": "python",
   "nbconvert_exporter": "python",
   "pygments_lexer": "ipython3",
   "version": "3.6.10"
  }
 },
 "nbformat": 4,
 "nbformat_minor": 2
}
